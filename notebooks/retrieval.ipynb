{
 "cells": [
  {
   "cell_type": "code",
   "execution_count": 1,
   "id": "034509b5-ee76-497b-b4aa-453d230f77dd",
   "metadata": {},
   "outputs": [],
   "source": [
    "# !pip install chromadb sentence_transformers"
   ]
  },
  {
   "cell_type": "code",
   "execution_count": 2,
   "id": "28f80ec0-ab46-4c03-8aaf-ffcbd5fa5307",
   "metadata": {},
   "outputs": [],
   "source": [
    "from pathlib import Path\n",
    "\n",
    "DATA_DIR = Path(\"../data\")\n",
    "SNAPSHOTS_DIR = DATA_DIR / \"platform-docs-snapshots\"\n",
    "VERSIONS_DIR = DATA_DIR / \"platform-docs-versions\"\n",
    "\n",
    "# hparams\n",
    "chunk_size = 1024\n",
    "chunk_overlap = chunk_size // 10\n",
    "embedder_name = \"BAAI/bge-small-en-v1.5\" # https://huggingface.co/spaces/mteb/leaderboard"
   ]
  },
  {
   "cell_type": "markdown",
   "id": "ad3036fd-e9ba-4346-88be-2aa4bf1decd1",
   "metadata": {},
   "source": [
    "# Pre-processing"
   ]
  },
  {
   "cell_type": "code",
   "execution_count": 3,
   "id": "9eed5429-7f5c-4ccb-ae94-e80ab48b4096",
   "metadata": {},
   "outputs": [],
   "source": [
    "from langchain_community.document_loaders import UnstructuredMarkdownLoader, DirectoryLoader, TextLoader\n",
    "from langchain.text_splitter import RecursiveCharacterTextSplitter\n",
    "\n",
    "docs = DirectoryLoader(VERSIONS_DIR, glob=\"[!.]*/[!.]*.md\", loader_cls=TextLoader).load()\n",
    "docs = [d for d in docs if Path(d.metadata['source']) != VERSIONS_DIR / \"README.md\"]"
   ]
  },
  {
   "cell_type": "code",
   "execution_count": 4,
   "id": "5689dd09-6a32-4480-9a76-77ead60d6a95",
   "metadata": {
    "scrolled": true
   },
   "outputs": [],
   "source": [
    "text_splitter = RecursiveCharacterTextSplitter(chunk_size=chunk_size, chunk_overlap=chunk_overlap)\n",
    "docs_split = text_splitter.split_documents(docs)"
   ]
  },
  {
   "cell_type": "code",
   "execution_count": 5,
   "id": "15efe7cd-aefa-4b6d-8aab-c77c0c4881ef",
   "metadata": {},
   "outputs": [],
   "source": [
    "def format_document_source(document):\n",
    "    source = Path(document[0].metadata['source'])\n",
    "    return f\"{source.parts[-2]}: {source.stem}\".replace(\"-\", \" \")"
   ]
  },
  {
   "cell_type": "markdown",
   "id": "08f4f138-c050-4187-8cc5-4cd8ad0abac7",
   "metadata": {},
   "source": [
    "# Build index"
   ]
  },
  {
   "cell_type": "code",
   "execution_count": 6,
   "id": "3e4b1d3b-5652-4818-adc4-117f062058ae",
   "metadata": {},
   "outputs": [],
   "source": [
    "import uuid\n",
    "from tqdm.notebook import tqdm\n",
    "import chromadb\n",
    "from chromadb.utils import embedding_functions\n",
    "import re\n",
    "\n",
    "# Chroma uses all-MiniLM-L6-v2 by default\n",
    "chroma_client = chromadb.PersistentClient()\n",
    " \n",
    "def format_model_name(name):\n",
    "    # chromaDB only allows these characters\n",
    "    return re.sub(r'[^a-zA-Z0-9_-]', '_', name)\n",
    "\n",
    "collection_name = f\"DSA_{format_model_name(embedder_name)}\"\n",
    "\n",
    "try:\n",
    "    collection = chroma_client.get_collection(collection_name)\n",
    "except ValueError:\n",
    "    print(\"Building collection...\")\n",
    "    embedding_fn = embedding_functions.SentenceTransformerEmbeddingFunction(embedder_name=embedder_name)\n",
    "\n",
    "    collection = chroma_client.create_collection(name=collection_name, embedding_function=embedding_fn)\n",
    "    \n",
    "    text = [d.page_content for d in docs_split]\n",
    "    metadatas = [d.metadata for d in docs_split]\n",
    "    ids = [uuid.uuid4().hex for _ in range(len(docs_split))]\n",
    "    \n",
    "    collection.add(\n",
    "        documents=text,\n",
    "        metadatas=metadatas,\n",
    "        ids=ids,\n",
    "    )"
   ]
  },
  {
   "cell_type": "code",
   "execution_count": null,
   "id": "da09d60a-4d80-4017-a2f8-1b3b2dd4215e",
   "metadata": {
    "scrolled": true
   },
   "outputs": [],
   "source": []
  },
  {
   "cell_type": "code",
   "execution_count": 7,
   "id": "52a5a339-bb17-4d6e-8ca2-a96e46a028e5",
   "metadata": {},
   "outputs": [
    {
     "data": {
      "text/plain": [
       "{'ids': [['beba62a4cde34a21bf0d417cb1e5de3b',\n",
       "   '34c54707c3f0432b9115dffc66f20f27',\n",
       "   '0ddfb6efa24f4ac7bbc0ea3fb20aa9d4',\n",
       "   '90eb6b77692e45179702e3c8735f265d',\n",
       "   '1cf2cf83ee5f4e91a18dc12bdd1e4478']],\n",
       " 'distances': [[1.585018277168274,\n",
       "   1.5988060235977173,\n",
       "   1.6000548601150513,\n",
       "   1.6002038717269897,\n",
       "   1.6082261800765991]],\n",
       " 'metadatas': [[{'source': '../data/platform-docs-versions/X_Twitter-API-Enterprise/Account Activity API.md'},\n",
       "   {'source': '../data/platform-docs-versions/X_Twitter-API-Enterprise/Account Activity API.md'},\n",
       "   {'source': '../data/platform-docs-versions/X_Twitter-API-Enterprise/Engagement API.md'},\n",
       "   {'source': '../data/platform-docs-versions/X_Twitter-API-Enterprise/Account Activity API.md'},\n",
       "   {'source': '../data/platform-docs-versions/X_Twitter-API-Enterprise/Account Activity API.md'}]],\n",
       " 'embeddings': None,\n",
       " 'documents': [[\"The Account Activity API has a number of benefits:\\n\\n1. **Speed**: we deliver data at the speed of Twitter.\\n2. **Simplicity**: we deliver all of an account's events, through one single webhook connection. The activities delivered in the API include Tweets, @mentions, replies, Retweets, Quote Tweets, Retweets of Quote Tweets, favorites, Direct Messages sent, Direct Messages received, follows, blocks, mutes.\\xa0\\n3. **Scale**: you receive all of the activities for an account that you manage without being restricted by any rate limits of event caps.\\n\\nThe Account Activity API is available as a premium sandbox, premium paid, and enterprise offering, so you can scale as you require more accounts for liability features or additional functionality.\\n\\nTo get started, visit the [playbook](https://developer.twitter.com/content/developer-twitter/en/docs/tutorials/customer-engagement-application-playbook)\\xa0or download sample code snippets from [GitHub](https://github.com/twitterdev/account-activity-dashboard).\",\n",
       "   \"We've created a sample app to make testing the Account Activity API a little quicker:\\xa0 \\xa0\\n\\n* Download the Account Activity Dashboard sample application [here](https://github.com/twitterdev/Account-Activity-dashboard) (it uses Node.js)\\n* Follow the instructions on the README to install and launch the app\\n* Once the application has been launched, you can use the UI to easily set up your webhook and create a new subscription\\n\\n### Available Activities\",\n",
       "   'A developer’s ‘getting started’ guide\\n\\nDeveloper getting started guide\\n-------------------------------\\n\\n### Introduction\\n\\nThe purpose of this documentation is to provide developers an introduction to integrating with the Engagement API. We’ll start off by discussing the ‘whys’ of integrating, then start digging into the technical ‘how’ details.\\n\\n#### What does the Engagement API provide?',\n",
       "   '### New features\\n\\nThe Account Activity API offers many new features, most notably that data is now delivered via webhooks as opposed to streaming. Webhooks offer many benefits compared to streaming, but the most prominent are speed and reliability. The API will send you data in the form of JSON events as they become available and you will no longer need to maintain an active connection or poll the endpoint. This limits the need for redundancy features and increases efficiency overall. More information on webhooks can be found in the\\xa0[technical documentation](https://developer.twitter.com/content/developer-twitter/en/docs/twitter-api/enterprise/account-activity-api/guides/getting-started-with-webhooks).  \\n  \\n\\n### Managing user subscriptions',\n",
       "   \"Getting started with webhooks\\n\\n**Enterprise**\\n\\nGetting started with webhooks\\n-----------------------------\\n\\nThe Account Activity API is a webhook-based API that sends account events to a web app you develop, deploy and host.\\xa0\\n\\nThere are several 'plumbing' details that need attention before you can start receiving webhook events in your event consumer application. As described below, you will need to create a Twitter app, obtain Account Activity API access, and develop a web app that consumes webhook events.\\xa0\\n\\n### 1\\\\. Create a Twitter app.\"]],\n",
       " 'uris': None,\n",
       " 'data': None}"
      ]
     },
     "execution_count": 7,
     "metadata": {},
     "output_type": "execute_result"
    }
   ],
   "source": [
    "results = collection.query(\n",
    "    query_texts=[\"How does the TikTok API work?\"],\n",
    "    n_results=5,\n",
    ")\n",
    "\n",
    "results"
   ]
  },
  {
   "cell_type": "code",
   "execution_count": null,
   "id": "0c5de291-8e06-46f3-bcd8-fe0ec2410401",
   "metadata": {},
   "outputs": [],
   "source": []
  }
 ],
 "metadata": {
  "kernelspec": {
   "display_name": "Python 3 (ipykernel)",
   "language": "python",
   "name": "python3"
  },
  "language_info": {
   "codemirror_mode": {
    "name": "ipython",
    "version": 3
   },
   "file_extension": ".py",
   "mimetype": "text/x-python",
   "name": "python",
   "nbconvert_exporter": "python",
   "pygments_lexer": "ipython3",
   "version": "3.10.13"
  }
 },
 "nbformat": 4,
 "nbformat_minor": 5
}
