{
 "cells": [
  {
   "cell_type": "code",
   "execution_count": 1,
   "id": "a56c60e9-fe84-4d03-bf05-0bd36c08e5a2",
   "metadata": {},
   "outputs": [],
   "source": [
    "# !pip install langchain chromadb ctransformers transformers sentence_transformers\n",
    "# Apple silicon:\n",
    "# !pip uninstall ctransformers\n",
    "# !CT_METAL=1 pip install ctransformers --no-binary ctransformers"
   ]
  },
  {
   "cell_type": "code",
   "execution_count": 2,
   "id": "c5d3155f-1e4b-4f01-9056-05e2be6aaa65",
   "metadata": {},
   "outputs": [],
   "source": [
    "from pathlib import Path\n",
    "from pprint import pprint\n",
    "\n",
    "DATA_DIR = Path(\"../data\")\n",
    "SNAPSHOTS_DIR = DATA_DIR / \"platform-docs-snapshots\"\n",
    "VERSIONS_DIR = DATA_DIR / \"platform-docs-versions\""
   ]
  },
  {
   "cell_type": "markdown",
   "id": "3ece42cd-9d32-4eda-99a6-984393c105aa",
   "metadata": {},
   "source": [
    "# Load data"
   ]
  },
  {
   "cell_type": "code",
   "execution_count": 3,
   "id": "b7370951-a3d5-408f-961f-03b88d3e94a1",
   "metadata": {},
   "outputs": [
    {
     "data": {
      "text/plain": [
       "[\"How to get the number of likes of a TikTok post. I'd like an example query and an explanation of the parameters used.\"]"
      ]
     },
     "execution_count": 3,
     "metadata": {},
     "output_type": "execute_result"
    }
   ],
   "source": [
    "from data import get_training_data\n",
    "\n",
    "train_queries, train_answers, train_context = get_training_data()\n",
    "\n",
    "query = [train_queries[-3]]\n",
    "query"
   ]
  },
  {
   "cell_type": "code",
   "execution_count": 4,
   "id": "febb8e8b-c1aa-4bb1-9230-2a5ddf97dc99",
   "metadata": {},
   "outputs": [],
   "source": [
    "from langchain_community.document_loaders import UnstructuredMarkdownLoader, DirectoryLoader, TextLoader\n",
    "from langchain.text_splitter import RecursiveCharacterTextSplitter\n",
    "\n",
    "docs = DirectoryLoader(VERSIONS_DIR, glob=\"[!.]*/[!.]*.md\", loader_cls=TextLoader).load()\n",
    "docs = [d for d in docs if Path(d.metadata['source']) != VERSIONS_DIR / \"README.md\"]"
   ]
  },
  {
   "cell_type": "code",
   "execution_count": 5,
   "id": "8aab2336-8f05-4e14-8fe8-57634f7a564e",
   "metadata": {},
   "outputs": [
    {
     "name": "stdout",
     "output_type": "stream",
     "text": [
      "Counter({'en': 131, 'fr': 8})\n"
     ]
    }
   ],
   "source": [
    "import langdetect\n",
    "from collections import Counter\n",
    "\n",
    "languages = [langdetect.detect(d.page_content) for d in docs]\n",
    "\n",
    "for doc, language in zip(docs, languages):\n",
    "    doc.metadata[\"language\"] = language\n",
    "\n",
    "print(Counter(languages))"
   ]
  },
  {
   "cell_type": "markdown",
   "id": "282c9a46-5ede-4176-84e4-bec90ca1a186",
   "metadata": {},
   "source": [
    "# Load Retriever, build index"
   ]
  },
  {
   "cell_type": "code",
   "execution_count": 6,
   "id": "bc18b8c5-1fb3-4ab1-bf6a-be3a0a1f690a",
   "metadata": {},
   "outputs": [
    {
     "name": "stdout",
     "output_type": "stream",
     "text": [
      "Loading index from .ragatouille/colbert/indexes/DSA...\n",
      "[Jan 30, 23:53:54] Loading segmented_maxsim_cpp extension (set COLBERT_LOAD_TORCH_EXTENSION_VERBOSE=True for more info)...\n"
     ]
    },
    {
     "name": "stderr",
     "output_type": "stream",
     "text": [
      "/Users/eelco/.pyenv/versions/3.10.13/envs/rag/lib/python3.10/site-packages/torch/cuda/amp/grad_scaler.py:125: UserWarning: torch.cuda.amp.GradScaler is enabled, but CUDA is not available.  Disabling.\n",
      "  warnings.warn(\n"
     ]
    }
   ],
   "source": [
    "from retrievers.chroma_dpr import ChromaRetriever\n",
    "from retrievers.colbert import ColbertRetriever\n",
    "import re\n",
    "\n",
    "retriever = ColbertRetriever()\n",
    "collection_name = \"DSA\"\n",
    "retriever.build(docs, collection_name)"
   ]
  },
  {
   "cell_type": "code",
   "execution_count": 9,
   "id": "815650d9-38b6-4792-9c77-4f0230755f5d",
   "metadata": {},
   "outputs": [
    {
     "name": "stderr",
     "output_type": "stream",
     "text": [
      "/Users/eelco/.pyenv/versions/3.10.13/envs/rag/lib/python3.10/site-packages/torch/amp/autocast_mode.py:250: UserWarning: User provided device_type of 'cuda', but CUDA is not available. Disabling\n",
      "  warnings.warn(\n",
      "1it [00:00, 133.97it/s]\n"
     ]
    }
   ],
   "source": [
    "results = retriever.query(\n",
    "    query=[\"How do I get activity logs from the Twitter API?\"],\n",
    "    k=5,\n",
    ")"
   ]
  },
  {
   "cell_type": "code",
   "execution_count": 10,
   "id": "79218ad7-6df0-4c3e-a97f-abd815965c66",
   "metadata": {},
   "outputs": [
    {
     "data": {
      "text/plain": [
       "[{'content': \"When you apply for Account Activity API access, you'll need this app ID.  \\n    \\xa0\\n\\n### 2\\\\. Get Account Activity API access\\n\\nAfter creating a Twitter app, the next step is applying for Account Activity API access.\\xa0\\n\\nThose needing enterprise level access to more than 250 account subscriptions and 3+ webhooks will need to submit an application at the following link. If you can satisfy your use case with less access than this, you may want to check out [Account Activity API premium](https://developer.twitter.com/en/docs/twitter-api/premium/account-activity-api/overview).\\xa0\\n\\n[Apply for Enterprise access](https://developer.twitter.com/en/enterprise-application.html)\\n\\n### 3\\\\. Develop webhook consumer app\\n\\nOnce you have received Account Activity API access, you need to develop, deploy and host a web app that will receive Twitter webhook events.\\xa0\\n\\n* Create a web app with a URL to use as your webhook to receive events. This is the endpoint deployed on your server to listen for incoming Twitter webhook events.\\xa0\\n    * The URI\\xa0_path_\\xa0is completely up to you.\",\n",
       "  'score': 22.61319923400879,\n",
       "  'rank': 1,\n",
       "  'document_id': '06293c96-26eb-468d-8f33-b2c5a9248ca5',\n",
       "  'document_metadata': {'source': '../data/platform-docs-versions/X_Twitter-API-Enterprise/Account Activity API.md',\n",
       "   'language': 'en'}},\n",
       " {'content': '* Create a web app with a URL to use as your webhook to receive events. This is the endpoint deployed on your server to listen for incoming Twitter webhook events.\\xa0\\n    * The URI\\xa0_path_\\xa0is completely up to you. This example would be valid: https://mydomain.com_/service/listen_  \\n        \\n    * If you are listening for webhooks from a variety of sources, a common pattern is: https://mydomain.com/webhook/twitter\\n    * Note that the specified URL can not include a port specification (https://mydomain.com:5000/NoWorkie).\\n* As described in our\\xa0[Securing Webhooks](https://developer.twitter.com/content/developer-twitter/en/docs/twitter-api/enterprise/account-activity-api/guides/securing-webhooks)\\xa0guide, a first step is writing code that receives a Twitter Challenge Response Check (CRC) GET request and responds with a properly formatted JSON response.\\xa0\\n* Register your webhook URL. You will make a POST request to a\\xa0/webhooks.json?url= endpoint. When you make this request Twitter will issue a CRC request to your web app. When a webhook is successfully registered, the response will include a webhook\\xa0id.',\n",
       "  'score': 21.356101989746094,\n",
       "  'rank': 2,\n",
       "  'document_id': '06293c96-26eb-468d-8f33-b2c5a9248ca5',\n",
       "  'document_metadata': {'source': '../data/platform-docs-versions/X_Twitter-API-Enterprise/Account Activity API.md',\n",
       "   'language': 'en'}},\n",
       " {'content': 'This Twitter app can also be used for Account Activity API to retain authorized users for that application.\\xa0 A new app can also be created, and users can be re-authorized for this new app if desired.\\xa0 If you are creating a new app on behalf of a business, it is recommended that you create the app with a corporate Twitter @handle account.\\n\\n* Enable “Read, Write and Access direct messages” on the [permissions](https://developer.twitter.com/content/developer-twitter/en/docs/basics/authentication/overview/application-permission-model) tab of your Twitter app page.\\xa0  \\n    \\\\*Note that changing these settings is not retroactive, any authorized users will keep the authorization settings from the time at which they were authorized. If a user has not already given you read, write and direct message access, you will need to have that user re-authorize your application.\\n* If you are unfamiliar with [Twitter Sign-in](https://developer.twitter.com/content/developer-twitter/en/docs/authentication/guides/log-in-with-twitter) and how user contexts work with the Twitter API review [Obtaining Access Tokens](https://dev.twitter.com/webhooks/access-tokens).',\n",
       "  'score': 21.32469940185547,\n",
       "  'rank': 3,\n",
       "  'document_id': '06293c96-26eb-468d-8f33-b2c5a9248ca5',\n",
       "  'document_metadata': {'source': '../data/platform-docs-versions/X_Twitter-API-Enterprise/Account Activity API.md',\n",
       "   'language': 'en'}},\n",
       " {'content': '* Register your webhook URL. You will make a POST request to a\\xa0/webhooks.json?url= endpoint. When you make this request Twitter will issue a CRC request to your web app. When a webhook is successfully registered, the response will include a webhook\\xa0id. This webhook\\xa0id\\xa0is needed later when making some requests to the Account Activity API.\\xa0  \\n    \\n* Twitter will send account webhook events to the URL you registered. Make sure your web app supports POST requests for incoming events. These events will be encoded in JSON. See\\xa0[HERE](https://developer.twitter.com/en/docs/twitter-api/enterprise/account-activity-api/guides/account-activity-data-objects) for example webhook JSON payloads.\\n* Once your web app is ready, the next step is adding accounts to receive activities for. When adding (or deleting) accounts you will make POST requests referencing the account id. See our [guide on adding subscriptions](https://developer.twitter.com/en/docs/twitter-api/enterprise/account-activity-api/guides/managing-webhooks-and-subscriptions) for more information.  \\n      \\n    \\n\\n### 4\\\\.',\n",
       "  'score': 21.25715446472168,\n",
       "  'rank': 4,\n",
       "  'document_id': '06293c96-26eb-468d-8f33-b2c5a9248ca5',\n",
       "  'document_metadata': {'source': '../data/platform-docs-versions/X_Twitter-API-Enterprise/Account Activity API.md',\n",
       "   'language': 'en'}},\n",
       " {'content': 'twitter.com/content/developer-twitter/en/docs/direct-messages/sending-and-receiving/guides/direct-message-migration) for those migrating between Direct Message REST endpoints  \\n    \\xa0\\n\\nAdditionally, we have a [series of videos](https://www.youtube.com/playlist?list=PLFKjcMIU2WshGG6Yj940XM7Z6BFs1zfBg) about the Account Activity API and how to get started.\\n\\nAnd, finally, we have code samples to further your understanding and help you get started quickly:\\n\\n* The [Account Activity Dashboard](https://github.com/twitterdev/Account-Activity-dashboard) is a sample Node.js web app with helper scripts to get started with the Account Activity API.\\n* [SnowBot](https://github.com/twitterdev/SnowBotDev) is a sample chatbot using the Account Activity API and REST Direct Message endpoints. It’s written in Ruby, uses the Sinatra web app framework, and is deployed on Heroku.  \\n    \\xa0\\n\\nIf you are building solutions that ingest data and respond in Direct Messages we also have a [Building a Customer Engagement Application on Twitter playbook](https://developer.twitter.com/en/docs/tutorials/customer-engagement-application-playbook).',\n",
       "  'score': 21.22812843322754,\n",
       "  'rank': 5,\n",
       "  'document_id': '06293c96-26eb-468d-8f33-b2c5a9248ca5',\n",
       "  'document_metadata': {'source': '../data/platform-docs-versions/X_Twitter-API-Enterprise/Account Activity API.md',\n",
       "   'language': 'en'}}]"
      ]
     },
     "execution_count": 10,
     "metadata": {},
     "output_type": "execute_result"
    }
   ],
   "source": [
    "results"
   ]
  },
  {
   "cell_type": "code",
   "execution_count": 9,
   "id": "3e873b9d-5843-4a94-a6fa-ef436eee2aef",
   "metadata": {},
   "outputs": [
    {
     "name": "stdout",
     "output_type": "stream",
     "text": [
      "[[{'source': '../data/platform-docs-versions/X_Twitter-API-V2/Tweets.md'}]]\n"
     ]
    },
    {
     "data": {
      "text/plain": [
       "'|     |     |     |\\n| --- | --- | --- |\\n| **Description** | **Standard v1.1** | **Twitter API v2** |\\n| Documentation | [API Reference](https://developer.twitter.com/en/docs/twitter-api/v1/tweets/timelines/api-reference/get-statuses-user_timeline.html) | [API Reference](https://developer.twitter.com/en/docs/twitter-api/tweets/timelines/api-reference/get-users-id-tweets.html) |\\n| HTTP methods supported | GET | GET |\\n| Host domain | https://api.twitter.com | https://api.twitter.com |\\n| Endpoint paths | /1.1/statuses/user\\\\_timeline.json | /2/users/:id/tweets |\\n| Required parameters | user\\\\_id or screen\\\\_name | User ID set as path parameter :id |\\n| Authentication | OAuth 1.0a User Context<br><br>OAuth 2.0 App-Only | OAuth 1.0a User Context<br><br>OAuth 2.0 App-Only<br><br>OAuth 2.0 Authorization Code with PKCE |'"
      ]
     },
     "execution_count": 9,
     "metadata": {},
     "output_type": "execute_result"
    }
   ],
   "source": [
    "pprint(results[\"metadatas\"])\n",
    "results[\"documents\"][0][0]"
   ]
  },
  {
   "cell_type": "markdown",
   "id": "19dfa1f7-f746-475c-9a88-6d86a6c31b35",
   "metadata": {},
   "source": [
    "# Load Generator\n",
    "\n",
    "### Quantized Mistral 7B, finetuned on code instructions\n",
    "- https://huggingface.co/TheBloke/OpenHermes-2.5-Mistral-7B-16k-GGUF#provided-files"
   ]
  },
  {
   "cell_type": "code",
   "execution_count": 9,
   "id": "9beb64f0-baab-4759-b1f1-19205dbbad34",
   "metadata": {},
   "outputs": [],
   "source": [
    "from IPython.display import display, Markdown\n",
    "\n",
    "def print_chat(chat_log):\n",
    "    for entry in chat_log:\n",
    "        if entry['role'] != 'system':\n",
    "            display(Markdown(f\"**{entry['role'].capitalize()}:** \\n{entry['content']}\\n\"))"
   ]
  },
  {
   "cell_type": "code",
   "execution_count": 10,
   "id": "9670d536-80c1-47f6-b478-5821d93ad8bf",
   "metadata": {},
   "outputs": [
    {
     "name": "stderr",
     "output_type": "stream",
     "text": [
      "huggingface/tokenizers: The current process just got forked, after parallelism has already been used. Disabling parallelism to avoid deadlocks...\n",
      "To disable this warning, you can either:\n",
      "\t- Avoid using `tokenizers` before the fork if possible\n",
      "\t- Explicitly set the environment variable TOKENIZERS_PARALLELISM=(true | false)\n"
     ]
    },
    {
     "data": {
      "application/vnd.jupyter.widget-view+json": {
       "model_id": "8e14e06361204021847d9c12c0444a34",
       "version_major": 2,
       "version_minor": 0
      },
      "text/plain": [
       "Fetching 1 files:   0%|          | 0/1 [00:00<?, ?it/s]"
      ]
     },
     "metadata": {},
     "output_type": "display_data"
    },
    {
     "data": {
      "application/vnd.jupyter.widget-view+json": {
       "model_id": "601450d13ea74b6688e4f41d8ca1606d",
       "version_major": 2,
       "version_minor": 0
      },
      "text/plain": [
       "Fetching 1 files:   0%|          | 0/1 [00:00<?, ?it/s]"
      ]
     },
     "metadata": {},
     "output_type": "display_data"
    },
    {
     "name": "stderr",
     "output_type": "stream",
     "text": [
      "Special tokens have been added in the vocabulary, make sure the associated word embeddings are fine-tuned or trained.\n"
     ]
    }
   ],
   "source": [
    "from generators.mistral import MistralRAGGenerator\n",
    "\n",
    "rag_generator = MistralRAGGenerator()"
   ]
  },
  {
   "cell_type": "code",
   "execution_count": 11,
   "id": "e3398395-f6c3-4c86-8d3d-1d63f011ea14",
   "metadata": {},
   "outputs": [],
   "source": [
    "k = 5\n",
    "\n",
    "results = retriever.query(query, k)\n",
    "\n",
    "context = results['documents']"
   ]
  },
  {
   "cell_type": "code",
   "execution_count": 12,
   "id": "6a82a9d9-7fec-46f6-8f3f-c9f1fa182841",
   "metadata": {},
   "outputs": [
    {
     "data": {
      "application/vnd.jupyter.widget-view+json": {
       "model_id": "c55759f9a0dd441fa8cbe4a1ab8252e9",
       "version_major": 2,
       "version_minor": 0
      },
      "text/plain": [
       "  0%|          | 0/2 [00:00<?, ?it/s]"
      ]
     },
     "metadata": {},
     "output_type": "display_data"
    }
   ],
   "source": [
    "chat_logs = rag_generator.generate_batch(context, query)"
   ]
  },
  {
   "cell_type": "code",
   "execution_count": 16,
   "id": "b0889d9b-3cbd-4059-9a52-400b99a79907",
   "metadata": {},
   "outputs": [
    {
     "data": {
      "text/markdown": [
       "**User:** \n",
       "How to get the number of likes of a TikTok post. I'd like an example query and an explanation of the parameters used.\n"
      ],
      "text/plain": [
       "<IPython.core.display.Markdown object>"
      ]
     },
     "metadata": {},
     "output_type": "display_data"
    },
    {
     "data": {
      "text/markdown": [
       "**Assistant:** \n",
       "I do not know how to get the number of likes of a TikTok post based on the given context. The provided context is related to Twitter API and does not contain information about TikTok. For TikTok, you would need to use the TikTok Developer Documentation or an unofficial TikTok API documentation. However, in general, to get the number of likes for a TikTok post, you would typically make a request to the TikTok API endpoint that provides information about a specific post and retrieve the \"likes\" count from the response data. The exact parameters and methods may vary depending on the API documentation or unofficial API you are using. Please provide me with a more suitable context, specific to the API or service you would like to work with (like \"TikTok\", \"Facebook\", \"Instagram\", etc.).\n"
      ],
      "text/plain": [
       "<IPython.core.display.Markdown object>"
      ]
     },
     "metadata": {},
     "output_type": "display_data"
    }
   ],
   "source": [
    "print_chat(chat_logs[-1])"
   ]
  },
  {
   "cell_type": "code",
   "execution_count": 13,
   "id": "a916457b-c3d5-4e14-9855-0408049b65b9",
   "metadata": {},
   "outputs": [
    {
     "name": "stdout",
     "output_type": "stream",
     "text": [
      "Q: Écris-moi une requête curl. Cette requête doit me permettre d'obtenir, auprès de Facebook, les publicités politiques contenant le mot \"europe\" et qui ont atteint la France et la Belgique. La réponse ne doit contenir que le code de la requête curl.\n",
      "A ```bash\n",
      "curl -G -d 'q=Europe&place=FR_BE&type=political_ads' https://graph.facebook.com/v13.0/act_<AD_ACCOUNT_ID>/adinsights\n",
      "```\n",
      "Q: How to get the number of likes of a TikTok post. I'd like an example query and an explanation of the parameters used.\n",
      "A I do not know how to get the number of likes of a TikTok post based on the given context. The provided context is related to Twitter API and does not contain information about TikTok. For TikTok, you would need to use the TikTok Developer Documentation or an unofficial TikTok API documentation. However, in general, to get the number of likes for a TikTok post, you would typically make a request to the TikTok API endpoint that provides information about a specific post and retrieve the \"likes\" count from the response data. The exact parameters and methods may vary depending on the API documentation or unofficial API you are using. Please provide me with a more suitable context, specific to the API or service you would like to work with (like \"TikTok\", \"Facebook\", \"Instagram\", etc.).\n"
     ]
    }
   ],
   "source": [
    "# For evaluation\n",
    "\n",
    "answer = [c[-1][\"content\"] for c in chat_logs]\n",
    "\n",
    "for q, a in zip(query, answer):\n",
    "    print(\"Q:\", q)\n",
    "    print(\"A\", a)"
   ]
  }
 ],
 "metadata": {
  "kernelspec": {
   "display_name": "Python 3 (ipykernel)",
   "language": "python",
   "name": "python3"
  },
  "language_info": {
   "codemirror_mode": {
    "name": "ipython",
    "version": 3
   },
   "file_extension": ".py",
   "mimetype": "text/x-python",
   "name": "python",
   "nbconvert_exporter": "python",
   "pygments_lexer": "ipython3",
   "version": "3.10.13"
  }
 },
 "nbformat": 4,
 "nbformat_minor": 5
}
