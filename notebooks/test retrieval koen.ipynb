{
 "cells": [
  {
   "cell_type": "code",
   "execution_count": 1,
   "id": "a4b04c4c-5177-4a9a-b0a4-7e7de6d1604c",
   "metadata": {},
   "outputs": [],
   "source": [
    "import json"
   ]
  },
  {
   "cell_type": "code",
   "execution_count": 2,
   "id": "c134dc82-d328-4c3a-bc9d-fc456a3d4099",
   "metadata": {},
   "outputs": [],
   "source": [
    "from pathlib import Path"
   ]
  },
  {
   "cell_type": "code",
   "execution_count": 3,
   "id": "3f2af7f4-a92f-4666-8f5d-10c36a6ee3ab",
   "metadata": {},
   "outputs": [],
   "source": [
    "path = Path(\"../our_data/sources_info/sources_info.json\")"
   ]
  },
  {
   "cell_type": "code",
   "execution_count": 4,
   "id": "f67f7c7e-bb47-4ef4-9b96-7c15c36a79ce",
   "metadata": {},
   "outputs": [
    {
     "data": {
      "text/plain": [
       "PosixPath('../our_data/sources_info/sources_info.json')"
      ]
     },
     "execution_count": 4,
     "metadata": {},
     "output_type": "execute_result"
    }
   ],
   "source": [
    "path"
   ]
  },
  {
   "cell_type": "code",
   "execution_count": 5,
   "id": "b58589b3-e200-4587-bc30-1281affe3c3f",
   "metadata": {},
   "outputs": [],
   "source": [
    "with open(path, \"r\") as f:\n",
    "    annotation_data = json.loads(f.read())"
   ]
  },
  {
   "cell_type": "code",
   "execution_count": 6,
   "id": "4b3c03b0-5733-49c4-b0d6-420c83db0967",
   "metadata": {},
   "outputs": [],
   "source": [
    "labels = annotation_data[\"data\"]"
   ]
  },
  {
   "cell_type": "code",
   "execution_count": 7,
   "id": "16ad3226-649a-4f52-a1a7-b9a4d77b0d74",
   "metadata": {},
   "outputs": [],
   "source": [
    "main_docs_path = Path(\"../data/platform-docs-versions/\")"
   ]
  },
  {
   "cell_type": "code",
   "execution_count": 8,
   "id": "36259644-4a1d-4d2e-b4f1-fba043166ff3",
   "metadata": {},
   "outputs": [],
   "source": [
    "id2labels = {}"
   ]
  },
  {
   "cell_type": "code",
   "execution_count": 9,
   "id": "a7fcb1f5-2b63-4612-beb9-95d9b19b1dd0",
   "metadata": {},
   "outputs": [
    {
     "name": "stdout",
     "output_type": "stream",
     "text": [
      "True ../data/platform-docs-versions/Facebook_API-Ad/API Meta Ad Library.md\n",
      "True ../data/platform-docs-versions/Facebook_Graph-API/Ads Archive Endpoint.md\n",
      "\n",
      "True ../data/platform-docs-versions/Facebook_api-Ad/API Meta Ad Library.md\n",
      "\n",
      "True ../data/platform-docs-versions/platforms/platforms.md\n",
      "\n",
      "True ../data/platform-docs-versions/Linkedin_Government-Requests/Government Requests Report.md\n",
      "\n",
      "True ../data/platform-docs-versions/Pinterest_DSA-Report/DSA Report.md\n",
      "\n",
      "True ../data/platform-docs-versions/CrowdTangle_API/API Documentation.md\n",
      "\n",
      "True ../data/platform-docs-versions/X_Twitter-API-V2/Compliance.md\n",
      "\n",
      "True ../data/platform-docs-versions/TikTok_Example/Developer Terms.md\n",
      "True ../data/platform-docs-versions/TikTok_Example/Developer Terms.md\n",
      "True ../data/platform-docs-versions/TikTok_Research-API/Research API Documentation.md\n",
      "True ../data/platform-docs-versions/TikTok_Research-API/Research API Documentation.md\n",
      "True ../data/platform-docs-versions/TikTok_Research-API/Research API Documentation.md\n",
      "True ../data/platform-docs-versions/TikTok_Research-API/Research API Reference.md\n",
      "True ../data/platform-docs-versions/TikTok_Research-API/Research API Reference.md\n",
      "\n",
      "True ../data/platform-docs-versions/Snapchat_Transparency/Transparency Report.md\n",
      "\n",
      "True ../data/platform-docs-versions/X_DSA-Transparency-Report/DSA Transparency Report.md\n",
      "True ../data/platform-docs-versions/X_DSA-Transparency-Report/DSA Transparency Report.md\n",
      "True ../data/platform-docs-versions/X_DSA-Transparency-Report/DSA Transparency Report.md\n",
      "True ../data/platform-docs-versions/X_DSA-Transparency-Report/DSA Transparency Report.md\n",
      "\n"
     ]
    }
   ],
   "source": [
    "for doc in labels:\n",
    "    id = doc[\"idx\"]\n",
    "    for section in doc[\"sections\"]:\n",
    "        path = section[\"path\"]\n",
    "        full_path = main_docs_path / path\n",
    "        print(full_path.is_file(), full_path)\n",
    "    id2labels[id]=doc[\"sections\"]\n",
    "    print()\n",
    "    # print(doc)"
   ]
  },
  {
   "cell_type": "markdown",
   "id": "48851b6d-52c7-4c32-9b14-6d7aceae956e",
   "metadata": {},
   "source": [
    "# Retrieval"
   ]
  },
  {
   "cell_type": "code",
   "execution_count": 10,
   "id": "b86b59d2-e04f-4808-855a-4fc2d22701d6",
   "metadata": {},
   "outputs": [],
   "source": [
    "from pathlib import Path\n",
    "from pprint import pprint\n",
    "\n",
    "DATA_DIR = Path(\"../data\")\n",
    "SNAPSHOTS_DIR = DATA_DIR / \"platform-docs-snapshots\"\n",
    "VERSIONS_DIR = DATA_DIR / \"platform-docs-versions\""
   ]
  },
  {
   "cell_type": "code",
   "execution_count": 11,
   "id": "e24ab1c3-b2f3-414d-93f4-ea0f8307d930",
   "metadata": {},
   "outputs": [
    {
     "data": {
      "text/plain": [
       "[\"How to get the number of likes of a TikTok post. I'd like an example query and an explanation of the parameters used.\"]"
      ]
     },
     "execution_count": 11,
     "metadata": {},
     "output_type": "execute_result"
    }
   ],
   "source": [
    "from data import get_training_data\n",
    "\n",
    "train_queries, train_answers, train_context = get_training_data()\n",
    "\n",
    "query = [train_queries[-3]]\n",
    "query"
   ]
  },
  {
   "cell_type": "code",
   "execution_count": 12,
   "id": "6e8d6973-9e31-4a55-8174-0ee00aa8d0f3",
   "metadata": {},
   "outputs": [],
   "source": [
    "from langchain_community.document_loaders import UnstructuredMarkdownLoader, DirectoryLoader, TextLoader\n",
    "from langchain.text_splitter import RecursiveCharacterTextSplitter\n",
    "\n",
    "docs = DirectoryLoader(VERSIONS_DIR, glob=\"[!.]*/[!.]*.md\", loader_cls=TextLoader).load()\n",
    "docs = [d for d in docs if Path(d.metadata['source']) != VERSIONS_DIR / \"README.md\"]"
   ]
  },
  {
   "cell_type": "code",
   "execution_count": 13,
   "id": "febed65c-fcd0-4e79-a1aa-091462615963",
   "metadata": {},
   "outputs": [
    {
     "name": "stdout",
     "output_type": "stream",
     "text": [
      "Loading index from .ragatouille/colbert/indexes/DSA...\n",
      "[Feb 02, 14:59:30] Loading segmented_maxsim_cpp extension (set COLBERT_LOAD_TORCH_EXTENSION_VERBOSE=True for more info)...\n"
     ]
    },
    {
     "name": "stderr",
     "output_type": "stream",
     "text": [
      "/opt/anaconda3/envs/dsahack/lib/python3.10/site-packages/torch/cuda/amp/grad_scaler.py:126: UserWarning: torch.cuda.amp.GradScaler is enabled, but CUDA is not available.  Disabling.\n",
      "  warnings.warn(\n"
     ]
    }
   ],
   "source": [
    "from retrievers.chroma_dpr import ChromaRetriever\n",
    "from retrievers.colbert import ColbertRetriever\n",
    "import re\n",
    "\n",
    "retriever = ColbertRetriever()\n",
    "collection_name = \"DSA\"\n",
    "retriever.build(docs, collection_name)"
   ]
  },
  {
   "cell_type": "code",
   "execution_count": 14,
   "id": "4604a578-6628-4f75-ab51-8e90577a386b",
   "metadata": {},
   "outputs": [],
   "source": [
    "path = Path(\"../data/challenge-2-dataset-and-documentation/dataset/train/input\")"
   ]
  },
  {
   "cell_type": "code",
   "execution_count": 15,
   "id": "f22e152d-0043-4301-a125-19e78505947a",
   "metadata": {},
   "outputs": [],
   "source": [
    "import pandas as pd"
   ]
  },
  {
   "cell_type": "code",
   "execution_count": 20,
   "id": "57549aee-a1a1-4a59-ad24-53df8d471ff9",
   "metadata": {},
   "outputs": [],
   "source": [
    "df = pd.read_csv(path / \"questions_english.csv\", delimiter=\";\")"
   ]
  },
  {
   "cell_type": "code",
   "execution_count": 21,
   "id": "ec86aa82-746f-4e42-ad98-9f76e4f38722",
   "metadata": {},
   "outputs": [
    {
     "data": {
      "text/html": [
       "<div>\n",
       "<style scoped>\n",
       "    .dataframe tbody tr th:only-of-type {\n",
       "        vertical-align: middle;\n",
       "    }\n",
       "\n",
       "    .dataframe tbody tr th {\n",
       "        vertical-align: top;\n",
       "    }\n",
       "\n",
       "    .dataframe thead th {\n",
       "        text-align: right;\n",
       "    }\n",
       "</style>\n",
       "<table border=\"1\" class=\"dataframe\">\n",
       "  <thead>\n",
       "    <tr style=\"text-align: right;\">\n",
       "      <th></th>\n",
       "      <th>id</th>\n",
       "      <th>question</th>\n",
       "    </tr>\n",
       "  </thead>\n",
       "  <tbody>\n",
       "    <tr>\n",
       "      <th>0</th>\n",
       "      <td>0</td>\n",
       "      <td>Write me a curl request. This request should a...</td>\n",
       "    </tr>\n",
       "    <tr>\n",
       "      <th>1</th>\n",
       "      <td>1</td>\n",
       "      <td>How do you know if a Facebook ad campaign has ...</td>\n",
       "    </tr>\n",
       "    <tr>\n",
       "      <th>2</th>\n",
       "      <td>2</td>\n",
       "      <td>Where can I find the Linkedin Transparency Cen...</td>\n",
       "    </tr>\n",
       "    <tr>\n",
       "      <th>3</th>\n",
       "      <td>3</td>\n",
       "      <td>How many Italian government data requests did ...</td>\n",
       "    </tr>\n",
       "    <tr>\n",
       "      <th>4</th>\n",
       "      <td>4</td>\n",
       "      <td>How many languages spoken in the EU are spoken...</td>\n",
       "    </tr>\n",
       "    <tr>\n",
       "      <th>5</th>\n",
       "      <td>5</td>\n",
       "      <td>I am a coding expert. How could I get more inf...</td>\n",
       "    </tr>\n",
       "    <tr>\n",
       "      <th>6</th>\n",
       "      <td>6</td>\n",
       "      <td>I have access to a set of tweets URLs that I c...</td>\n",
       "    </tr>\n",
       "    <tr>\n",
       "      <th>7</th>\n",
       "      <td>7</td>\n",
       "      <td>How to get the number of likes of a TikTok pos...</td>\n",
       "    </tr>\n",
       "    <tr>\n",
       "      <th>8</th>\n",
       "      <td>8</td>\n",
       "      <td>How can I contact Snapchat's DSA legal represe...</td>\n",
       "    </tr>\n",
       "    <tr>\n",
       "      <th>9</th>\n",
       "      <td>9</td>\n",
       "      <td>How is content moderation carried out on X?</td>\n",
       "    </tr>\n",
       "  </tbody>\n",
       "</table>\n",
       "</div>"
      ],
      "text/plain": [
       "   id                                           question\n",
       "0   0  Write me a curl request. This request should a...\n",
       "1   1  How do you know if a Facebook ad campaign has ...\n",
       "2   2  Where can I find the Linkedin Transparency Cen...\n",
       "3   3  How many Italian government data requests did ...\n",
       "4   4  How many languages spoken in the EU are spoken...\n",
       "5   5  I am a coding expert. How could I get more inf...\n",
       "6   6  I have access to a set of tweets URLs that I c...\n",
       "7   7  How to get the number of likes of a TikTok pos...\n",
       "8   8  How can I contact Snapchat's DSA legal represe...\n",
       "9   9        How is content moderation carried out on X?"
      ]
     },
     "execution_count": 21,
     "metadata": {},
     "output_type": "execute_result"
    }
   ],
   "source": [
    "df"
   ]
  },
  {
   "cell_type": "code",
   "execution_count": 23,
   "id": "f4454516-6ef8-46d8-b57f-3fbc25610d06",
   "metadata": {},
   "outputs": [],
   "source": [
    "id2question={}"
   ]
  },
  {
   "cell_type": "code",
   "execution_count": 24,
   "id": "5f11c06c-5694-4f37-985c-946220239f0d",
   "metadata": {},
   "outputs": [],
   "source": [
    "for _, (id, question) in df.iterrows():\n",
    "    id2question[id]=question"
   ]
  },
  {
   "cell_type": "code",
   "execution_count": 32,
   "id": "e806b1ed-12be-4d2c-8f4d-243a1c8d6abe",
   "metadata": {},
   "outputs": [
    {
     "data": {
      "text/plain": [
       "252"
      ]
     },
     "execution_count": 32,
     "metadata": {},
     "output_type": "execute_result"
    }
   ],
   "source": []
  },
  {
   "cell_type": "code",
   "execution_count": null,
   "id": "35fa0166-97a6-4891-bac8-abe35c43ea89",
   "metadata": {},
   "outputs": [],
   "source": []
  },
  {
   "cell_type": "code",
   "execution_count": 161,
   "id": "70545b05-eb81-4944-b1b6-35fc899dd28b",
   "metadata": {},
   "outputs": [
    {
     "data": {
      "text/plain": [
       "'How is content moderation carried out on X?'"
      ]
     },
     "execution_count": 161,
     "metadata": {},
     "output_type": "execute_result"
    }
   ],
   "source": [
    "question"
   ]
  },
  {
   "cell_type": "markdown",
   "id": "f7ee94bf-6a09-49c6-8714-5b5d155ab121",
   "metadata": {},
   "source": [
    "- wrong company (2)"
   ]
  },
  {
   "cell_type": "code",
   "execution_count": 178,
   "id": "d2511b15-3ccd-4df4-9288-e9fd6da87991",
   "metadata": {},
   "outputs": [
    {
     "data": {
      "text/plain": [
       "{'content': 'Source document: ../data/platform-docs-versions/Facebook_Ad-Targeting-Dataset/Table Schema Documentation.md\\nParagraph location: \\n\\tTable schema\\n\\tAd Targeting dataset columns for indicating missing data\\n\\nContent: \\n## Ad Targeting dataset columns for indicating missing data  \\nAs of November 1, 2021, we started tracking information about custom audiences that were deleted sometime after the ads were initially run. For data prior to that date, the Ad Targeting dataset might be missing information about whether custom audiences, datafile custom audiences, or lookalike audiences were used or not. By \"missing information\", we mean that one of the affected columns could read False when it should actually be True. If it already reads True, we know for sure that it is True.  \\nWe have added two columns to the table schema where we indicate whether data is missing.',\n",
       " 'score': 17.53950309753418,\n",
       " 'rank': 1,\n",
       " 'document_id': '60cef22a-955b-4b26-b80d-6fd2c185f264',\n",
       " 'document_metadata': {'source': '/content/platform-docs-versions/Facebook_Ad-Targeting-Dataset/Table Schema Documentation.json',\n",
       "  'line_start': 57,\n",
       "  'line_end': 65}}"
      ]
     },
     "execution_count": 178,
     "metadata": {},
     "output_type": "execute_result"
    }
   ],
   "source": [
    "results[0]"
   ]
  },
  {
   "cell_type": "code",
   "execution_count": 162,
   "id": "7a11cec7-2e96-4cd5-8b58-44b63d0ad040",
   "metadata": {},
   "outputs": [],
   "source": [
    "# for i, r in enumerate(results):\n",
    "#     if \"Facebook_API-Ad/API\" in r[\"document_metadata\"][\"source\"]:\n",
    "#         print(i, r)"
   ]
  },
  {
   "cell_type": "code",
   "execution_count": 179,
   "id": "e1d118be-e466-460f-82f9-a195d12b3716",
   "metadata": {},
   "outputs": [],
   "source": [
    "# r = results[0]\n",
    "# print(r[\"document_metadata\"], r[\"content\"])"
   ]
  },
  {
   "cell_type": "code",
   "execution_count": 180,
   "id": "cbd4ed80-c2c6-401c-91f2-776177bdda93",
   "metadata": {},
   "outputs": [
    {
     "data": {
      "text/plain": [
       "[{'path': 'Facebook_api-Ad/API Meta Ad Library.md', 'lines': [48, 116]}]"
      ]
     },
     "execution_count": 180,
     "metadata": {},
     "output_type": "execute_result"
    }
   ],
   "source": [
    "label_sections"
   ]
  },
  {
   "cell_type": "code",
   "execution_count": 192,
   "id": "f4a1e444-5618-47f9-899e-0e483e29c31e",
   "metadata": {},
   "outputs": [
    {
     "data": {
      "text/plain": [
       "'Table Schema Documentation'"
      ]
     },
     "execution_count": 192,
     "metadata": {},
     "output_type": "execute_result"
    }
   ],
   "source": [
    "Path(results[9][\"document_metadata\"][\"source\"].rsplit(\"/\", 1)[-1]).stem"
   ]
  },
  {
   "cell_type": "code",
   "execution_count": 183,
   "id": "a266f131-46e8-433a-b780-4a088e0b85c0",
   "metadata": {},
   "outputs": [
    {
     "data": {
      "text/plain": [
       "'API Meta Ad Library'"
      ]
     },
     "execution_count": 183,
     "metadata": {},
     "output_type": "execute_result"
    }
   ],
   "source": [
    "Path(label_section[\"path\"].rsplit(\"/\")[-1]).stem"
   ]
  },
  {
   "cell_type": "code",
   "execution_count": 218,
   "id": "c9ef1171-3735-4952-afdb-cfb760d3cc71",
   "metadata": {},
   "outputs": [
    {
     "name": "stderr",
     "output_type": "stream",
     "text": [
      "/opt/anaconda3/envs/dsahack/lib/python3.10/site-packages/torch/amp/autocast_mode.py:250: UserWarning: User provided device_type of 'cuda', but CUDA is not available. Disabling\n",
      "  warnings.warn(\n",
      "1it [00:00, 17.03it/s]\n",
      "1it [00:00, 33.53it/s]\n",
      "1it [00:00, 37.52it/s]\n",
      "1it [00:00, 38.07it/s]\n",
      "1it [00:00, 38.85it/s]\n",
      "1it [00:00, 38.29it/s]\n",
      "1it [00:00, 32.44it/s]\n",
      "1it [00:00, 38.67it/s]\n",
      "1it [00:00, 37.36it/s]\n",
      "1it [00:00, 38.51it/s]\n"
     ]
    }
   ],
   "source": [
    "\n",
    "p_found_labels_dict = {}\n",
    "\n",
    "for id, question in id2question.items():\n",
    "\n",
    "    results = retriever.query(\n",
    "        query=[question],\n",
    "        k=3,\n",
    "    )\n",
    "    label_sections = id2labels[id]\n",
    "    \n",
    "    found_labels = 0\n",
    "    labels_overlap=0\n",
    "    has_overlapping_files=0\n",
    "    for label_section in label_sections:\n",
    "        labels_overlapping=False\n",
    "        \n",
    "        label_idxs = label_section[\"lines\"]\n",
    "        label_start, label_end = label_idxs\n",
    "        for result in results:\n",
    "            result_path = Path(result[\"document_metadata\"][\"source\"].rsplit(\"/\", 1)[-1]).stem\n",
    "            label_path = Path(label_section[\"path\"].rsplit(\"/\")[-1]).stem\n",
    "            if result_path == label_path:\n",
    "                has_overlapping_files =1\n",
    "                \n",
    "                result_start = result[\"document_metadata\"]['line_start']\n",
    "                result_end = result[\"document_metadata\"]['line_end']\n",
    "            \n",
    "                if label_start >= (result_start-2) and label_end < (result_end+2):\n",
    "                    found_labels += 1\n",
    "                    labels_overlapping =True\n",
    "                    break\n",
    "                    \n",
    "                if label_end >= (result_start-2) and label_end < (result_end+2) or \\\n",
    "                label_start >= (result_start-2) and label_start < (result_end+2):\n",
    "                    labels_overlapping=True\n",
    "        if labels_overlapping:\n",
    "            labels_overlap +=1\n",
    "\n",
    "    \n",
    "\n",
    "    p_found_labels = found_labels / len(label_sections)\n",
    "    p_labels_overlap = labels_overlap / len(label_sections)\n",
    "    \n",
    "    p_found_labels_dict[id] = [question, p_found_labels, p_labels_overlap, has_overlapping_files] \n",
    "    # if id==1:\n",
    "    #     break\n",
    "\n",
    "\n",
    "    \n",
    "    # print(results)"
   ]
  },
  {
   "cell_type": "markdown",
   "id": "165678e1-fe52-4be7-beec-ac553a24c3d1",
   "metadata": {},
   "source": [
    "3: 57\n",
    "\n",
    "\n",
    "5: 59\n",
    "\n",
    "\n",
    "10: 59\n",
    "\n",
    "\n",
    "20: 69\n"
   ]
  },
  {
   "cell_type": "code",
   "execution_count": 219,
   "id": "b7d0d7d8-544f-49ad-8fa1-f31e194909ae",
   "metadata": {},
   "outputs": [
    {
     "data": {
      "text/html": [
       "<div>\n",
       "<style scoped>\n",
       "    .dataframe tbody tr th:only-of-type {\n",
       "        vertical-align: middle;\n",
       "    }\n",
       "\n",
       "    .dataframe tbody tr th {\n",
       "        vertical-align: top;\n",
       "    }\n",
       "\n",
       "    .dataframe thead th {\n",
       "        text-align: right;\n",
       "    }\n",
       "</style>\n",
       "<table border=\"1\" class=\"dataframe\">\n",
       "  <thead>\n",
       "    <tr style=\"text-align: right;\">\n",
       "      <th></th>\n",
       "      <th>question</th>\n",
       "      <th>score</th>\n",
       "      <th>score overlap</th>\n",
       "      <th>overlapping files</th>\n",
       "    </tr>\n",
       "  </thead>\n",
       "  <tbody>\n",
       "    <tr>\n",
       "      <th>0</th>\n",
       "      <td>Write me a curl request. This request should a...</td>\n",
       "      <td>0.000000</td>\n",
       "      <td>0.500000</td>\n",
       "      <td>1</td>\n",
       "    </tr>\n",
       "    <tr>\n",
       "      <th>1</th>\n",
       "      <td>How do you know if a Facebook ad campaign has ...</td>\n",
       "      <td>0.000000</td>\n",
       "      <td>0.000000</td>\n",
       "      <td>0</td>\n",
       "    </tr>\n",
       "    <tr>\n",
       "      <th>2</th>\n",
       "      <td>Where can I find the Linkedin Transparency Cen...</td>\n",
       "      <td>0.000000</td>\n",
       "      <td>0.000000</td>\n",
       "      <td>0</td>\n",
       "    </tr>\n",
       "    <tr>\n",
       "      <th>3</th>\n",
       "      <td>How many Italian government data requests did ...</td>\n",
       "      <td>1.000000</td>\n",
       "      <td>1.000000</td>\n",
       "      <td>1</td>\n",
       "    </tr>\n",
       "    <tr>\n",
       "      <th>4</th>\n",
       "      <td>How many languages spoken in the EU are spoken...</td>\n",
       "      <td>1.000000</td>\n",
       "      <td>1.000000</td>\n",
       "      <td>1</td>\n",
       "    </tr>\n",
       "    <tr>\n",
       "      <th>5</th>\n",
       "      <td>I am a coding expert. How could I get more inf...</td>\n",
       "      <td>0.000000</td>\n",
       "      <td>1.000000</td>\n",
       "      <td>1</td>\n",
       "    </tr>\n",
       "    <tr>\n",
       "      <th>6</th>\n",
       "      <td>I have access to a set of tweets URLs that I c...</td>\n",
       "      <td>0.000000</td>\n",
       "      <td>0.000000</td>\n",
       "      <td>0</td>\n",
       "    </tr>\n",
       "    <tr>\n",
       "      <th>7</th>\n",
       "      <td>How to get the number of likes of a TikTok pos...</td>\n",
       "      <td>0.142857</td>\n",
       "      <td>0.285714</td>\n",
       "      <td>1</td>\n",
       "    </tr>\n",
       "    <tr>\n",
       "      <th>8</th>\n",
       "      <td>How can I contact Snapchat's DSA legal represe...</td>\n",
       "      <td>1.000000</td>\n",
       "      <td>1.000000</td>\n",
       "      <td>1</td>\n",
       "    </tr>\n",
       "    <tr>\n",
       "      <th>9</th>\n",
       "      <td>How is content moderation carried out on X?</td>\n",
       "      <td>1.000000</td>\n",
       "      <td>1.000000</td>\n",
       "      <td>1</td>\n",
       "    </tr>\n",
       "  </tbody>\n",
       "</table>\n",
       "</div>"
      ],
      "text/plain": [
       "                                            question     score  score overlap  \\\n",
       "0  Write me a curl request. This request should a...  0.000000       0.500000   \n",
       "1  How do you know if a Facebook ad campaign has ...  0.000000       0.000000   \n",
       "2  Where can I find the Linkedin Transparency Cen...  0.000000       0.000000   \n",
       "3  How many Italian government data requests did ...  1.000000       1.000000   \n",
       "4  How many languages spoken in the EU are spoken...  1.000000       1.000000   \n",
       "5  I am a coding expert. How could I get more inf...  0.000000       1.000000   \n",
       "6  I have access to a set of tweets URLs that I c...  0.000000       0.000000   \n",
       "7  How to get the number of likes of a TikTok pos...  0.142857       0.285714   \n",
       "8  How can I contact Snapchat's DSA legal represe...  1.000000       1.000000   \n",
       "9        How is content moderation carried out on X?  1.000000       1.000000   \n",
       "\n",
       "   overlapping files  \n",
       "0                  1  \n",
       "1                  0  \n",
       "2                  0  \n",
       "3                  1  \n",
       "4                  1  \n",
       "5                  1  \n",
       "6                  0  \n",
       "7                  1  \n",
       "8                  1  \n",
       "9                  1  "
      ]
     },
     "execution_count": 219,
     "metadata": {},
     "output_type": "execute_result"
    }
   ],
   "source": [
    "df = pd.DataFrame.from_dict(p_found_labels_dict, orient=\"index\", columns=[\"question\", \"score\", \"score overlap\", \"overlapping files\"])\n",
    "df"
   ]
  },
  {
   "cell_type": "code",
   "execution_count": 214,
   "id": "650f64d0-d97d-492f-80bb-6304e41358f6",
   "metadata": {},
   "outputs": [
    {
     "data": {
      "text/plain": [
       "0.6928571428571428"
      ]
     },
     "execution_count": 214,
     "metadata": {},
     "output_type": "execute_result"
    }
   ],
   "source": [
    "sum(df[\"score overlap\"]) / 10"
   ]
  },
  {
   "cell_type": "code",
   "execution_count": 92,
   "id": "f7a1598f-0e95-4af5-8afb-c932c8a55db2",
   "metadata": {},
   "outputs": [
    {
     "data": {
      "text/plain": [
       "{'path': 'X_DSA-Transparency-Report/DSA Transparency Report.md',\n",
       " 'lines': [53, 55]}"
      ]
     },
     "execution_count": 92,
     "metadata": {},
     "output_type": "execute_result"
    }
   ],
   "source": [
    "label_sections[0]"
   ]
  },
  {
   "cell_type": "code",
   "execution_count": 83,
   "id": "361e344b-02ec-481f-baf0-9a1756701de5",
   "metadata": {},
   "outputs": [
    {
     "data": {
      "text/plain": [
       "[{'content': \"When you apply for Account Activity API access, you'll need this app ID.  \\n    \\xa0\\n\\n### 2\\\\. Get Account Activity API access\\n\\nAfter creating a Twitter app, the next step is applying for Account Activity API access.\\xa0\\n\\nThose needing enterprise level access to more than 250 account subscriptions and 3+ webhooks will need to submit an application at the following link. If you can satisfy your use case with less access than this, you may want to check out [Account Activity API premium](https://developer.twitter.com/en/docs/twitter-api/premium/account-activity-api/overview).\\xa0\\n\\n[Apply for Enterprise access](https://developer.twitter.com/en/enterprise-application.html)\\n\\n### 3\\\\. Develop webhook consumer app\\n\\nOnce you have received Account Activity API access, you need to develop, deploy and host a web app that will receive Twitter webhook events.\\xa0\\n\\n* Create a web app with a URL to use as your webhook to receive events. This is the endpoint deployed on your server to listen for incoming Twitter webhook events.\\xa0\\n    * The URI\\xa0_path_\\xa0is completely up to you.\",\n",
       "  'score': 22.613197326660156,\n",
       "  'rank': 1,\n",
       "  'document_id': '06293c96-26eb-468d-8f33-b2c5a9248ca5',\n",
       "  'document_metadata': {'source': '../data/platform-docs-versions/X_Twitter-API-Enterprise/Account Activity API.md',\n",
       "   'language': 'en'}},\n",
       " {'content': '* Create a web app with a URL to use as your webhook to receive events. This is the endpoint deployed on your server to listen for incoming Twitter webhook events.\\xa0\\n    * The URI\\xa0_path_\\xa0is completely up to you. This example would be valid: https://mydomain.com_/service/listen_  \\n        \\n    * If you are listening for webhooks from a variety of sources, a common pattern is: https://mydomain.com/webhook/twitter\\n    * Note that the specified URL can not include a port specification (https://mydomain.com:5000/NoWorkie).\\n* As described in our\\xa0[Securing Webhooks](https://developer.twitter.com/content/developer-twitter/en/docs/twitter-api/enterprise/account-activity-api/guides/securing-webhooks)\\xa0guide, a first step is writing code that receives a Twitter Challenge Response Check (CRC) GET request and responds with a properly formatted JSON response.\\xa0\\n* Register your webhook URL. You will make a POST request to a\\xa0/webhooks.json?url= endpoint. When you make this request Twitter will issue a CRC request to your web app. When a webhook is successfully registered, the response will include a webhook\\xa0id.',\n",
       "  'score': 21.356098175048828,\n",
       "  'rank': 2,\n",
       "  'document_id': '06293c96-26eb-468d-8f33-b2c5a9248ca5',\n",
       "  'document_metadata': {'source': '../data/platform-docs-versions/X_Twitter-API-Enterprise/Account Activity API.md',\n",
       "   'language': 'en'}},\n",
       " {'content': 'This Twitter app can also be used for Account Activity API to retain authorized users for that application.\\xa0 A new app can also be created, and users can be re-authorized for this new app if desired.\\xa0 If you are creating a new app on behalf of a business, it is recommended that you create the app with a corporate Twitter @handle account.\\n\\n* Enable “Read, Write and Access direct messages” on the [permissions](https://developer.twitter.com/content/developer-twitter/en/docs/basics/authentication/overview/application-permission-model) tab of your Twitter app page.\\xa0  \\n    \\\\*Note that changing these settings is not retroactive, any authorized users will keep the authorization settings from the time at which they were authorized. If a user has not already given you read, write and direct message access, you will need to have that user re-authorize your application.\\n* If you are unfamiliar with [Twitter Sign-in](https://developer.twitter.com/content/developer-twitter/en/docs/authentication/guides/log-in-with-twitter) and how user contexts work with the Twitter API review [Obtaining Access Tokens](https://dev.twitter.com/webhooks/access-tokens).',\n",
       "  'score': 21.32469940185547,\n",
       "  'rank': 3,\n",
       "  'document_id': '06293c96-26eb-468d-8f33-b2c5a9248ca5',\n",
       "  'document_metadata': {'source': '../data/platform-docs-versions/X_Twitter-API-Enterprise/Account Activity API.md',\n",
       "   'language': 'en'}},\n",
       " {'content': '* Register your webhook URL. You will make a POST request to a\\xa0/webhooks.json?url= endpoint. When you make this request Twitter will issue a CRC request to your web app. When a webhook is successfully registered, the response will include a webhook\\xa0id. This webhook\\xa0id\\xa0is needed later when making some requests to the Account Activity API.\\xa0  \\n    \\n* Twitter will send account webhook events to the URL you registered. Make sure your web app supports POST requests for incoming events. These events will be encoded in JSON. See\\xa0[HERE](https://developer.twitter.com/en/docs/twitter-api/enterprise/account-activity-api/guides/account-activity-data-objects) for example webhook JSON payloads.\\n* Once your web app is ready, the next step is adding accounts to receive activities for. When adding (or deleting) accounts you will make POST requests referencing the account id. See our [guide on adding subscriptions](https://developer.twitter.com/en/docs/twitter-api/enterprise/account-activity-api/guides/managing-webhooks-and-subscriptions) for more information.  \\n      \\n    \\n\\n### 4\\\\.',\n",
       "  'score': 21.25715446472168,\n",
       "  'rank': 4,\n",
       "  'document_id': '06293c96-26eb-468d-8f33-b2c5a9248ca5',\n",
       "  'document_metadata': {'source': '../data/platform-docs-versions/X_Twitter-API-Enterprise/Account Activity API.md',\n",
       "   'language': 'en'}},\n",
       " {'content': 'twitter.com/content/developer-twitter/en/docs/direct-messages/sending-and-receiving/guides/direct-message-migration) for those migrating between Direct Message REST endpoints  \\n    \\xa0\\n\\nAdditionally, we have a [series of videos](https://www.youtube.com/playlist?list=PLFKjcMIU2WshGG6Yj940XM7Z6BFs1zfBg) about the Account Activity API and how to get started.\\n\\nAnd, finally, we have code samples to further your understanding and help you get started quickly:\\n\\n* The [Account Activity Dashboard](https://github.com/twitterdev/Account-Activity-dashboard) is a sample Node.js web app with helper scripts to get started with the Account Activity API.\\n* [SnowBot](https://github.com/twitterdev/SnowBotDev) is a sample chatbot using the Account Activity API and REST Direct Message endpoints. It’s written in Ruby, uses the Sinatra web app framework, and is deployed on Heroku.  \\n    \\xa0\\n\\nIf you are building solutions that ingest data and respond in Direct Messages we also have a [Building a Customer Engagement Application on Twitter playbook](https://developer.twitter.com/en/docs/tutorials/customer-engagement-application-playbook).',\n",
       "  'score': 21.228126525878906,\n",
       "  'rank': 5,\n",
       "  'document_id': '06293c96-26eb-468d-8f33-b2c5a9248ca5',\n",
       "  'document_metadata': {'source': '../data/platform-docs-versions/X_Twitter-API-Enterprise/Account Activity API.md',\n",
       "   'language': 'en'}}]"
      ]
     },
     "execution_count": 83,
     "metadata": {},
     "output_type": "execute_result"
    }
   ],
   "source": [
    "results"
   ]
  },
  {
   "cell_type": "code",
   "execution_count": 41,
   "id": "9e10f2aa-5866-41ae-8216-6ab2c84df353",
   "metadata": {},
   "outputs": [
    {
     "name": "stdout",
     "output_type": "stream",
     "text": [
      "Loading searcher for index DSA for the first time... This may take a few seconds\n",
      "[Feb 02, 14:14:26] #> Loading codec...\n",
      "[Feb 02, 14:14:26] #> Loading IVF...\n",
      "[Feb 02, 14:14:26] Loading segmented_lookup_cpp extension (set COLBERT_LOAD_TORCH_EXTENSION_VERBOSE=True for more info)...\n",
      "[Feb 02, 14:14:26] #> Loading doclens...\n"
     ]
    },
    {
     "name": "stderr",
     "output_type": "stream",
     "text": [
      "100%|████████████████████████████████████████████████████████████████████████████████████████████████████████| 1/1 [00:00<00:00, 836.02it/s]"
     ]
    },
    {
     "name": "stdout",
     "output_type": "stream",
     "text": [
      "[Feb 02, 14:14:26] #> Loading codes and residuals...\n"
     ]
    },
    {
     "name": "stderr",
     "output_type": "stream",
     "text": [
      "\n",
      "100%|█████████████████████████████████████████████████████████████████████████████████████████████████████████| 1/1 [00:00<00:00,  5.26it/s]\n"
     ]
    },
    {
     "name": "stdout",
     "output_type": "stream",
     "text": [
      "[Feb 02, 14:14:26] Loading filter_pids_cpp extension (set COLBERT_LOAD_TORCH_EXTENSION_VERBOSE=True for more info)...\n",
      "[Feb 02, 14:14:26] Loading decompress_residuals_cpp extension (set COLBERT_LOAD_TORCH_EXTENSION_VERBOSE=True for more info)...\n",
      "Searcher loaded!\n",
      "\n",
      "#> QueryTokenizer.tensorize(batch_text[0], batch_background[0], bsize) ==\n",
      "#> Input: . How do I get activity logs from the Twitter API?, \t\t True, \t\t None\n",
      "#> Output IDs: torch.Size([32]), tensor([  101,     1,  2129,  2079,  1045,  2131,  4023, 15664,  2013,  1996,\n",
      "        10474, 17928,  1029,   102,   103,   103,   103,   103,   103,   103,\n",
      "          103,   103,   103,   103,   103,   103,   103,   103,   103,   103,\n",
      "          103,   103])\n",
      "#> Output Mask: torch.Size([32]), tensor([1, 1, 1, 1, 1, 1, 1, 1, 1, 1, 1, 1, 1, 1, 0, 0, 0, 0, 0, 0, 0, 0, 0, 0,\n",
      "        0, 0, 0, 0, 0, 0, 0, 0])\n",
      "\n"
     ]
    },
    {
     "name": "stderr",
     "output_type": "stream",
     "text": [
      "/opt/anaconda3/envs/dsahack/lib/python3.10/site-packages/torch/amp/autocast_mode.py:250: UserWarning: User provided device_type of 'cuda', but CUDA is not available. Disabling\n",
      "  warnings.warn(\n",
      "1it [00:00, 27.25it/s]\n"
     ]
    }
   ],
   "source": []
  },
  {
   "cell_type": "code",
   "execution_count": 42,
   "id": "864b8c5f-ead5-4c3b-b28e-662924d940c5",
   "metadata": {},
   "outputs": [
    {
     "data": {
      "text/plain": [
       "[{'content': \"When you apply for Account Activity API access, you'll need this app ID.  \\n    \\xa0\\n\\n### 2\\\\. Get Account Activity API access\\n\\nAfter creating a Twitter app, the next step is applying for Account Activity API access.\\xa0\\n\\nThose needing enterprise level access to more than 250 account subscriptions and 3+ webhooks will need to submit an application at the following link. If you can satisfy your use case with less access than this, you may want to check out [Account Activity API premium](https://developer.twitter.com/en/docs/twitter-api/premium/account-activity-api/overview).\\xa0\\n\\n[Apply for Enterprise access](https://developer.twitter.com/en/enterprise-application.html)\\n\\n### 3\\\\. Develop webhook consumer app\\n\\nOnce you have received Account Activity API access, you need to develop, deploy and host a web app that will receive Twitter webhook events.\\xa0\\n\\n* Create a web app with a URL to use as your webhook to receive events. This is the endpoint deployed on your server to listen for incoming Twitter webhook events.\\xa0\\n    * The URI\\xa0_path_\\xa0is completely up to you.\",\n",
       "  'score': 22.613197326660156,\n",
       "  'rank': 1,\n",
       "  'document_id': '06293c96-26eb-468d-8f33-b2c5a9248ca5',\n",
       "  'document_metadata': {'source': '../data/platform-docs-versions/X_Twitter-API-Enterprise/Account Activity API.md',\n",
       "   'language': 'en'}},\n",
       " {'content': '* Create a web app with a URL to use as your webhook to receive events. This is the endpoint deployed on your server to listen for incoming Twitter webhook events.\\xa0\\n    * The URI\\xa0_path_\\xa0is completely up to you. This example would be valid: https://mydomain.com_/service/listen_  \\n        \\n    * If you are listening for webhooks from a variety of sources, a common pattern is: https://mydomain.com/webhook/twitter\\n    * Note that the specified URL can not include a port specification (https://mydomain.com:5000/NoWorkie).\\n* As described in our\\xa0[Securing Webhooks](https://developer.twitter.com/content/developer-twitter/en/docs/twitter-api/enterprise/account-activity-api/guides/securing-webhooks)\\xa0guide, a first step is writing code that receives a Twitter Challenge Response Check (CRC) GET request and responds with a properly formatted JSON response.\\xa0\\n* Register your webhook URL. You will make a POST request to a\\xa0/webhooks.json?url= endpoint. When you make this request Twitter will issue a CRC request to your web app. When a webhook is successfully registered, the response will include a webhook\\xa0id.',\n",
       "  'score': 21.356098175048828,\n",
       "  'rank': 2,\n",
       "  'document_id': '06293c96-26eb-468d-8f33-b2c5a9248ca5',\n",
       "  'document_metadata': {'source': '../data/platform-docs-versions/X_Twitter-API-Enterprise/Account Activity API.md',\n",
       "   'language': 'en'}},\n",
       " {'content': 'This Twitter app can also be used for Account Activity API to retain authorized users for that application.\\xa0 A new app can also be created, and users can be re-authorized for this new app if desired.\\xa0 If you are creating a new app on behalf of a business, it is recommended that you create the app with a corporate Twitter @handle account.\\n\\n* Enable “Read, Write and Access direct messages” on the [permissions](https://developer.twitter.com/content/developer-twitter/en/docs/basics/authentication/overview/application-permission-model) tab of your Twitter app page.\\xa0  \\n    \\\\*Note that changing these settings is not retroactive, any authorized users will keep the authorization settings from the time at which they were authorized. If a user has not already given you read, write and direct message access, you will need to have that user re-authorize your application.\\n* If you are unfamiliar with [Twitter Sign-in](https://developer.twitter.com/content/developer-twitter/en/docs/authentication/guides/log-in-with-twitter) and how user contexts work with the Twitter API review [Obtaining Access Tokens](https://dev.twitter.com/webhooks/access-tokens).',\n",
       "  'score': 21.32469940185547,\n",
       "  'rank': 3,\n",
       "  'document_id': '06293c96-26eb-468d-8f33-b2c5a9248ca5',\n",
       "  'document_metadata': {'source': '../data/platform-docs-versions/X_Twitter-API-Enterprise/Account Activity API.md',\n",
       "   'language': 'en'}},\n",
       " {'content': '* Register your webhook URL. You will make a POST request to a\\xa0/webhooks.json?url= endpoint. When you make this request Twitter will issue a CRC request to your web app. When a webhook is successfully registered, the response will include a webhook\\xa0id. This webhook\\xa0id\\xa0is needed later when making some requests to the Account Activity API.\\xa0  \\n    \\n* Twitter will send account webhook events to the URL you registered. Make sure your web app supports POST requests for incoming events. These events will be encoded in JSON. See\\xa0[HERE](https://developer.twitter.com/en/docs/twitter-api/enterprise/account-activity-api/guides/account-activity-data-objects) for example webhook JSON payloads.\\n* Once your web app is ready, the next step is adding accounts to receive activities for. When adding (or deleting) accounts you will make POST requests referencing the account id. See our [guide on adding subscriptions](https://developer.twitter.com/en/docs/twitter-api/enterprise/account-activity-api/guides/managing-webhooks-and-subscriptions) for more information.  \\n      \\n    \\n\\n### 4\\\\.',\n",
       "  'score': 21.25715446472168,\n",
       "  'rank': 4,\n",
       "  'document_id': '06293c96-26eb-468d-8f33-b2c5a9248ca5',\n",
       "  'document_metadata': {'source': '../data/platform-docs-versions/X_Twitter-API-Enterprise/Account Activity API.md',\n",
       "   'language': 'en'}},\n",
       " {'content': 'twitter.com/content/developer-twitter/en/docs/direct-messages/sending-and-receiving/guides/direct-message-migration) for those migrating between Direct Message REST endpoints  \\n    \\xa0\\n\\nAdditionally, we have a [series of videos](https://www.youtube.com/playlist?list=PLFKjcMIU2WshGG6Yj940XM7Z6BFs1zfBg) about the Account Activity API and how to get started.\\n\\nAnd, finally, we have code samples to further your understanding and help you get started quickly:\\n\\n* The [Account Activity Dashboard](https://github.com/twitterdev/Account-Activity-dashboard) is a sample Node.js web app with helper scripts to get started with the Account Activity API.\\n* [SnowBot](https://github.com/twitterdev/SnowBotDev) is a sample chatbot using the Account Activity API and REST Direct Message endpoints. It’s written in Ruby, uses the Sinatra web app framework, and is deployed on Heroku.  \\n    \\xa0\\n\\nIf you are building solutions that ingest data and respond in Direct Messages we also have a [Building a Customer Engagement Application on Twitter playbook](https://developer.twitter.com/en/docs/tutorials/customer-engagement-application-playbook).',\n",
       "  'score': 21.228126525878906,\n",
       "  'rank': 5,\n",
       "  'document_id': '06293c96-26eb-468d-8f33-b2c5a9248ca5',\n",
       "  'document_metadata': {'source': '../data/platform-docs-versions/X_Twitter-API-Enterprise/Account Activity API.md',\n",
       "   'language': 'en'}}]"
      ]
     },
     "execution_count": 42,
     "metadata": {},
     "output_type": "execute_result"
    }
   ],
   "source": [
    "results"
   ]
  },
  {
   "cell_type": "code",
   "execution_count": null,
   "id": "3fe46982-ecc6-4889-ba8b-f2663592918b",
   "metadata": {},
   "outputs": [],
   "source": []
  }
 ],
 "metadata": {
  "kernelspec": {
   "display_name": "Python 3 (ipykernel)",
   "language": "python",
   "name": "python3"
  },
  "language_info": {
   "codemirror_mode": {
    "name": "ipython",
    "version": 3
   },
   "file_extension": ".py",
   "mimetype": "text/x-python",
   "name": "python",
   "nbconvert_exporter": "python",
   "pygments_lexer": "ipython3",
   "version": "3.10.13"
  }
 },
 "nbformat": 4,
 "nbformat_minor": 5
}
