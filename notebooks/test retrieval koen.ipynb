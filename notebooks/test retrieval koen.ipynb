{
 "cells": [
  {
   "cell_type": "code",
   "execution_count": 1,
   "id": "a4b04c4c-5177-4a9a-b0a4-7e7de6d1604c",
   "metadata": {},
   "outputs": [],
   "source": [
    "import json"
   ]
  },
  {
   "cell_type": "code",
   "execution_count": 2,
   "id": "c134dc82-d328-4c3a-bc9d-fc456a3d4099",
   "metadata": {},
   "outputs": [],
   "source": [
    "from pathlib import Path"
   ]
  },
  {
   "cell_type": "code",
   "execution_count": 3,
   "id": "3f2af7f4-a92f-4666-8f5d-10c36a6ee3ab",
   "metadata": {},
   "outputs": [],
   "source": [
    "\n",
    "path = Path(\"../data/challenge-2-dataset-and-documentation/dataset/train/output/sources_info/sources_info.json\")"
   ]
  },
  {
   "cell_type": "code",
   "execution_count": 4,
   "id": "f67f7c7e-bb47-4ef4-9b96-7c15c36a79ce",
   "metadata": {},
   "outputs": [
    {
     "data": {
      "text/plain": [
       "PosixPath('../data/challenge-2-dataset-and-documentation/dataset/train/output/sources_info/sources_info.json')"
      ]
     },
     "execution_count": 4,
     "metadata": {},
     "output_type": "execute_result"
    }
   ],
   "source": [
    "path"
   ]
  },
  {
   "cell_type": "code",
   "execution_count": 5,
   "id": "b58589b3-e200-4587-bc30-1281affe3c3f",
   "metadata": {},
   "outputs": [],
   "source": [
    "with open(path, \"r\") as f:\n",
    "    annotation_data = json.loads(f.read())"
   ]
  },
  {
   "cell_type": "code",
   "execution_count": 6,
   "id": "4b3c03b0-5733-49c4-b0d6-420c83db0967",
   "metadata": {},
   "outputs": [],
   "source": [
    "labels = annotation_data[\"data\"]"
   ]
  },
  {
   "cell_type": "code",
   "execution_count": 7,
   "id": "16ad3226-649a-4f52-a1a7-b9a4d77b0d74",
   "metadata": {},
   "outputs": [],
   "source": [
    "main_docs_path = Path(\"../data/platform-docs-versions/\")"
   ]
  },
  {
   "cell_type": "code",
   "execution_count": 9,
   "id": "a7fcb1f5-2b63-4612-beb9-95d9b19b1dd0",
   "metadata": {},
   "outputs": [],
   "source": [
    "# for doc in labels:\n",
    "#     print(doc[\"idx\"])\n",
    "#     for section in doc[\"sections\"]:\n",
    "#         path = section[\"path\"]\n",
    "#         full_path = main_docs_path / path\n",
    "#         print(full_path.is_file(), full_path)\n",
    "#     print()\n",
    "#     # print(doc)"
   ]
  },
  {
   "cell_type": "code",
   "execution_count": null,
   "id": "b86b59d2-e04f-4808-855a-4fc2d22701d6",
   "metadata": {},
   "outputs": [],
   "source": []
  },
  {
   "cell_type": "code",
   "execution_count": 34,
   "id": "d823088c-1b46-4032-a268-bd5bdae47f53",
   "metadata": {},
   "outputs": [],
   "source": [
    "# API Documentation.md"
   ]
  },
  {
   "cell_type": "code",
   "execution_count": 10,
   "id": "465c8a34-5d01-4fa5-af63-2a4874838d29",
   "metadata": {},
   "outputs": [],
   "source": [
    "from pprint import pprint"
   ]
  },
  {
   "cell_type": "code",
   "execution_count": 11,
   "id": "aec48d68-3263-428b-aaf8-abe845f0b34a",
   "metadata": {},
   "outputs": [
    {
     "name": "stdout",
     "output_type": "stream",
     "text": [
      "{'data': [{'idx': 0,\n",
      "           'sections': [{'lines': [],\n",
      "                         'path': 'Facebook_API-Ad/API Meta Ad Library.md'},\n",
      "                        {'lines': [],\n",
      "                         'path': 'Facebook_Graph-API/Ads Archive '\n",
      "                                 'Endpoint.md'}]},\n",
      "          {'idx': 1,\n",
      "           'sections': [{'lines': [],\n",
      "                         'path': 'Facebook_api-Ad/API Meta Ad Library.md'}]},\n",
      "          {'idx': 2,\n",
      "           'sections': [{'lines': [],\n",
      "                         'path': 'platform-docs-declarations/platforms.md'}]},\n",
      "          {'idx': 3,\n",
      "           'sections': [{'lines': [],\n",
      "                         'path': 'Linkedin_Government-Requests/Government '\n",
      "                                 'Request Report.md'}]},\n",
      "          {'idx': 4,\n",
      "           'sections': [{'lines': [],\n",
      "                         'path': 'Pinterest_DSA-Report/DSA Report.md'}]},\n",
      "          {'idx': 5,\n",
      "           'sections': [{'lines': [],\n",
      "                         'path': 'CrowdTangle_API/CrowdTangle Api.md'}]},\n",
      "          {'idx': 6,\n",
      "           'sections': [{'lines': [],\n",
      "                         'path': 'X_Twitter-API-V2/Compliance.md'}]},\n",
      "          {'idx': 7,\n",
      "           'sections': [{'lines': [],\n",
      "                         'path': 'TikTok_Example/Developer Terms.md'}]},\n",
      "          {'idx': 8,\n",
      "           'sections': [{'lines': [],\n",
      "                         'path': 'Snapchat_Transparency/Transparency '\n",
      "                                 'Report.md'}]},\n",
      "          {'idx': 9,\n",
      "           'sections': [{'lines': [],\n",
      "                         'path': 'X_DSA-Transperency-Report/DSA Transperency '\n",
      "                                 'Report.md'}]}]}\n"
     ]
    }
   ],
   "source": [
    "for doc in "
   ]
  },
  {
   "cell_type": "code",
   "execution_count": null,
   "id": "e24ab1c3-b2f3-414d-93f4-ea0f8307d930",
   "metadata": {},
   "outputs": [],
   "source": []
  }
 ],
 "metadata": {
  "kernelspec": {
   "display_name": "Python 3 (ipykernel)",
   "language": "python",
   "name": "python3"
  },
  "language_info": {
   "codemirror_mode": {
    "name": "ipython",
    "version": 3
   },
   "file_extension": ".py",
   "mimetype": "text/x-python",
   "name": "python",
   "nbconvert_exporter": "python",
   "pygments_lexer": "ipython3",
   "version": "3.10.13"
  }
 },
 "nbformat": 4,
 "nbformat_minor": 5
}
