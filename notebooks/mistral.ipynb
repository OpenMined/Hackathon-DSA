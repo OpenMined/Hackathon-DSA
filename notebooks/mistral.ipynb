{
 "cells": [
  {
   "cell_type": "code",
   "execution_count": 1,
   "id": "8ac96dc1-b80f-4489-a5da-2b46a80aa7ab",
   "metadata": {},
   "outputs": [],
   "source": [
    "# pip install torch transformers ctransformers sentencepiece\n",
    "# Apple silicon:\n",
    "# CT_METAL=1 pip install ctransformers --no-binary ctransformers"
   ]
  },
  {
   "cell_type": "code",
   "execution_count": 2,
   "id": "69c3abd8-fce7-40d5-9d51-bc221020439e",
   "metadata": {},
   "outputs": [],
   "source": [
    "from ctransformers import AutoModelForCausalLM, AutoConfig\n",
    "from transformers import AutoTokenizer\n",
    "from typing import List, Dict"
   ]
  },
  {
   "cell_type": "markdown",
   "id": "83c328fe-928d-4ae7-afb8-e3915ad88d2b",
   "metadata": {},
   "source": [
    "# Load model\n",
    "\n",
    "### Quantized Mistral 7B, finetuned on code instructions\n",
    "- https://huggingface.co/TheBloke/OpenHermes-2.5-Mistral-7B-16k-GGUF#provided-files"
   ]
  },
  {
   "cell_type": "code",
   "execution_count": 3,
   "id": "724ddcd8-039d-45cc-99d6-5765bc23366a",
   "metadata": {},
   "outputs": [
    {
     "data": {
      "application/vnd.jupyter.widget-view+json": {
       "model_id": "da6c850f04d04acb954257bac01c283d",
       "version_major": 2,
       "version_minor": 0
      },
      "text/plain": [
       "Fetching 1 files:   0%|          | 0/1 [00:00<?, ?it/s]"
      ]
     },
     "metadata": {},
     "output_type": "display_data"
    },
    {
     "data": {
      "application/vnd.jupyter.widget-view+json": {
       "model_id": "818ac16994ad4471838b3b9a5ab2b348",
       "version_major": 2,
       "version_minor": 0
      },
      "text/plain": [
       "Fetching 1 files:   0%|          | 0/1 [00:00<?, ?it/s]"
      ]
     },
     "metadata": {},
     "output_type": "display_data"
    },
    {
     "name": "stderr",
     "output_type": "stream",
     "text": [
      "Special tokens have been added in the vocabulary, make sure the associated word embeddings are fine-tuned or trained.\n"
     ]
    }
   ],
   "source": [
    "gpu_layers = 0\n",
    "\n",
    "model_file = \"openhermes-2.5-mistral-7b-16k.Q4_K_M.gguf\"\n",
    "\n",
    "llm = AutoModelForCausalLM.from_pretrained(\n",
    "    \"TheBloke/OpenHermes-2.5-Mistral-7B-16k-GGUF\",\n",
    "    model_file=\"openhermes-2.5-mistral-7b-16k.Q4_K_M.gguf\",\n",
    "    model_type=\"mistral\", \n",
    "    gpu_layers=gpu_layers,\n",
    "    max_new_tokens=4000,\n",
    "    context_length=16_000,\n",
    ")\n",
    "\n",
    "tokenizer = AutoTokenizer.from_pretrained(\"NurtureAI/OpenHermes-2.5-Mistral-7B-16k\")\n",
    "\n",
    "def format_prompt(messages: List[Dict[str, str]]) -> str:\n",
    "    return tokenizer.apply_chat_template(messages, tokenize=False, add_generation_prompt=True)"
   ]
  },
  {
   "cell_type": "markdown",
   "id": "d7c7dddb-86b0-42b0-a1c5-06882bdcca75",
   "metadata": {},
   "source": [
    "# RAG Query"
   ]
  },
  {
   "cell_type": "code",
   "execution_count": 4,
   "id": "f298172c-0792-45e7-8358-b2bf2d816da7",
   "metadata": {},
   "outputs": [],
   "source": [
    "facebook_threat_exchange = \"\"\"\n",
    "Facebook API, Threat Exchange\n",
    "\n",
    "ThreatExchange\n",
    "==============\n",
    "Most threat-intelligence solutions suffer because the data is too hard to standardize and verify. Meta created the ThreatExchange platform so that participating organizations can share threat data using a convenient, structured, and easy-to-use API that provides privacy controls to enable sharing with only desired groups. You can [apply for membership](https://developers.facebook.com/products/threat-exchange) today!\n",
    "\n",
    "|     |     |\n",
    "| --- | --- |\n",
    "| #### [Get Started](https://developers.facebook.com/docs/threat-exchange/getting-started/)<br><br>Learn how ThreatExchange is structured and walk through steps to get started.<br><br>#### [Get Access](https://developers.facebook.com/docs/threat-exchange/getting-access/)<br><br>Learn the steps required to apply to ThreatExchange and how to add the product.<br><br>#### [API Structure](https://developers.facebook.com/docs/threat-exchange/api-structure/)<br><br>Learn how the ThreatExchange API makes use of the Graph API and try a few calls to get started. | #### [Best Practices](https://developers.facebook.com/docs/threat-exchange/best-practices)<br><br>Make the most effective use of the API by following these tips.<br><br>#### [Reference Code on GitHub](https://l.facebook.com/l.php?u=https%3A%2F%2Fgithub.com%2Ffacebook%2FThreatExchange%2F&h=AT2kQVEStuZHZgpBRzkogs7FuoICL5QD5e_KeuLTptKI1bTc1AiEb94S6l-6DG3DCwYP7rkKJNf3ivZ5WY9Ne_awWf2tTRDF0F8lkuavwPV9bD7-O6h9jXEa4nGe7_scPicx8ViogqSpyAyz)<br><br>Use freely available libraries in JavaScript, PHP, Python, and Ruby to speed up your integration and development.<br><br>#### [Terms and Conditions](https://www.facebook.com/legal/threatexchange_terms/)<br><br>Learn about terms of use. |\n",
    "\n",
    "ThreatExchange UI\n",
    "-----------------\n",
    "\n",
    "The UI contains point-and-click management for tags, privacy groups, small-scale descriptor download and upload, and more—while bulk data-processing is best deferred to the API.\n",
    "\n",
    "|     |     |\n",
    "| --- | --- |\n",
    "| ### [UI Overview](https://developers.facebook.com/docs/threat-exchange/ui)<br><br>Essential information about the UI. | ### [UI Reference](https://developers.facebook.com/docs/threat-exchange/reference/ui)<br><br>Full documentation for the ThreatExchange UI. |\n",
    "\n",
    "ThreatExchange API\n",
    "------------------\n",
    "\n",
    "Your one-stop shop for ThreatExchange resources. The API contains the complete feature-set of what is possible in ThreatExchange.\n",
    "\n",
    "|     |     |\n",
    "| --- | --- |\n",
    "| ### [API Reference](https://developers.facebook.com/docs/threat-exchange/reference/apis)<br><br>Full documentation for all of the ThreatExchange APIs. | ### [Privacy Controls](https://developers.facebook.com/docs/threat-exchange/reference/privacy)<br><br>Understand the ways you control who sees the data you publish. |\n",
    "| ### [Resharing Controls](https://developers.facebook.com/docs/threat-exchange/reference/resharing)<br><br>Understand how to permit re-sharing of your data. | ### [Submit Data](https://developers.facebook.com/docs/threat-exchange/reference/submitting)<br><br>Learn how to submit your data. |\n",
    "| ### [Submit Connections](https://developers.facebook.com/docs/threat-exchange/reference/submitting-connections)<br><br>Learn how to create connections between pieces of data to express relationships. | ### [Edit Data](https://developers.facebook.com/docs/threat-exchange/reference/editing)<br><br>Learn how to edit your data. |\n",
    "| ### [Delete Data](https://developers.facebook.com/docs/threat-exchange/reference/deleting)<br><br>Learn how to delete your data. |     |\n",
    "\n",
    "Learn More\n",
    "----------\n",
    "\n",
    "Look here for anything else you may be missing.\n",
    "\n",
    "|     |     |\n",
    "| --- | --- |\n",
    "| ### [Terms and Conditions](https://www.facebook.com/legal/threatexchange_terms)<br><br>The complete terms and conditions for ThreatExchange. | ### [Changelog](https://developers.facebook.com/docs/threat-exchange/reference/changelog)<br><br>See how the ThreatExchange API has changed. |\n",
    "| ### [Open Source Terms of Use](https://opensource.facebook.com/legal/terms)<br><br>Terms of use for general Facebook Open Source projects. | ### [Open Source Privacy Policy](https://opensource.facebook.com/legal/privacy)<br><br>Privacy Policy for general Facebook Open Source projects. |\n",
    "\n",
    "\n",
    "API REFERENCE\n",
    "\n",
    "ThreatExchange API Reference\n",
    "============================\n",
    "\n",
    "The comprehensive list of the ThreatExchange APIs and the related endpoints.\n",
    "\n",
    "Objects\n",
    "-------\n",
    "\n",
    "| Parameter | Description |\n",
    "| --- | --- |\n",
    "| [ThreatDescriptor](https://developers.facebook.com/docs/threat-exchange/reference/apis/threat-descriptor) | Subjective context provided by a [ThreatExchangeMember](https://developers.facebook.com/docs/threat-exchange/reference/apis/threat-exchange-member) for a [ThreatIndicator](https://developers.facebook.com/docs/threat-exchange/reference/apis/threat-indicator). |\n",
    "| [ThreatExchangeMember](https://developers.facebook.com/docs/threat-exchange/reference/apis/threat-exchange-member) | Participant within ThreatExchange. |\n",
    "| [ThreatExchangeImpactReport](https://developers.facebook.com/docs/threat-exchange/reference/apis/threat-exchange-impact-report) | Freeform record of outcomes as a result of participating in ThreatExchange. |\n",
    "| [ThreatIndicator](https://developers.facebook.com/docs/threat-exchange/reference/apis/threat-indicator) | Indicator of compromise. |\n",
    "| [ThreatPrivacyGroup](https://developers.facebook.com/docs/threat-exchange/reference/apis/threat-privacy-group) | Label to group threat objects together. |\n",
    "| [ThreatTags](https://developers.facebook.com/docs/threat-exchange/reference/apis/threattags) | Label to group threat objects together. |\n",
    "\n",
    "Types\n",
    "-----\n",
    "\n",
    "| Parameter | Description |\n",
    "| --- | --- |\n",
    "| [IndicatorType](https://developers.facebook.com/docs/threat-exchange/reference/apis/indicator-type) | Type of indicator being described by a [ThreatIndicator](https://developers.facebook.com/docs/threat-exchange/reference/apis/threat-indicator) object. |\n",
    "| [PrecisionType](https://developers.facebook.com/docs/threat-exchange/reference/apis/precision-type) | Defines how accurately the threat intelligence detects its intended target, victim or actor. |\n",
    "| [PrivacyType](https://developers.facebook.com/docs/threat-exchange/reference/apis/privacy-type) | Defines who can access the threat intelligence. |\n",
    "| [ReviewStatusType](https://developers.facebook.com/docs/threat-exchange/reference/apis/review-status-type) | Description of how the threat intelligence was vetted. |\n",
    "| [SeverityType](https://developers.facebook.com/docs/threat-exchange/reference/apis/severity-type) | Description of the threat dangerousness associated with a [ThreatIndicator](https://developers.facebook.com/docs/threat-exchange/reference/apis/threat-indicator) object. The order of the values below are ordered from least severe to most severe. |\n",
    "| [SignatureType](https://developers.facebook.com/docs/threat-exchange/reference/apis/signature-type) | Type of signature format described by a [ThreatIndicator](https://developers.facebook.com/docs/threat-exchange/reference/apis/threat-indicator) object. |\n",
    "| [ShareLevelType](https://developers.facebook.com/docs/threat-exchange/reference/apis/share-level-type) (aka Traffic Light Protocol or TLP) | Designation of how any object in ThreatExchange may be re-shared both within and outside of ThreatExchange, based on the [US-CERT's Traffic Light Protocol](https://l.facebook.com/l.php?u=https%3A%2F%2Fwww.us-cert.gov%2Ftlp%2F&h=AT2dGOJSPCwEcnKNDv7zuu-oTz5LqwobLUrMrhjtk7rjpGKAbfOccY1Umpgz-2dJRAAVy4Izqp5M2XSisQgd7kmfxu2oDh_mTmZigiXCdXNCoNGVobLrJOwGOvM_DkwFGbRARqkiRESKIk7v). |\n",
    "| [StatusType](https://developers.facebook.com/docs/threat-exchange/reference/apis/status-type) | Description of the maliciousness of any object within ThreatExchange. |\n",
    "\n",
    "Search Endpoints\n",
    "----------------\n",
    "\n",
    "| Parameter | Description |\n",
    "| --- | --- |\n",
    "| [/threat\\_updates](https://developers.facebook.com/docs/threat-exchange/reference/apis/threat-updates/v9.0) | Prefered way of downloading all the data for a collaboration and staying in sync with updates. Not enabled for all privacy groups. See page for details. |\n",
    "| [/threat\\_descriptors](https://developers.facebook.com/docs/threat-exchange/reference/apis/threat-descriptors) | Enables searching for descriptors (opinions on content or indicators). |\n",
    "| [/threat\\_indicators](https://developers.facebook.com/docs/threat-exchange/reference/apis/threat-indicators) | Enables searching for indicators. |\n",
    "| [/threat\\_tags](https://developers.facebook.com/docs/threat-exchange/reference/apis/threat-tags) | Enables searching for threat tags. |\n",
    "\n",
    "Miscellaneous Endpoints\n",
    "-----------------------\n",
    "\n",
    "| Parameter | Description |\n",
    "| --- | --- |\n",
    "| [/threat\\_exchange\\_members](https://developers.facebook.com/docs/threat-exchange/reference/apis/threat-exchange-members) | Returns a list of current members of the ThreatExchange. |\n",
    "\n",
    "Threat Exchange Member\n",
    "======================\n",
    "\n",
    "Reading\n",
    "-------\n",
    "\n",
    "You can't perform this operation on this endpoint.\n",
    "\n",
    "Creating\n",
    "--------\n",
    "\n",
    "You can't perform this operation on this endpoint.\n",
    "\n",
    "Updating\n",
    "--------\n",
    "\n",
    "You can't perform this operation on this endpoint.\n",
    "\n",
    "Deleting\n",
    "--------\n",
    "\n",
    "You can't perform this operation on this endpoint.\n",
    "\n",
    "ThreatDescriptor\n",
    "================\n",
    "\n",
    "A subjective opinion about a [ThreatIndicator](https://developers.facebook.com/docs/threat-exchange/reference/apis/threat-indicator/) that was submitted by a [ThreatExchangeMember](https://developers.facebook.com/docs/threat-exchange/reference/apis/threat-exchange-member).\n",
    "\n",
    "Fields\n",
    "------\n",
    "\n",
    "| Parameter | Description | Type |\n",
    "| --- | --- | --- |\n",
    "| `id` | Unique identifier of the threat descriptor. Automatically assigned at create time, and non-editable. | `number` |\n",
    "| `added_on` | The datetime this descriptor was first uploaded. Automatically computed; not directly editable. | `string` |\n",
    "| `confidence` | A rating, from 0-100, on how confident the publisher is of the threat indicator's status. 0 is meant to be least confident, with 100 being most confident. | `number` |\n",
    "| `description` | A short summary of the indicator and threat. | `string` |\n",
    "| `expired_on` | Datetime the indicator is no longer considered a threat, as subjectively determined by the owner of the descriptor. | `number` |\n",
    "| `first_active` | The datetime when this opinion first became valid, as subjectively determined by the owner of the descriptor. | `string` |\n",
    "| `last_active` | The datetime when this opinion stopped being valid, as subjectively determined by the owner of the descriptor. | `string` |\n",
    "| `indicator` | The [ThreatIndicator](https://developers.facebook.com/docs/threat-exchange/reference/apis/threat-indicator) described by the descriptor: for example, a URL or a hash string. Non-editable after the descriptor is created. | [`ThreatIndicator`](https://developers.facebook.com/docs/threat-exchange/reference/apis/threat-indicator) |\n",
    "| `last_updated` | Datetime the threat descriptor was last updated. Automatically computed; not directly editable. | `string` |\n",
    "| `my_reactions` | A list of reactions that you have added to this descriptor. | [`ReactionType`](https://developers.facebook.com/docs/threat-exchange/reference/apis/reaction-type) |\n",
    "| `owner` | The [ThreatExchangeMember](https://developers.facebook.com/docs/threat-exchange/reference/apis/threat-exchange-member) that submitted the descriptor. Non-editable. | [`ThreatExchangeMember`](https://developers.facebook.com/docs/threat-exchange/reference/apis/threat-exchange-member) |\n",
    "| `precision` | The degree of accuracy of the descriptor. | [`PrecisionType`](https://developers.facebook.com/docs/threat-exchange/reference/apis/precision-type) |\n",
    "| `privacy_type` | The level of privacy applied to the descriptor. Also known as \"visibility\". | [`PrivacyType`](https://developers.facebook.com/docs/threat-exchange/reference/apis/privacy-type) |\n",
    "| `raw_indicator` | A raw, unsanitized string of the indicator being described. | `string` |\n",
    "| `reactions` | A list of reactions to reacting application. | [`ReactionType`](https://developers.facebook.com/docs/threat-exchange/reference/apis/reaction-type) |\n",
    "| `review_status` | Describes how the indicator was vetted. | [`ReviewStatusType`](https://developers.facebook.com/docs/threat-exchange/reference/apis/review-status-type) |\n",
    "| `severity` | Dangerousness of threat associated with the indicator. | [`SeverityType`](https://developers.facebook.com/docs/threat-exchange/reference/apis/severity-type) |\n",
    "| `share_level` | A designation of how the indicator may be shared, based on the [US-CERT's Traffic Light Protocol](https://l.facebook.com/l.php?u=https%3A%2F%2Fwww.us-cert.gov%2Ftlp%2F&h=AT2eCTR9dXrDWiJAPyyuVXoFcxtTBpbFmLnAJFY6k8sFkQIZWmXEfc0yo4pmPp5qfxnZGArc3FWsT3Tfihr844pcszP-SERtRYvdY7e6fwbLN67m3rIwLU79o--qOJRSAWGy1lkNm1tsjSNl). | [`ShareLevelType`](https://developers.facebook.com/docs/threat-exchange/reference/apis/share-level-type) |\n",
    "| `source_uri` | A publicly accessible URL containing further context or details about the descriptor. | `string` |\n",
    "| `status` | If the indicator is known to be malicious or not. | [`StatusType`](https://developers.facebook.com/docs/threat-exchange/reference/apis/status-type) |\n",
    "| `type` | The type of indicator. | [`IndicatorType`](https://developers.facebook.com/docs/threat-exchange/reference/apis/indicator-type) |\n",
    "\n",
    "### Connections\n",
    "\n",
    "| Parameter | Description | Type |\n",
    "| --- | --- | --- |\n",
    "| `tags` | The tags applied to this descriptor. | `string` |\n",
    "\n",
    "For additional documentation on ThreatTags, see [ThreatTag Object](https://developers.facebook.com/docs/threat-exchange/reference/apis/threattags/v2.8)\n",
    "\n",
    "### Sample Usage\n",
    "\n",
    "Example query for a specific descriptor: 777900478994849\n",
    "\n",
    "https://graph.facebook.com/777900478994849?access\\_token=555|asdF123\n",
    "\n",
    "Data returned:\n",
    "\n",
    "{\n",
    "  \"id\": \"777900478994849\",\n",
    "  \"indicator\": {\n",
    "    \"indicator\": \"http://test1435342443.evilevillabs.com/test.php\",\n",
    "    \"type\": \"URI\",\n",
    "    \"id\": \"841478115929947\"\n",
    "  },\n",
    "  \"owner\": {\n",
    "    \"id\": \"682796275165036\",\n",
    "    \"name\": \"Facebook Site Integrity ThreatExchange\"\n",
    "  },\n",
    "  \"type\": \"URI\",\n",
    "  \"raw\\_indicator\": \"http://test1435342443.evilevillabs.com/test.php\",\n",
    "  \"description\": \"Test Description\",\n",
    "  \"tags\": {\n",
    "    \"data\": \\[\n",
    "      {\n",
    "        \"id\": \"908180082612873\",\n",
    "        \"text\": \"evilevil\"\n",
    "      },\n",
    "      {\n",
    "        \"id\": \"884078131700721\",\n",
    "        \"text\": \"testing\"\n",
    "      }\n",
    "    \\]\n",
    "  },\n",
    "  \"status\": \"UNKNOWN\"\n",
    "}\n",
    "\n",
    "\"\"\""
   ]
  },
  {
   "cell_type": "code",
   "execution_count": 5,
   "id": "cf7c76a4-57bc-47ed-ab9b-bbac6be076e8",
   "metadata": {},
   "outputs": [],
   "source": [
    "system_message = \"\"\"\n",
    "You are a friendly QA bot that answers questions based only on the context you are given.\n",
    "- Give an  answer only based on the context and with no prior knowledge.\n",
    "- If you cannot come up with an answer to the user question, answer that you do not know the answer.\n",
    "- You can be very strict with what you do and don't answer. if the query is completely unrelated to the context you are given,\n",
    "reply that you do not know the answer.\n",
    "- The user does not know what context you are given, it comes from a semantic search on a large body of API references.\n",
    "- smileys and fun interactions are encouraged, but remember you are a professional chatbot that wants to help the user with their question.\n",
    "- include API code with the python requests library if required\n",
    "\n",
    "------------------\n",
    "CONTEXT\n",
    "{context}\n",
    "\"\"\""
   ]
  },
  {
   "cell_type": "code",
   "execution_count": 6,
   "id": "6805ea2a-78c4-4c1d-9640-c31b8bc0e691",
   "metadata": {},
   "outputs": [],
   "source": [
    "def init_chat_log(context: str):\n",
    "    return [\n",
    "        {\"role\": \"system\", \"content\": system_message.format(context=context)},\n",
    "    ]\n",
    "\n",
    "def generate_answer(chat_log: List[Dict[str, str]], query: str):\n",
    "    if query:\n",
    "        chat_log.append({\"role\": \"user\", \"content\": query})\n",
    "    if chat_log[-1][\"role\"] != \"user\":\n",
    "        raise ValueError(\"query required\")\n",
    "            \n",
    "    prompt = format_prompt(chat)\n",
    "    output = llm(prompt, stop=[\"<|im_end|>\"])\n",
    "    chat_log.append({\"role\": \"assistant\", \"content\": output})\n",
    "    return chat_log\n",
    "\n",
    "from IPython.display import display, Markdown\n",
    "\n",
    "def print_chat(chat_log):\n",
    "    for entry in chat_log:\n",
    "        if entry['role'] != 'system':\n",
    "            display(Markdown(f\"**{entry['role'].capitalize()}:** \\n{entry['content']}\\n\"))"
   ]
  },
  {
   "cell_type": "code",
   "execution_count": 7,
   "id": "2eb88cae-d341-45c7-9795-cd200d0e52e8",
   "metadata": {},
   "outputs": [
    {
     "data": {
      "text/markdown": [
       "**User:** \n",
       "Can you tell me about the Facebook Threat Exchange API? What does it do?\n"
      ],
      "text/plain": [
       "<IPython.core.display.Markdown object>"
      ]
     },
     "metadata": {},
     "output_type": "display_data"
    },
    {
     "data": {
      "text/markdown": [
       "**Assistant:** \n",
       "The Facebook ThreatExchange API is a platform designed for participating organizations to share threat data using a standardized and easy-to-use format. It provides privacy controls to enable sharing with desired groups, making threat intelligence more effective. This platform aims to standardize and verify data to help solve the issue of ineffective threat-intelligence solutions. The API contains a complete feature set for ThreatExchange and offers various endpoints such as search, creating, updating, reading, and deleting options. It has different objects like ThreatDescriptor, ThreatExchangeMember, ThreatExchangeImpactReport, ThreatIndicator, ThreatPrivacyGroup, and ThreatTags. The API Reference provides a comprehensive list of the related endpoints and types like IndicatorType, PrecisionType, PrivacyType, ReviewStatusType, ShareLevelType, StatusType, SignatureType. Additionally, it includes endpoints like /threat\\_updates for downloading data in bulk form for a collaboration to stay up to date with updates.\n"
      ],
      "text/plain": [
       "<IPython.core.display.Markdown object>"
      ]
     },
     "metadata": {},
     "output_type": "display_data"
    }
   ],
   "source": [
    "context = facebook_threat_exchange\n",
    "query = \"Can you tell me about the Facebook Threat Exchange API? What does it do?\"\n",
    "\n",
    "chat = init_chat_log(context)\n",
    "chat = generate_answer(chat, query)\n",
    "print_chat(chat)"
   ]
  },
  {
   "cell_type": "code",
   "execution_count": 8,
   "id": "60648f79-7cc1-4d24-93c3-d54403dc388e",
   "metadata": {},
   "outputs": [],
   "source": [
    "chat = generate_answer(chat, query=\"How do i get a specific Thread indicator in python?\")"
   ]
  },
  {
   "cell_type": "code",
   "execution_count": 9,
   "id": "0abc0eba-d728-4a28-9c43-82f4f957acb1",
   "metadata": {},
   "outputs": [
    {
     "data": {
      "text/markdown": [
       "**User:** \n",
       "Can you tell me about the Facebook Threat Exchange API? What does it do?\n"
      ],
      "text/plain": [
       "<IPython.core.display.Markdown object>"
      ]
     },
     "metadata": {},
     "output_type": "display_data"
    },
    {
     "data": {
      "text/markdown": [
       "**Assistant:** \n",
       "The Facebook ThreatExchange API is a platform designed for participating organizations to share threat data using a standardized and easy-to-use format. It provides privacy controls to enable sharing with desired groups, making threat intelligence more effective. This platform aims to standardize and verify data to help solve the issue of ineffective threat-intelligence solutions. The API contains a complete feature set for ThreatExchange and offers various endpoints such as search, creating, updating, reading, and deleting options. It has different objects like ThreatDescriptor, ThreatExchangeMember, ThreatExchangeImpactReport, ThreatIndicator, ThreatPrivacyGroup, and ThreatTags. The API Reference provides a comprehensive list of the related endpoints and types like IndicatorType, PrecisionType, PrivacyType, ReviewStatusType, ShareLevelType, StatusType, SignatureType. Additionally, it includes endpoints like /threat\\_updates for downloading data in bulk form for a collaboration to stay up to date with updates.\n"
      ],
      "text/plain": [
       "<IPython.core.display.Markdown object>"
      ]
     },
     "metadata": {},
     "output_type": "display_data"
    },
    {
     "data": {
      "text/markdown": [
       "**User:** \n",
       "How do i get a specific Thread indicator in python?\n"
      ],
      "text/plain": [
       "<IPython.core.display.Markdown object>"
      ]
     },
     "metadata": {},
     "output_type": "display_data"
    },
    {
     "data": {
      "text/markdown": [
       "**Assistant:** \n",
       "To retrieve a specific ThreatIndicator using the Facebook ThreatExchange API and Python, you can use the requests library. Here's an example code snippet:\n",
       "```python\n",
       "import requests\n",
       "# Replace '777900478994849' with the ID of the desired ThreatIndicator\n",
       "url = f\"https://graph.facebook.com/{ID}?access_token={ACCESS_TOKEN}\"\n",
       "response = requests.get(url)\n",
       "data = response.json()\n",
       "print(data)\n",
       "```\n",
       "Please replace `{ID}` with the specific ID of the desired ThreatIndicator and `{ACCESS_TOKEN}` with your access token for authentication. This code will make a GET request to the API endpoint, retrieve the data in JSON format, and print it out. Make sure you have the requests library installed (`pip install requests`) before running this code.\n"
      ],
      "text/plain": [
       "<IPython.core.display.Markdown object>"
      ]
     },
     "metadata": {},
     "output_type": "display_data"
    }
   ],
   "source": [
    "print_chat(chat)"
   ]
  },
  {
   "cell_type": "code",
   "execution_count": 13,
   "id": "5b9679fd-8035-4d2a-bace-d7c88b697055",
   "metadata": {},
   "outputs": [
    {
     "data": {
      "text/markdown": [
       "**User:** \n",
       "Can you tell me about the Facebook Threat Exchange API? What does it do?\n"
      ],
      "text/plain": [
       "<IPython.core.display.Markdown object>"
      ]
     },
     "metadata": {},
     "output_type": "display_data"
    },
    {
     "data": {
      "text/markdown": [
       "**Assistant:** \n",
       "The Facebook Threat Exchange API is a platform designed for participating organizations to share threat data using a structured and easy-to-use API that provides privacy controls, enabling them to share information with desired groups. It makes use of the Graph API and offers libraries in JavaScript, PHP, Python, and Ruby to speed up integration and development. The complete feature-set of what is possible in ThreatExchange can be found through the provided documentation, which includes features like submitting, editing, and deleting data, as well as privacy controls for managing who sees the published data.\n"
      ],
      "text/plain": [
       "<IPython.core.display.Markdown object>"
      ]
     },
     "metadata": {},
     "output_type": "display_data"
    },
    {
     "data": {
      "text/markdown": [
       "**User:** \n",
       "Where can I find more information?\n"
      ],
      "text/plain": [
       "<IPython.core.display.Markdown object>"
      ]
     },
     "metadata": {},
     "output_type": "display_data"
    },
    {
     "data": {
      "text/markdown": [
       "**Assistant:** \n",
       "You can find more information about the Facebook Threat Exchange API by visiting the following resources:\n",
       "- [Get Started](https://developers.facebook.com/docs/threat-exchange/getting-started/) to learn how it's structured and walk through steps to get started.\n",
       "- [UI Overview](https://developers.facebook.com/docs/threat-exchange/ui) for point-and-click management options.\n",
       "- [API Reference](https://developers.facebook.com/docs/threat-exchange/reference/apis) for full documentation of the ThreatExchange API.\n",
       "- [Terms and Conditions](https://www.facebook.com/legal/threatexchange_terms/) for the complete terms and conditions related to Threat Exchange.\n",
       "- [Changelog](https://developers.facebook.com/docs/threat-exchange/reference/changelog) for information on API changes.\n",
       "- [Open Source Terms of Use](https://opensource.facebook.com/legal/terms) and [Open Source Privacy Policy](https://opensource.facebook.com/legal/privacy) for general Facebook Open Source projects.\n"
      ],
      "text/plain": [
       "<IPython.core.display.Markdown object>"
      ]
     },
     "metadata": {},
     "output_type": "display_data"
    },
    {
     "data": {
      "text/markdown": [
       "**User:** \n",
       "where is the closest train station?\n"
      ],
      "text/plain": [
       "<IPython.core.display.Markdown object>"
      ]
     },
     "metadata": {},
     "output_type": "display_data"
    },
    {
     "data": {
      "text/markdown": [
       "**Assistant:** \n",
       "I do not know the answer to this question, as the context provided is about the Facebook Threat Exchange API and not related to a specific location or transportation information. Please provide more context for me to assist you with finding the closest train station.\n"
      ],
      "text/plain": [
       "<IPython.core.display.Markdown object>"
      ]
     },
     "metadata": {},
     "output_type": "display_data"
    },
    {
     "data": {
      "text/markdown": [
       "**User:** \n",
       "where is the closest train station?\n"
      ],
      "text/plain": [
       "<IPython.core.display.Markdown object>"
      ]
     },
     "metadata": {},
     "output_type": "display_data"
    },
    {
     "data": {
      "text/markdown": [
       "**Assistant:** \n",
       "I do not know the answer to this question, as the context provided is about the Facebook Threat Exchange API and not related to a specific location or transportation information. Please provide more context for me to assist you with finding the closest train station.\n"
      ],
      "text/plain": [
       "<IPython.core.display.Markdown object>"
      ]
     },
     "metadata": {},
     "output_type": "display_data"
    }
   ],
   "source": [
    "print_chat(generate_answer(chat, query=\"where is the closest train station?\"))"
   ]
  },
  {
   "cell_type": "code",
   "execution_count": 14,
   "id": "f1fc8c76-ad50-4209-b6f6-68cad52f49c9",
   "metadata": {},
   "outputs": [
    {
     "data": {
      "text/markdown": [
       "**User:** \n",
       "Can you tell me about the Facebook Threat Exchange API? What does it do?\n"
      ],
      "text/plain": [
       "<IPython.core.display.Markdown object>"
      ]
     },
     "metadata": {},
     "output_type": "display_data"
    },
    {
     "data": {
      "text/markdown": [
       "**Assistant:** \n",
       "The Facebook Threat Exchange API is a platform designed for participating organizations to share threat data using a structured and easy-to-use API that provides privacy controls, enabling them to share information with desired groups. It makes use of the Graph API and offers libraries in JavaScript, PHP, Python, and Ruby to speed up integration and development. The complete feature-set of what is possible in ThreatExchange can be found through the provided documentation, which includes features like submitting, editing, and deleting data, as well as privacy controls for managing who sees the published data.\n"
      ],
      "text/plain": [
       "<IPython.core.display.Markdown object>"
      ]
     },
     "metadata": {},
     "output_type": "display_data"
    },
    {
     "data": {
      "text/markdown": [
       "**User:** \n",
       "Where can I find more information?\n"
      ],
      "text/plain": [
       "<IPython.core.display.Markdown object>"
      ]
     },
     "metadata": {},
     "output_type": "display_data"
    },
    {
     "data": {
      "text/markdown": [
       "**Assistant:** \n",
       "You can find more information about the Facebook Threat Exchange API by visiting the following resources:\n",
       "- [Get Started](https://developers.facebook.com/docs/threat-exchange/getting-started/) to learn how it's structured and walk through steps to get started.\n",
       "- [UI Overview](https://developers.facebook.com/docs/threat-exchange/ui) for point-and-click management options.\n",
       "- [API Reference](https://developers.facebook.com/docs/threat-exchange/reference/apis) for full documentation of the ThreatExchange API.\n",
       "- [Terms and Conditions](https://www.facebook.com/legal/threatexchange_terms/) for the complete terms and conditions related to Threat Exchange.\n",
       "- [Changelog](https://developers.facebook.com/docs/threat-exchange/reference/changelog) for information on API changes.\n",
       "- [Open Source Terms of Use](https://opensource.facebook.com/legal/terms) and [Open Source Privacy Policy](https://opensource.facebook.com/legal/privacy) for general Facebook Open Source projects.\n"
      ],
      "text/plain": [
       "<IPython.core.display.Markdown object>"
      ]
     },
     "metadata": {},
     "output_type": "display_data"
    },
    {
     "data": {
      "text/markdown": [
       "**User:** \n",
       "where is the closest train station?\n"
      ],
      "text/plain": [
       "<IPython.core.display.Markdown object>"
      ]
     },
     "metadata": {},
     "output_type": "display_data"
    },
    {
     "data": {
      "text/markdown": [
       "**Assistant:** \n",
       "I do not know the answer to this question, as the context provided is about the Facebook Threat Exchange API and not related to a specific location or transportation information. Please provide more context for me to assist you with finding the closest train station.\n"
      ],
      "text/plain": [
       "<IPython.core.display.Markdown object>"
      ]
     },
     "metadata": {},
     "output_type": "display_data"
    },
    {
     "data": {
      "text/markdown": [
       "**User:** \n",
       "where is the closest train station?\n"
      ],
      "text/plain": [
       "<IPython.core.display.Markdown object>"
      ]
     },
     "metadata": {},
     "output_type": "display_data"
    },
    {
     "data": {
      "text/markdown": [
       "**Assistant:** \n",
       "I do not know the answer to this question, as the context provided is about the Facebook Threat Exchange API and not related to a specific location or transportation information. Please provide more context for me to assist you with finding the closest train station.\n"
      ],
      "text/plain": [
       "<IPython.core.display.Markdown object>"
      ]
     },
     "metadata": {},
     "output_type": "display_data"
    },
    {
     "data": {
      "text/markdown": [
       "**User:** \n",
       "I'm in amsterdam. I need to go to the train station!\n"
      ],
      "text/plain": [
       "<IPython.core.display.Markdown object>"
      ]
     },
     "metadata": {},
     "output_type": "display_data"
    },
    {
     "data": {
      "text/markdown": [
       "**Assistant:** \n",
       "In Amsterdam, there are multiple train stations. If you are looking for Amsterdam Centraal Station, it is one of the largest and most important stations in the city, located at Stationsplein 10, 1012 AB Amsterdam, Netherlands. It serves as a major transportation hub with connections to various trains, trams, buses, and metros. Please provide more details about your specific needs or location for further assistance.\n"
      ],
      "text/plain": [
       "<IPython.core.display.Markdown object>"
      ]
     },
     "metadata": {},
     "output_type": "display_data"
    }
   ],
   "source": [
    "print_chat(generate_answer(chat, query=\"I'm in amsterdam. I need to go to the train station!\"))"
   ]
  }
 ],
 "metadata": {
  "kernelspec": {
   "display_name": "Python 3 (ipykernel)",
   "language": "python",
   "name": "python3"
  },
  "language_info": {
   "codemirror_mode": {
    "name": "ipython",
    "version": 3
   },
   "file_extension": ".py",
   "mimetype": "text/x-python",
   "name": "python",
   "nbconvert_exporter": "python",
   "pygments_lexer": "ipython3",
   "version": "3.10.13"
  }
 },
 "nbformat": 4,
 "nbformat_minor": 5
}
