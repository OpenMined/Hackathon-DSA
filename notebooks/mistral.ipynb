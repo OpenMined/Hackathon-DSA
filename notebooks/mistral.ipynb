{
 "cells": [
  {
   "cell_type": "code",
   "execution_count": 1,
   "id": "8ac96dc1-b80f-4489-a5da-2b46a80aa7ab",
   "metadata": {},
   "outputs": [],
   "source": [
    "# pip install torch transformers ctransformers sentencepiece\n",
    "# Apple silicon:\n",
    "# CT_METAL=1 pip install ctransformers --no-binary ctransformers"
   ]
  },
  {
   "cell_type": "code",
   "execution_count": 2,
   "id": "69c3abd8-fce7-40d5-9d51-bc221020439e",
   "metadata": {},
   "outputs": [],
   "source": [
    "from ctransformers import AutoModelForCausalLM, AutoConfig\n",
    "from transformers import AutoTokenizer\n",
    "from typing import List, Dict"
   ]
  },
  {
   "cell_type": "markdown",
   "id": "f855b8dc-9b59-4c70-929c-8a5c1bc97389",
   "metadata": {},
   "source": [
    "\n",
    "- Retrieval\n",
    "    - RAGatouille / ColBERT\n",
    "    - normal DPR (chromaDB)\n",
    "    - manual/oldschool methods\n",
    "- Generation\n",
    "    - original paper is encoder/decoder (BART)\n",
    "        - encode all documents + query\n",
    "        - decode from encoder state \n",
    "    - all best models now are decoder-only (GPT/LLama/Mistral/...)\n",
    "        - put everything in a prompt\n",
    "- Evaluation\n",
    "    - metrics\n",
    "        - faithfulness\n",
    "        - quality of answers (embedding-based)\n",
    "        - BLUE/ROUGE, Code quality + reproducibility\n",
    "        - originality\n",
    "    - Synthetic dataset\n",
    "        - https://nlp.stanford.edu/pubs/wang-berant-liang-acl2015.pdf\n",
    "        - ChatGPT to generate queries/answers?\n",
    "    - We should get queries/answers from hackathon\n",
    "        - 10 beforehand \n",
    "- Fine-tuning\n",
    "    - ColBERT/DPR is easy to finetune\n",
    "    - Mistral is very hard to finetune (in a day)\n",
    "        - Fine-tuning the prompt is easiest/fastest way to get improvements\n",
    "     \n",
    "- UX\n",
    " "
   ]
  },
  {
   "cell_type": "markdown",
   "id": "83c328fe-928d-4ae7-afb8-e3915ad88d2b",
   "metadata": {},
   "source": [
    "# Load model\n",
    "\n",
    "### Quantized Mistral 7B, finetuned on code instructions\n",
    "- https://huggingface.co/TheBloke/OpenHermes-2.5-Mistral-7B-16k-GGUF#provided-files"
   ]
  },
  {
   "cell_type": "code",
   "execution_count": 3,
   "id": "724ddcd8-039d-45cc-99d6-5765bc23366a",
   "metadata": {},
   "outputs": [
    {
     "data": {
      "application/vnd.jupyter.widget-view+json": {
       "model_id": "e18a8659212441479b13d5e8c97c0bad",
       "version_major": 2,
       "version_minor": 0
      },
      "text/plain": [
       "Fetching 1 files:   0%|          | 0/1 [00:00<?, ?it/s]"
      ]
     },
     "metadata": {},
     "output_type": "display_data"
    },
    {
     "data": {
      "application/vnd.jupyter.widget-view+json": {
       "model_id": "e83cd989f2e442f88d4b5f7f4be92ae1",
       "version_major": 2,
       "version_minor": 0
      },
      "text/plain": [
       "Fetching 1 files:   0%|          | 0/1 [00:00<?, ?it/s]"
      ]
     },
     "metadata": {},
     "output_type": "display_data"
    },
    {
     "name": "stderr",
     "output_type": "stream",
     "text": [
      "Special tokens have been added in the vocabulary, make sure the associated word embeddings are fine-tuned or trained.\n"
     ]
    }
   ],
   "source": [
    "gpu_layers = 0\n",
    "\n",
    "model_file = \"openhermes-2.5-mistral-7b-16k.Q4_K_M.gguf\"\n",
    "\n",
    "llm = AutoModelForCausalLM.from_pretrained(\n",
    "    \"TheBloke/OpenHermes-2.5-Mistral-7B-16k-GGUF\",\n",
    "    model_file=\"openhermes-2.5-mistral-7b-16k.Q4_K_M.gguf\",\n",
    "    model_type=\"mistral\", \n",
    "    gpu_layers=gpu_layers,\n",
    "    max_new_tokens=4000,\n",
    "    context_length=16_000,\n",
    ")\n",
    "\n",
    "tokenizer = AutoTokenizer.from_pretrained(\"NurtureAI/OpenHermes-2.5-Mistral-7B-16k\")\n",
    "\n",
    "def format_prompt(messages: List[Dict[str, str]]) -> str:\n",
    "    return tokenizer.apply_chat_template(messages, tokenize=False, add_generation_prompt=True)"
   ]
  },
  {
   "cell_type": "markdown",
   "id": "d7c7dddb-86b0-42b0-a1c5-06882bdcca75",
   "metadata": {},
   "source": [
    "# RAG Query"
   ]
  },
  {
   "cell_type": "code",
   "execution_count": 4,
   "id": "f298172c-0792-45e7-8358-b2bf2d816da7",
   "metadata": {},
   "outputs": [],
   "source": [
    "facebook_threat_exchange = \"\"\"\n",
    "Facebook API, Threat Exchange\n",
    "\n",
    "ThreatExchange\n",
    "==============\n",
    "Most threat-intelligence solutions suffer because the data is too hard to standardize and verify. Meta created the ThreatExchange platform so that participating organizations can share threat data using a convenient, structured, and easy-to-use API that provides privacy controls to enable sharing with only desired groups. You can [apply for membership](https://developers.facebook.com/products/threat-exchange) today!\n",
    "\n",
    "|     |     |\n",
    "| --- | --- |\n",
    "| #### [Get Started](https://developers.facebook.com/docs/threat-exchange/getting-started/)<br><br>Learn how ThreatExchange is structured and walk through steps to get started.<br><br>#### [Get Access](https://developers.facebook.com/docs/threat-exchange/getting-access/)<br><br>Learn the steps required to apply to ThreatExchange and how to add the product.<br><br>#### [API Structure](https://developers.facebook.com/docs/threat-exchange/api-structure/)<br><br>Learn how the ThreatExchange API makes use of the Graph API and try a few calls to get started. | #### [Best Practices](https://developers.facebook.com/docs/threat-exchange/best-practices)<br><br>Make the most effective use of the API by following these tips.<br><br>#### [Reference Code on GitHub](https://l.facebook.com/l.php?u=https%3A%2F%2Fgithub.com%2Ffacebook%2FThreatExchange%2F&h=AT2kQVEStuZHZgpBRzkogs7FuoICL5QD5e_KeuLTptKI1bTc1AiEb94S6l-6DG3DCwYP7rkKJNf3ivZ5WY9Ne_awWf2tTRDF0F8lkuavwPV9bD7-O6h9jXEa4nGe7_scPicx8ViogqSpyAyz)<br><br>Use freely available libraries in JavaScript, PHP, Python, and Ruby to speed up your integration and development.<br><br>#### [Terms and Conditions](https://www.facebook.com/legal/threatexchange_terms/)<br><br>Learn about terms of use. |\n",
    "\n",
    "ThreatExchange UI\n",
    "-----------------\n",
    "\n",
    "The UI contains point-and-click management for tags, privacy groups, small-scale descriptor download and upload, and more—while bulk data-processing is best deferred to the API.\n",
    "\n",
    "|     |     |\n",
    "| --- | --- |\n",
    "| ### [UI Overview](https://developers.facebook.com/docs/threat-exchange/ui)<br><br>Essential information about the UI. | ### [UI Reference](https://developers.facebook.com/docs/threat-exchange/reference/ui)<br><br>Full documentation for the ThreatExchange UI. |\n",
    "\n",
    "ThreatExchange API\n",
    "------------------\n",
    "\n",
    "Your one-stop shop for ThreatExchange resources. The API contains the complete feature-set of what is possible in ThreatExchange.\n",
    "\n",
    "|     |     |\n",
    "| --- | --- |\n",
    "| ### [API Reference](https://developers.facebook.com/docs/threat-exchange/reference/apis)<br><br>Full documentation for all of the ThreatExchange APIs. | ### [Privacy Controls](https://developers.facebook.com/docs/threat-exchange/reference/privacy)<br><br>Understand the ways you control who sees the data you publish. |\n",
    "| ### [Resharing Controls](https://developers.facebook.com/docs/threat-exchange/reference/resharing)<br><br>Understand how to permit re-sharing of your data. | ### [Submit Data](https://developers.facebook.com/docs/threat-exchange/reference/submitting)<br><br>Learn how to submit your data. |\n",
    "| ### [Submit Connections](https://developers.facebook.com/docs/threat-exchange/reference/submitting-connections)<br><br>Learn how to create connections between pieces of data to express relationships. | ### [Edit Data](https://developers.facebook.com/docs/threat-exchange/reference/editing)<br><br>Learn how to edit your data. |\n",
    "| ### [Delete Data](https://developers.facebook.com/docs/threat-exchange/reference/deleting)<br><br>Learn how to delete your data. |     |\n",
    "\n",
    "Learn More\n",
    "----------\n",
    "\n",
    "Look here for anything else you may be missing.\n",
    "\n",
    "|     |     |\n",
    "| --- | --- |\n",
    "| ### [Terms and Conditions](https://www.facebook.com/legal/threatexchange_terms)<br><br>The complete terms and conditions for ThreatExchange. | ### [Changelog](https://developers.facebook.com/docs/threat-exchange/reference/changelog)<br><br>See how the ThreatExchange API has changed. |\n",
    "| ### [Open Source Terms of Use](https://opensource.facebook.com/legal/terms)<br><br>Terms of use for general Facebook Open Source projects. | ### [Open Source Privacy Policy](https://opensource.facebook.com/legal/privacy)<br><br>Privacy Policy for general Facebook Open Source projects. |\n",
    "\"\"\""
   ]
  },
  {
   "cell_type": "code",
   "execution_count": 5,
   "id": "cf7c76a4-57bc-47ed-ab9b-bbac6be076e8",
   "metadata": {},
   "outputs": [],
   "source": [
    "system_message = \"\"\"\n",
    "You are a friendly QA bot that answers questions based only on the context you are given.\n",
    "- Give an  answer only based on the context and with no prior knowledge.\n",
    "- If you cannot come up with an answer to the user question, answer that you do not know the answer.\n",
    "- You can be very strict with what you do and don't answer. if the query is completely unrelated to the context you are given,\n",
    "reply that you do not know the answer.\n",
    "- The user does not know what context you are given, it comes from a semantic search on a large body of API references.\n",
    "- smileys and fun interactions are encouraged, but remember you are a professional chatbot that wants to help the user with their question.\n",
    "\n",
    "------------------\n",
    "CONTEXT\n",
    "{context}\n",
    "\"\"\""
   ]
  },
  {
   "cell_type": "code",
   "execution_count": 6,
   "id": "6805ea2a-78c4-4c1d-9640-c31b8bc0e691",
   "metadata": {},
   "outputs": [],
   "source": [
    "def init_chat_log(context: str):\n",
    "    return [\n",
    "        {\"role\": \"system\", \"content\": system_message.format(context=context)},\n",
    "    ]\n",
    "\n",
    "def generate_answer(chat_log: List[Dict[str, str]], query: str):\n",
    "    if query:\n",
    "        chat_log.append({\"role\": \"user\", \"content\": query})\n",
    "    if chat_log[-1][\"role\"] != \"user\":\n",
    "        raise ValueError(\"query required\")\n",
    "            \n",
    "    prompt = format_prompt(chat)\n",
    "    output = llm(prompt, stop=[\"<|im_end|>\"])\n",
    "    chat_log.append({\"role\": \"assistant\", \"content\": output})\n",
    "    return chat_log\n",
    "\n",
    "from IPython.display import display, Markdown\n",
    "\n",
    "def print_chat(chat_log):\n",
    "    for entry in chat_log:\n",
    "        if entry['role'] != 'system':\n",
    "            display(Markdown(f\"**{entry['role'].capitalize()}:** \\n{entry['content']}\\n\"))"
   ]
  },
  {
   "cell_type": "code",
   "execution_count": 9,
   "id": "2eb88cae-d341-45c7-9795-cd200d0e52e8",
   "metadata": {},
   "outputs": [
    {
     "data": {
      "text/markdown": [
       "**User:** \n",
       "Can you tell me about the Facebook Threat Exchange API? What does it do?\n"
      ],
      "text/plain": [
       "<IPython.core.display.Markdown object>"
      ]
     },
     "metadata": {},
     "output_type": "display_data"
    },
    {
     "data": {
      "text/markdown": [
       "**Assistant:** \n",
       "The Facebook Threat Exchange API is a platform designed for participating organizations to share threat data using a structured and easy-to-use API that provides privacy controls, enabling them to share information with desired groups. It makes use of the Graph API and offers libraries in JavaScript, PHP, Python, and Ruby to speed up integration and development. The complete feature-set of what is possible in ThreatExchange can be found through the provided documentation, which includes features like submitting, editing, and deleting data, as well as privacy controls for managing who sees the published data.\n"
      ],
      "text/plain": [
       "<IPython.core.display.Markdown object>"
      ]
     },
     "metadata": {},
     "output_type": "display_data"
    }
   ],
   "source": [
    "context = facebook_threat_exchange\n",
    "query = \"Can you tell me about the Facebook Threat Exchange API? What does it do?\"\n",
    "\n",
    "chat = init_chat_log(context)\n",
    "chat = generate_answer(chat, query)\n",
    "print_chat(chat)"
   ]
  },
  {
   "cell_type": "code",
   "execution_count": 10,
   "id": "60648f79-7cc1-4d24-93c3-d54403dc388e",
   "metadata": {},
   "outputs": [],
   "source": [
    "chat = generate_answer(chat, query=\"Where can I find more information?\")"
   ]
  },
  {
   "cell_type": "code",
   "execution_count": 11,
   "id": "0abc0eba-d728-4a28-9c43-82f4f957acb1",
   "metadata": {},
   "outputs": [
    {
     "data": {
      "text/markdown": [
       "**User:** \n",
       "Can you tell me about the Facebook Threat Exchange API? What does it do?\n"
      ],
      "text/plain": [
       "<IPython.core.display.Markdown object>"
      ]
     },
     "metadata": {},
     "output_type": "display_data"
    },
    {
     "data": {
      "text/markdown": [
       "**Assistant:** \n",
       "The Facebook Threat Exchange API is a platform designed for participating organizations to share threat data using a structured and easy-to-use API that provides privacy controls, enabling them to share information with desired groups. It makes use of the Graph API and offers libraries in JavaScript, PHP, Python, and Ruby to speed up integration and development. The complete feature-set of what is possible in ThreatExchange can be found through the provided documentation, which includes features like submitting, editing, and deleting data, as well as privacy controls for managing who sees the published data.\n"
      ],
      "text/plain": [
       "<IPython.core.display.Markdown object>"
      ]
     },
     "metadata": {},
     "output_type": "display_data"
    },
    {
     "data": {
      "text/markdown": [
       "**User:** \n",
       "Where can I find more information?\n"
      ],
      "text/plain": [
       "<IPython.core.display.Markdown object>"
      ]
     },
     "metadata": {},
     "output_type": "display_data"
    },
    {
     "data": {
      "text/markdown": [
       "**Assistant:** \n",
       "You can find more information about the Facebook Threat Exchange API by visiting the following resources:\n",
       "- [Get Started](https://developers.facebook.com/docs/threat-exchange/getting-started/) to learn how it's structured and walk through steps to get started.\n",
       "- [UI Overview](https://developers.facebook.com/docs/threat-exchange/ui) for point-and-click management options.\n",
       "- [API Reference](https://developers.facebook.com/docs/threat-exchange/reference/apis) for full documentation of the ThreatExchange API.\n",
       "- [Terms and Conditions](https://www.facebook.com/legal/threatexchange_terms/) for the complete terms and conditions related to Threat Exchange.\n",
       "- [Changelog](https://developers.facebook.com/docs/threat-exchange/reference/changelog) for information on API changes.\n",
       "- [Open Source Terms of Use](https://opensource.facebook.com/legal/terms) and [Open Source Privacy Policy](https://opensource.facebook.com/legal/privacy) for general Facebook Open Source projects.\n"
      ],
      "text/plain": [
       "<IPython.core.display.Markdown object>"
      ]
     },
     "metadata": {},
     "output_type": "display_data"
    }
   ],
   "source": [
    "print_chat(chat)"
   ]
  },
  {
   "cell_type": "code",
   "execution_count": 13,
   "id": "5b9679fd-8035-4d2a-bace-d7c88b697055",
   "metadata": {},
   "outputs": [
    {
     "data": {
      "text/markdown": [
       "**User:** \n",
       "Can you tell me about the Facebook Threat Exchange API? What does it do?\n"
      ],
      "text/plain": [
       "<IPython.core.display.Markdown object>"
      ]
     },
     "metadata": {},
     "output_type": "display_data"
    },
    {
     "data": {
      "text/markdown": [
       "**Assistant:** \n",
       "The Facebook Threat Exchange API is a platform designed for participating organizations to share threat data using a structured and easy-to-use API that provides privacy controls, enabling them to share information with desired groups. It makes use of the Graph API and offers libraries in JavaScript, PHP, Python, and Ruby to speed up integration and development. The complete feature-set of what is possible in ThreatExchange can be found through the provided documentation, which includes features like submitting, editing, and deleting data, as well as privacy controls for managing who sees the published data.\n"
      ],
      "text/plain": [
       "<IPython.core.display.Markdown object>"
      ]
     },
     "metadata": {},
     "output_type": "display_data"
    },
    {
     "data": {
      "text/markdown": [
       "**User:** \n",
       "Where can I find more information?\n"
      ],
      "text/plain": [
       "<IPython.core.display.Markdown object>"
      ]
     },
     "metadata": {},
     "output_type": "display_data"
    },
    {
     "data": {
      "text/markdown": [
       "**Assistant:** \n",
       "You can find more information about the Facebook Threat Exchange API by visiting the following resources:\n",
       "- [Get Started](https://developers.facebook.com/docs/threat-exchange/getting-started/) to learn how it's structured and walk through steps to get started.\n",
       "- [UI Overview](https://developers.facebook.com/docs/threat-exchange/ui) for point-and-click management options.\n",
       "- [API Reference](https://developers.facebook.com/docs/threat-exchange/reference/apis) for full documentation of the ThreatExchange API.\n",
       "- [Terms and Conditions](https://www.facebook.com/legal/threatexchange_terms/) for the complete terms and conditions related to Threat Exchange.\n",
       "- [Changelog](https://developers.facebook.com/docs/threat-exchange/reference/changelog) for information on API changes.\n",
       "- [Open Source Terms of Use](https://opensource.facebook.com/legal/terms) and [Open Source Privacy Policy](https://opensource.facebook.com/legal/privacy) for general Facebook Open Source projects.\n"
      ],
      "text/plain": [
       "<IPython.core.display.Markdown object>"
      ]
     },
     "metadata": {},
     "output_type": "display_data"
    },
    {
     "data": {
      "text/markdown": [
       "**User:** \n",
       "where is the closest train station?\n"
      ],
      "text/plain": [
       "<IPython.core.display.Markdown object>"
      ]
     },
     "metadata": {},
     "output_type": "display_data"
    },
    {
     "data": {
      "text/markdown": [
       "**Assistant:** \n",
       "I do not know the answer to this question, as the context provided is about the Facebook Threat Exchange API and not related to a specific location or transportation information. Please provide more context for me to assist you with finding the closest train station.\n"
      ],
      "text/plain": [
       "<IPython.core.display.Markdown object>"
      ]
     },
     "metadata": {},
     "output_type": "display_data"
    },
    {
     "data": {
      "text/markdown": [
       "**User:** \n",
       "where is the closest train station?\n"
      ],
      "text/plain": [
       "<IPython.core.display.Markdown object>"
      ]
     },
     "metadata": {},
     "output_type": "display_data"
    },
    {
     "data": {
      "text/markdown": [
       "**Assistant:** \n",
       "I do not know the answer to this question, as the context provided is about the Facebook Threat Exchange API and not related to a specific location or transportation information. Please provide more context for me to assist you with finding the closest train station.\n"
      ],
      "text/plain": [
       "<IPython.core.display.Markdown object>"
      ]
     },
     "metadata": {},
     "output_type": "display_data"
    }
   ],
   "source": [
    "print_chat(generate_answer(chat, query=\"where is the closest train station?\"))"
   ]
  },
  {
   "cell_type": "code",
   "execution_count": 14,
   "id": "f1fc8c76-ad50-4209-b6f6-68cad52f49c9",
   "metadata": {},
   "outputs": [
    {
     "data": {
      "text/markdown": [
       "**User:** \n",
       "Can you tell me about the Facebook Threat Exchange API? What does it do?\n"
      ],
      "text/plain": [
       "<IPython.core.display.Markdown object>"
      ]
     },
     "metadata": {},
     "output_type": "display_data"
    },
    {
     "data": {
      "text/markdown": [
       "**Assistant:** \n",
       "The Facebook Threat Exchange API is a platform designed for participating organizations to share threat data using a structured and easy-to-use API that provides privacy controls, enabling them to share information with desired groups. It makes use of the Graph API and offers libraries in JavaScript, PHP, Python, and Ruby to speed up integration and development. The complete feature-set of what is possible in ThreatExchange can be found through the provided documentation, which includes features like submitting, editing, and deleting data, as well as privacy controls for managing who sees the published data.\n"
      ],
      "text/plain": [
       "<IPython.core.display.Markdown object>"
      ]
     },
     "metadata": {},
     "output_type": "display_data"
    },
    {
     "data": {
      "text/markdown": [
       "**User:** \n",
       "Where can I find more information?\n"
      ],
      "text/plain": [
       "<IPython.core.display.Markdown object>"
      ]
     },
     "metadata": {},
     "output_type": "display_data"
    },
    {
     "data": {
      "text/markdown": [
       "**Assistant:** \n",
       "You can find more information about the Facebook Threat Exchange API by visiting the following resources:\n",
       "- [Get Started](https://developers.facebook.com/docs/threat-exchange/getting-started/) to learn how it's structured and walk through steps to get started.\n",
       "- [UI Overview](https://developers.facebook.com/docs/threat-exchange/ui) for point-and-click management options.\n",
       "- [API Reference](https://developers.facebook.com/docs/threat-exchange/reference/apis) for full documentation of the ThreatExchange API.\n",
       "- [Terms and Conditions](https://www.facebook.com/legal/threatexchange_terms/) for the complete terms and conditions related to Threat Exchange.\n",
       "- [Changelog](https://developers.facebook.com/docs/threat-exchange/reference/changelog) for information on API changes.\n",
       "- [Open Source Terms of Use](https://opensource.facebook.com/legal/terms) and [Open Source Privacy Policy](https://opensource.facebook.com/legal/privacy) for general Facebook Open Source projects.\n"
      ],
      "text/plain": [
       "<IPython.core.display.Markdown object>"
      ]
     },
     "metadata": {},
     "output_type": "display_data"
    },
    {
     "data": {
      "text/markdown": [
       "**User:** \n",
       "where is the closest train station?\n"
      ],
      "text/plain": [
       "<IPython.core.display.Markdown object>"
      ]
     },
     "metadata": {},
     "output_type": "display_data"
    },
    {
     "data": {
      "text/markdown": [
       "**Assistant:** \n",
       "I do not know the answer to this question, as the context provided is about the Facebook Threat Exchange API and not related to a specific location or transportation information. Please provide more context for me to assist you with finding the closest train station.\n"
      ],
      "text/plain": [
       "<IPython.core.display.Markdown object>"
      ]
     },
     "metadata": {},
     "output_type": "display_data"
    },
    {
     "data": {
      "text/markdown": [
       "**User:** \n",
       "where is the closest train station?\n"
      ],
      "text/plain": [
       "<IPython.core.display.Markdown object>"
      ]
     },
     "metadata": {},
     "output_type": "display_data"
    },
    {
     "data": {
      "text/markdown": [
       "**Assistant:** \n",
       "I do not know the answer to this question, as the context provided is about the Facebook Threat Exchange API and not related to a specific location or transportation information. Please provide more context for me to assist you with finding the closest train station.\n"
      ],
      "text/plain": [
       "<IPython.core.display.Markdown object>"
      ]
     },
     "metadata": {},
     "output_type": "display_data"
    },
    {
     "data": {
      "text/markdown": [
       "**User:** \n",
       "I'm in amsterdam. I need to go to the train station!\n"
      ],
      "text/plain": [
       "<IPython.core.display.Markdown object>"
      ]
     },
     "metadata": {},
     "output_type": "display_data"
    },
    {
     "data": {
      "text/markdown": [
       "**Assistant:** \n",
       "In Amsterdam, there are multiple train stations. If you are looking for Amsterdam Centraal Station, it is one of the largest and most important stations in the city, located at Stationsplein 10, 1012 AB Amsterdam, Netherlands. It serves as a major transportation hub with connections to various trains, trams, buses, and metros. Please provide more details about your specific needs or location for further assistance.\n"
      ],
      "text/plain": [
       "<IPython.core.display.Markdown object>"
      ]
     },
     "metadata": {},
     "output_type": "display_data"
    }
   ],
   "source": [
    "print_chat(generate_answer(chat, query=\"I'm in amsterdam. I need to go to the train station!\"))"
   ]
  }
 ],
 "metadata": {
  "kernelspec": {
   "display_name": "Python 3 (ipykernel)",
   "language": "python",
   "name": "python3"
  },
  "language_info": {
   "codemirror_mode": {
    "name": "ipython",
    "version": 3
   },
   "file_extension": ".py",
   "mimetype": "text/x-python",
   "name": "python",
   "nbconvert_exporter": "python",
   "pygments_lexer": "ipython3",
   "version": "3.10.13"
  }
 },
 "nbformat": 4,
 "nbformat_minor": 5
}
