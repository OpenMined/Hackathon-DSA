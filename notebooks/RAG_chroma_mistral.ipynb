{
 "cells": [
  {
   "cell_type": "code",
   "execution_count": 1,
   "id": "a56c60e9-fe84-4d03-bf05-0bd36c08e5a2",
   "metadata": {},
   "outputs": [],
   "source": [
    "# !pip install langchain chromadb ctransformers transformers sentence_transformers\n",
    "# Apple silicon:\n",
    "# !pip uninstall ctransformers\n",
    "# !CT_METAL=1 pip install ctransformers --no-binary ctransformers"
   ]
  },
  {
   "cell_type": "code",
   "execution_count": 2,
   "id": "c5d3155f-1e4b-4f01-9056-05e2be6aaa65",
   "metadata": {},
   "outputs": [],
   "source": [
    "from pathlib import Path\n",
    "from pprint import pprint\n",
    "\n",
    "DATA_DIR = Path(\"../data\")\n",
    "SNAPSHOTS_DIR = DATA_DIR / \"platform-docs-snapshots\"\n",
    "VERSIONS_DIR = DATA_DIR / \"platform-docs-versions\"\n",
    "\n",
    "# hparams\n",
    "chunk_size = 1024\n",
    "chunk_overlap = chunk_size // 10\n",
    "embedder_name = \"BAAI/bge-small-en-v1.5\" # https://huggingface.co/spaces/mteb/leaderboard"
   ]
  },
  {
   "cell_type": "markdown",
   "id": "3ece42cd-9d32-4eda-99a6-984393c105aa",
   "metadata": {},
   "source": [
    "# Load data"
   ]
  },
  {
   "cell_type": "code",
   "execution_count": 29,
   "id": "b7370951-a3d5-408f-961f-03b88d3e94a1",
   "metadata": {},
   "outputs": [
    {
     "data": {
      "text/plain": [
       "[\"How to get the number of likes of a TikTok post. I'd like an example query and an explanation of the parameters used.\"]"
      ]
     },
     "execution_count": 29,
     "metadata": {},
     "output_type": "execute_result"
    }
   ],
   "source": [
    "from data import get_training_data\n",
    "\n",
    "train_queries, train_answers, train_context = get_training_data()\n",
    "\n",
    "query = [train_queries[-3]]\n",
    "query"
   ]
  },
  {
   "cell_type": "code",
   "execution_count": 41,
   "id": "febb8e8b-c1aa-4bb1-9230-2a5ddf97dc99",
   "metadata": {},
   "outputs": [],
   "source": [
    "from langchain_community.document_loaders import UnstructuredMarkdownLoader, DirectoryLoader, TextLoader\n",
    "from langchain.text_splitter import RecursiveCharacterTextSplitter\n",
    "\n",
    "docs = DirectoryLoader(VERSIONS_DIR, glob=\"[!.]*/[!.]*.md\", loader_cls=TextLoader).load()\n",
    "docs = [d for d in docs if Path(d.metadata['source']) != VERSIONS_DIR / \"README.md\"]"
   ]
  },
  {
   "cell_type": "code",
   "execution_count": 43,
   "id": "8aab2336-8f05-4e14-8fe8-57634f7a564e",
   "metadata": {},
   "outputs": [
    {
     "name": "stdout",
     "output_type": "stream",
     "text": [
      "Counter({'en': 131, 'fr': 8})\n"
     ]
    }
   ],
   "source": [
    "import langdetect\n",
    "from collections import Counter\n",
    "\n",
    "languages = [langdetect.detect(d.page_content) for d in docs]\n",
    "\n",
    "for doc, language in zip(docs, languages):\n",
    "    doc.metadata[\"language\"] = language\n",
    "\n",
    "print(Counter(languages))"
   ]
  },
  {
   "cell_type": "markdown",
   "id": "282c9a46-5ede-4176-84e4-bec90ca1a186",
   "metadata": {},
   "source": [
    "# Load Retriever, build index"
   ]
  },
  {
   "cell_type": "code",
   "execution_count": 31,
   "id": "bc18b8c5-1fb3-4ab1-bf6a-be3a0a1f690a",
   "metadata": {},
   "outputs": [],
   "source": [
    "from retrievers.chroma_dpr import ChromaRetriever\n",
    "import re\n",
    "\n",
    "retriever = ChromaRetriever()\n",
    "collection_name = \"DSA\"\n",
    "retriever.build(docs, collection_name)"
   ]
  },
  {
   "cell_type": "code",
   "execution_count": 8,
   "id": "815650d9-38b6-4792-9c77-4f0230755f5d",
   "metadata": {},
   "outputs": [],
   "source": [
    "results = retriever.query(\n",
    "    query=[\"How do I get activity logs from the Twitter API?\"],\n",
    "    k=1,\n",
    ")"
   ]
  },
  {
   "cell_type": "code",
   "execution_count": 8,
   "id": "79218ad7-6df0-4c3e-a97f-abd815965c66",
   "metadata": {},
   "outputs": [
    {
     "data": {
      "text/plain": [
       "{'ids': [['1973f7cb76834c268c8a273b4cb4ede4']],\n",
       " 'distances': [[1.625510334968567]],\n",
       " 'metadatas': [[{'source': '../data/platform-docs-versions/X_Twitter-API-V2/Tweets.md'}]],\n",
       " 'embeddings': None,\n",
       " 'documents': [['|     |     |     |\\n| --- | --- | --- |\\n| **Description** | **Standard v1.1** | **Twitter API v2** |\\n| Documentation | [API Reference](https://developer.twitter.com/en/docs/twitter-api/v1/tweets/timelines/api-reference/get-statuses-user_timeline.html) | [API Reference](https://developer.twitter.com/en/docs/twitter-api/tweets/timelines/api-reference/get-users-id-tweets.html) |\\n| HTTP methods supported | GET | GET |\\n| Host domain | https://api.twitter.com | https://api.twitter.com |\\n| Endpoint paths | /1.1/statuses/user\\\\_timeline.json | /2/users/:id/tweets |\\n| Required parameters | user\\\\_id or screen\\\\_name | User ID set as path parameter :id |\\n| Authentication | OAuth 1.0a User Context<br><br>OAuth 2.0 App-Only | OAuth 1.0a User Context<br><br>OAuth 2.0 App-Only<br><br>OAuth 2.0 Authorization Code with PKCE |']],\n",
       " 'uris': None,\n",
       " 'data': None}"
      ]
     },
     "execution_count": 8,
     "metadata": {},
     "output_type": "execute_result"
    }
   ],
   "source": [
    "results"
   ]
  },
  {
   "cell_type": "code",
   "execution_count": 9,
   "id": "3e873b9d-5843-4a94-a6fa-ef436eee2aef",
   "metadata": {},
   "outputs": [
    {
     "name": "stdout",
     "output_type": "stream",
     "text": [
      "[[{'source': '../data/platform-docs-versions/X_Twitter-API-V2/Tweets.md'}]]\n"
     ]
    },
    {
     "data": {
      "text/plain": [
       "'|     |     |     |\\n| --- | --- | --- |\\n| **Description** | **Standard v1.1** | **Twitter API v2** |\\n| Documentation | [API Reference](https://developer.twitter.com/en/docs/twitter-api/v1/tweets/timelines/api-reference/get-statuses-user_timeline.html) | [API Reference](https://developer.twitter.com/en/docs/twitter-api/tweets/timelines/api-reference/get-users-id-tweets.html) |\\n| HTTP methods supported | GET | GET |\\n| Host domain | https://api.twitter.com | https://api.twitter.com |\\n| Endpoint paths | /1.1/statuses/user\\\\_timeline.json | /2/users/:id/tweets |\\n| Required parameters | user\\\\_id or screen\\\\_name | User ID set as path parameter :id |\\n| Authentication | OAuth 1.0a User Context<br><br>OAuth 2.0 App-Only | OAuth 1.0a User Context<br><br>OAuth 2.0 App-Only<br><br>OAuth 2.0 Authorization Code with PKCE |'"
      ]
     },
     "execution_count": 9,
     "metadata": {},
     "output_type": "execute_result"
    }
   ],
   "source": [
    "pprint(results[\"metadatas\"])\n",
    "results[\"documents\"][0][0]"
   ]
  },
  {
   "cell_type": "markdown",
   "id": "19dfa1f7-f746-475c-9a88-6d86a6c31b35",
   "metadata": {},
   "source": [
    "# Load Generator\n",
    "\n",
    "### Quantized Mistral 7B, finetuned on code instructions\n",
    "- https://huggingface.co/TheBloke/OpenHermes-2.5-Mistral-7B-16k-GGUF#provided-files"
   ]
  },
  {
   "cell_type": "code",
   "execution_count": 9,
   "id": "9beb64f0-baab-4759-b1f1-19205dbbad34",
   "metadata": {},
   "outputs": [],
   "source": [
    "from IPython.display import display, Markdown\n",
    "\n",
    "def print_chat(chat_log):\n",
    "    for entry in chat_log:\n",
    "        if entry['role'] != 'system':\n",
    "            display(Markdown(f\"**{entry['role'].capitalize()}:** \\n{entry['content']}\\n\"))"
   ]
  },
  {
   "cell_type": "code",
   "execution_count": 10,
   "id": "9670d536-80c1-47f6-b478-5821d93ad8bf",
   "metadata": {},
   "outputs": [
    {
     "name": "stderr",
     "output_type": "stream",
     "text": [
      "huggingface/tokenizers: The current process just got forked, after parallelism has already been used. Disabling parallelism to avoid deadlocks...\n",
      "To disable this warning, you can either:\n",
      "\t- Avoid using `tokenizers` before the fork if possible\n",
      "\t- Explicitly set the environment variable TOKENIZERS_PARALLELISM=(true | false)\n"
     ]
    },
    {
     "data": {
      "application/vnd.jupyter.widget-view+json": {
       "model_id": "8e14e06361204021847d9c12c0444a34",
       "version_major": 2,
       "version_minor": 0
      },
      "text/plain": [
       "Fetching 1 files:   0%|          | 0/1 [00:00<?, ?it/s]"
      ]
     },
     "metadata": {},
     "output_type": "display_data"
    },
    {
     "data": {
      "application/vnd.jupyter.widget-view+json": {
       "model_id": "601450d13ea74b6688e4f41d8ca1606d",
       "version_major": 2,
       "version_minor": 0
      },
      "text/plain": [
       "Fetching 1 files:   0%|          | 0/1 [00:00<?, ?it/s]"
      ]
     },
     "metadata": {},
     "output_type": "display_data"
    },
    {
     "name": "stderr",
     "output_type": "stream",
     "text": [
      "Special tokens have been added in the vocabulary, make sure the associated word embeddings are fine-tuned or trained.\n"
     ]
    }
   ],
   "source": [
    "from generators.mistral import MistralRAGGenerator\n",
    "\n",
    "rag_generator = MistralRAGGenerator()"
   ]
  },
  {
   "cell_type": "code",
   "execution_count": 11,
   "id": "e3398395-f6c3-4c86-8d3d-1d63f011ea14",
   "metadata": {},
   "outputs": [],
   "source": [
    "k = 5\n",
    "\n",
    "results = retriever.query(query, k)\n",
    "\n",
    "context = results['documents']"
   ]
  },
  {
   "cell_type": "code",
   "execution_count": 12,
   "id": "6a82a9d9-7fec-46f6-8f3f-c9f1fa182841",
   "metadata": {},
   "outputs": [
    {
     "data": {
      "application/vnd.jupyter.widget-view+json": {
       "model_id": "c55759f9a0dd441fa8cbe4a1ab8252e9",
       "version_major": 2,
       "version_minor": 0
      },
      "text/plain": [
       "  0%|          | 0/2 [00:00<?, ?it/s]"
      ]
     },
     "metadata": {},
     "output_type": "display_data"
    }
   ],
   "source": [
    "chat_logs = rag_generator.generate_batch(context, query)"
   ]
  },
  {
   "cell_type": "code",
   "execution_count": 16,
   "id": "b0889d9b-3cbd-4059-9a52-400b99a79907",
   "metadata": {},
   "outputs": [
    {
     "data": {
      "text/markdown": [
       "**User:** \n",
       "How to get the number of likes of a TikTok post. I'd like an example query and an explanation of the parameters used.\n"
      ],
      "text/plain": [
       "<IPython.core.display.Markdown object>"
      ]
     },
     "metadata": {},
     "output_type": "display_data"
    },
    {
     "data": {
      "text/markdown": [
       "**Assistant:** \n",
       "I do not know how to get the number of likes of a TikTok post based on the given context. The provided context is related to Twitter API and does not contain information about TikTok. For TikTok, you would need to use the TikTok Developer Documentation or an unofficial TikTok API documentation. However, in general, to get the number of likes for a TikTok post, you would typically make a request to the TikTok API endpoint that provides information about a specific post and retrieve the \"likes\" count from the response data. The exact parameters and methods may vary depending on the API documentation or unofficial API you are using. Please provide me with a more suitable context, specific to the API or service you would like to work with (like \"TikTok\", \"Facebook\", \"Instagram\", etc.).\n"
      ],
      "text/plain": [
       "<IPython.core.display.Markdown object>"
      ]
     },
     "metadata": {},
     "output_type": "display_data"
    }
   ],
   "source": [
    "print_chat(chat_logs[-1])"
   ]
  },
  {
   "cell_type": "code",
   "execution_count": 13,
   "id": "a916457b-c3d5-4e14-9855-0408049b65b9",
   "metadata": {},
   "outputs": [
    {
     "name": "stdout",
     "output_type": "stream",
     "text": [
      "Q: Écris-moi une requête curl. Cette requête doit me permettre d'obtenir, auprès de Facebook, les publicités politiques contenant le mot \"europe\" et qui ont atteint la France et la Belgique. La réponse ne doit contenir que le code de la requête curl.\n",
      "A ```bash\n",
      "curl -G -d 'q=Europe&place=FR_BE&type=political_ads' https://graph.facebook.com/v13.0/act_<AD_ACCOUNT_ID>/adinsights\n",
      "```\n",
      "Q: How to get the number of likes of a TikTok post. I'd like an example query and an explanation of the parameters used.\n",
      "A I do not know how to get the number of likes of a TikTok post based on the given context. The provided context is related to Twitter API and does not contain information about TikTok. For TikTok, you would need to use the TikTok Developer Documentation or an unofficial TikTok API documentation. However, in general, to get the number of likes for a TikTok post, you would typically make a request to the TikTok API endpoint that provides information about a specific post and retrieve the \"likes\" count from the response data. The exact parameters and methods may vary depending on the API documentation or unofficial API you are using. Please provide me with a more suitable context, specific to the API or service you would like to work with (like \"TikTok\", \"Facebook\", \"Instagram\", etc.).\n"
     ]
    }
   ],
   "source": [
    "# For evaluation\n",
    "\n",
    "answer = [c[-1][\"content\"] for c in chat_logs]\n",
    "\n",
    "for q, a in zip(query, answer):\n",
    "    print(\"Q:\", q)\n",
    "    print(\"A\", a)"
   ]
  },
  {
   "cell_type": "code",
   "execution_count": null,
   "id": "5c3c265a-3a02-41ca-9cad-a4e586f6dd97",
   "metadata": {},
   "outputs": [],
   "source": []
  }
 ],
 "metadata": {
  "kernelspec": {
   "display_name": "Python 3 (ipykernel)",
   "language": "python",
   "name": "python3"
  },
  "language_info": {
   "codemirror_mode": {
    "name": "ipython",
    "version": 3
   },
   "file_extension": ".py",
   "mimetype": "text/x-python",
   "name": "python",
   "nbconvert_exporter": "python",
   "pygments_lexer": "ipython3",
   "version": "3.10.13"
  }
 },
 "nbformat": 4,
 "nbformat_minor": 5
}
