{
 "cells": [
  {
   "cell_type": "code",
   "execution_count": 1,
   "id": "a56c60e9-fe84-4d03-bf05-0bd36c08e5a2",
   "metadata": {},
   "outputs": [],
   "source": [
    "# !pip install langchain chromadb ctransformers transformers sentence_transformers\n",
    "# Apple silicon:\n",
    "# !pip uninstall ctransformers\n",
    "# !CT_METAL=1 pip install ctransformers --no-binary ctransformers"
   ]
  },
  {
   "cell_type": "code",
   "execution_count": 2,
   "id": "c5d3155f-1e4b-4f01-9056-05e2be6aaa65",
   "metadata": {},
   "outputs": [],
   "source": [
    "from pathlib import Path\n",
    "from pprint import pprint\n",
    "\n",
    "DATA_DIR = Path(\"../data\")\n",
    "SNAPSHOTS_DIR = DATA_DIR / \"platform-docs-snapshots\"\n",
    "VERSIONS_DIR = DATA_DIR / \"platform-docs-versions\"\n",
    "\n",
    "# hparams\n",
    "chunk_size = 1024\n",
    "chunk_overlap = chunk_size // 10\n",
    "embedder_name = \"BAAI/bge-small-en-v1.5\" # https://huggingface.co/spaces/mteb/leaderboard"
   ]
  },
  {
   "cell_type": "markdown",
   "id": "3ece42cd-9d32-4eda-99a6-984393c105aa",
   "metadata": {},
   "source": [
    "# Load data"
   ]
  },
  {
   "cell_type": "code",
   "execution_count": 3,
   "id": "b7370951-a3d5-408f-961f-03b88d3e94a1",
   "metadata": {},
   "outputs": [
    {
     "data": {
      "text/plain": [
       "['Écris-moi une requête curl. Cette requête doit me permettre d\\'obtenir, auprès de Facebook, les publicités politiques contenant le mot \"europe\" et qui ont atteint la France et la Belgique. La réponse ne doit contenir que le code de la requête curl.',\n",
       " 'How is content moderation carried out on X?']"
      ]
     },
     "execution_count": 3,
     "metadata": {},
     "output_type": "execute_result"
    }
   ],
   "source": [
    "from data import get_training_data\n",
    "\n",
    "train_queries, train_answers, train_context = get_training_data()\n",
    "\n",
    "query = [train_queries[0], train_queries[-1]]\n",
    "query"
   ]
  },
  {
   "cell_type": "code",
   "execution_count": 4,
   "id": "febb8e8b-c1aa-4bb1-9230-2a5ddf97dc99",
   "metadata": {},
   "outputs": [],
   "source": [
    "from langchain_community.document_loaders import UnstructuredMarkdownLoader, DirectoryLoader, TextLoader\n",
    "from langchain.text_splitter import RecursiveCharacterTextSplitter\n",
    "\n",
    "docs = DirectoryLoader(VERSIONS_DIR, glob=\"[!.]*/[!.]*.md\", loader_cls=TextLoader).load()\n",
    "docs = [d for d in docs if Path(d.metadata['source']) != VERSIONS_DIR / \"README.md\"]"
   ]
  },
  {
   "cell_type": "markdown",
   "id": "282c9a46-5ede-4176-84e4-bec90ca1a186",
   "metadata": {},
   "source": [
    "# Load Retriever, build index"
   ]
  },
  {
   "cell_type": "code",
   "execution_count": 5,
   "id": "bc18b8c5-1fb3-4ab1-bf6a-be3a0a1f690a",
   "metadata": {},
   "outputs": [],
   "source": [
    "from retrievers.chroma_dpr import ChromaRetriever\n",
    "import re\n",
    "\n",
    "retriever = ChromaRetriever()\n",
    "collection_name = \"DSA\"\n",
    "retriever.build(docs, collection_name)"
   ]
  },
  {
   "cell_type": "code",
   "execution_count": 6,
   "id": "917f02cd-9d93-45ec-956e-b3a48da89cda",
   "metadata": {},
   "outputs": [
    {
     "name": "stdout",
     "output_type": "stream",
     "text": [
      "[\"Écris-moi une requête curl. Cette requête doit me permettre d'obtenir, \"\n",
      " 'auprès de Facebook, les publicités politiques contenant le mot \"europe\" et '\n",
      " 'qui ont atteint la France et la Belgique. La réponse ne doit contenir que le '\n",
      " 'code de la requête curl.',\n",
      " 'How is content moderation carried out on X?']\n"
     ]
    },
    {
     "data": {
      "text/plain": [
       "{'ids': [['437eb619f8a8442184a6363ad1fc066f'],\n",
       "  ['ae37b11903bf4d1e861340a5409fbe24']],\n",
       " 'distances': [[1.6061259508132935], [1.5492799282073975]],\n",
       " 'metadatas': [[{'source': '../data/platform-docs-versions/TikTok_Transparency/Community Guidelines Enforcement Reports.md'}],\n",
       "  [{'source': '../data/platform-docs-versions/Facebook_Community-Report/Community Standards Enforcement Report.md'}]],\n",
       " 'embeddings': None,\n",
       " 'documents': [['**Définitions**\\n\\n* **Les réseaux ont opéré depuis :** indique l’emplacement géographique des opérations du réseau selon des preuves techniques et comportementales récoltées depuis des sources privées et ouvertes. Il est possible que TikTok ne soit pas en mesure de relier ces réseaux à des entités, des individus ou des groupes définis.\\n* **Source de la détection :** considérée comme interne quand la présence de l’activité a été identifiée uniquement via une enquête menée en interne. La détection externe renvoie à des enquêtes qui ont débuté avec un rapport externe, ayant ensuite entraîné une enquête.\\n* **Abonnés du réseau :** nombre total cumulé des comptes abonnés aux comptes du réseau au moment de la suppression du réseau.\\n\\n* * *\\n\\n**Sûreté**\\n----------'],\n",
       "  ['Terrorism\\n\\nOrganized Hate\\n\\nHow we calculate it\\n\\nContent actioned is the total number of pieces of content that Facebook took action on for terrorism and organized hate. It includes both content we actioned after someone reported it, and content that we found proactively.\\n\\n[Read about this data](https://transparency.fb.com/policies/improving/content-actioned-metric/)\\n\\nproactive rate\\n--------------\\n\\nOf the violating content we actioned for dangerous organizations, how much did we find and action before people reported it?\\n\\nTerrorism\\n\\nTerrorism\\n\\nOrganized Hate\\n\\nFound and actioned by us\\n\\nReported by users\\n\\nHow we calculate it\\n\\nProactive rate is the number of pieces of content acted on that we found and actioned before people using Facebook reported them, divided by the total number of pieces of content we took action on.\\n\\n[Read about this data](https://transparency.fb.com/policies/improving/proactive-rate-metric/)\\n\\nCorrecting mistakes']],\n",
       " 'uris': None,\n",
       " 'data': None}"
      ]
     },
     "execution_count": 6,
     "metadata": {},
     "output_type": "execute_result"
    }
   ],
   "source": [
    "pprint(query)\n",
    "\n",
    "retriever.query(query, k=1)"
   ]
  },
  {
   "cell_type": "code",
   "execution_count": 7,
   "id": "815650d9-38b6-4792-9c77-4f0230755f5d",
   "metadata": {},
   "outputs": [],
   "source": [
    "results = retriever.query(\n",
    "    query=[\"How do I get activity logs from the Twitter API?\"],\n",
    "    k=1,\n",
    ")"
   ]
  },
  {
   "cell_type": "code",
   "execution_count": 8,
   "id": "79218ad7-6df0-4c3e-a97f-abd815965c66",
   "metadata": {},
   "outputs": [
    {
     "data": {
      "text/plain": [
       "{'ids': [['1973f7cb76834c268c8a273b4cb4ede4']],\n",
       " 'distances': [[1.625510334968567]],\n",
       " 'metadatas': [[{'source': '../data/platform-docs-versions/X_Twitter-API-V2/Tweets.md'}]],\n",
       " 'embeddings': None,\n",
       " 'documents': [['|     |     |     |\\n| --- | --- | --- |\\n| **Description** | **Standard v1.1** | **Twitter API v2** |\\n| Documentation | [API Reference](https://developer.twitter.com/en/docs/twitter-api/v1/tweets/timelines/api-reference/get-statuses-user_timeline.html) | [API Reference](https://developer.twitter.com/en/docs/twitter-api/tweets/timelines/api-reference/get-users-id-tweets.html) |\\n| HTTP methods supported | GET | GET |\\n| Host domain | https://api.twitter.com | https://api.twitter.com |\\n| Endpoint paths | /1.1/statuses/user\\\\_timeline.json | /2/users/:id/tweets |\\n| Required parameters | user\\\\_id or screen\\\\_name | User ID set as path parameter :id |\\n| Authentication | OAuth 1.0a User Context<br><br>OAuth 2.0 App-Only | OAuth 1.0a User Context<br><br>OAuth 2.0 App-Only<br><br>OAuth 2.0 Authorization Code with PKCE |']],\n",
       " 'uris': None,\n",
       " 'data': None}"
      ]
     },
     "execution_count": 8,
     "metadata": {},
     "output_type": "execute_result"
    }
   ],
   "source": [
    "results"
   ]
  },
  {
   "cell_type": "code",
   "execution_count": 9,
   "id": "3e873b9d-5843-4a94-a6fa-ef436eee2aef",
   "metadata": {},
   "outputs": [
    {
     "name": "stdout",
     "output_type": "stream",
     "text": [
      "[[{'source': '../data/platform-docs-versions/X_Twitter-API-V2/Tweets.md'}]]\n"
     ]
    },
    {
     "data": {
      "text/plain": [
       "'|     |     |     |\\n| --- | --- | --- |\\n| **Description** | **Standard v1.1** | **Twitter API v2** |\\n| Documentation | [API Reference](https://developer.twitter.com/en/docs/twitter-api/v1/tweets/timelines/api-reference/get-statuses-user_timeline.html) | [API Reference](https://developer.twitter.com/en/docs/twitter-api/tweets/timelines/api-reference/get-users-id-tweets.html) |\\n| HTTP methods supported | GET | GET |\\n| Host domain | https://api.twitter.com | https://api.twitter.com |\\n| Endpoint paths | /1.1/statuses/user\\\\_timeline.json | /2/users/:id/tweets |\\n| Required parameters | user\\\\_id or screen\\\\_name | User ID set as path parameter :id |\\n| Authentication | OAuth 1.0a User Context<br><br>OAuth 2.0 App-Only | OAuth 1.0a User Context<br><br>OAuth 2.0 App-Only<br><br>OAuth 2.0 Authorization Code with PKCE |'"
      ]
     },
     "execution_count": 9,
     "metadata": {},
     "output_type": "execute_result"
    }
   ],
   "source": [
    "pprint(results[\"metadatas\"])\n",
    "results[\"documents\"][0][0]"
   ]
  },
  {
   "cell_type": "markdown",
   "id": "19dfa1f7-f746-475c-9a88-6d86a6c31b35",
   "metadata": {},
   "source": [
    "# Load Generator\n",
    "\n",
    "### Quantized Mistral 7B, finetuned on code instructions\n",
    "- https://huggingface.co/TheBloke/OpenHermes-2.5-Mistral-7B-16k-GGUF#provided-files"
   ]
  },
  {
   "cell_type": "code",
   "execution_count": 10,
   "id": "9beb64f0-baab-4759-b1f1-19205dbbad34",
   "metadata": {},
   "outputs": [],
   "source": [
    "from IPython.display import display, Markdown\n",
    "\n",
    "def print_chat(chat_log):\n",
    "    for entry in chat_log:\n",
    "        if entry['role'] != 'system':\n",
    "            display(Markdown(f\"**{entry['role'].capitalize()}:** \\n{entry['content']}\\n\"))"
   ]
  },
  {
   "cell_type": "code",
   "execution_count": 11,
   "id": "9670d536-80c1-47f6-b478-5821d93ad8bf",
   "metadata": {},
   "outputs": [
    {
     "name": "stderr",
     "output_type": "stream",
     "text": [
      "huggingface/tokenizers: The current process just got forked, after parallelism has already been used. Disabling parallelism to avoid deadlocks...\n",
      "To disable this warning, you can either:\n",
      "\t- Avoid using `tokenizers` before the fork if possible\n",
      "\t- Explicitly set the environment variable TOKENIZERS_PARALLELISM=(true | false)\n"
     ]
    },
    {
     "data": {
      "application/vnd.jupyter.widget-view+json": {
       "model_id": "b9a1e7ec0ded49cbbcc40affca7282d9",
       "version_major": 2,
       "version_minor": 0
      },
      "text/plain": [
       "Fetching 1 files:   0%|          | 0/1 [00:00<?, ?it/s]"
      ]
     },
     "metadata": {},
     "output_type": "display_data"
    },
    {
     "data": {
      "application/vnd.jupyter.widget-view+json": {
       "model_id": "deb1aafd6a8d4ae4985730104f656662",
       "version_major": 2,
       "version_minor": 0
      },
      "text/plain": [
       "Fetching 1 files:   0%|          | 0/1 [00:00<?, ?it/s]"
      ]
     },
     "metadata": {},
     "output_type": "display_data"
    },
    {
     "name": "stderr",
     "output_type": "stream",
     "text": [
      "Special tokens have been added in the vocabulary, make sure the associated word embeddings are fine-tuned or trained.\n"
     ]
    }
   ],
   "source": [
    "from generators.mistral import MistralRAGGenerator\n",
    "\n",
    "rag_generator = MistralRAGGenerator()"
   ]
  },
  {
   "cell_type": "code",
   "execution_count": 12,
   "id": "e3398395-f6c3-4c86-8d3d-1d63f011ea14",
   "metadata": {},
   "outputs": [],
   "source": [
    "k = 5\n",
    "\n",
    "results = retriever.query(query, k)\n",
    "\n",
    "context = results['documents']"
   ]
  },
  {
   "cell_type": "code",
   "execution_count": 13,
   "id": "6a82a9d9-7fec-46f6-8f3f-c9f1fa182841",
   "metadata": {},
   "outputs": [
    {
     "data": {
      "application/vnd.jupyter.widget-view+json": {
       "model_id": "1696671a0ae846bd98bea03469465342",
       "version_major": 2,
       "version_minor": 0
      },
      "text/plain": [
       "  0%|          | 0/2 [00:00<?, ?it/s]"
      ]
     },
     "metadata": {},
     "output_type": "display_data"
    }
   ],
   "source": [
    "chat_logs = rag_generator.generate_batch(context, query)"
   ]
  },
  {
   "cell_type": "code",
   "execution_count": 14,
   "id": "a916457b-c3d5-4e14-9855-0408049b65b9",
   "metadata": {},
   "outputs": [
    {
     "name": "stdout",
     "output_type": "stream",
     "text": [
      "Q: Écris-moi une requête curl. Cette requête doit me permettre d'obtenir, auprès de Facebook, les publicités politiques contenant le mot \"europe\" et qui ont atteint la France et la Belgique. La réponse ne doit contenir que le code de la requête curl.\n",
      "A ```bash\n",
      "curl -G -d \"q=Europe&place=FR,BE&type=political_ads\" https://graph.facebook.com/v12.0/adstories\n",
      "```\n",
      "Q: How is content moderation carried out on X?\n",
      "A \n"
     ]
    }
   ],
   "source": [
    "# For evaluation\n",
    "\n",
    "answer = [c[-1][\"content\"] for c in chat_logs]\n",
    "\n",
    "for q, a in zip(query, answer):\n",
    "    print(\"Q:\", q)\n",
    "    print(\"A\", a)"
   ]
  },
  {
   "cell_type": "code",
   "execution_count": 15,
   "id": "b1736f2e-b03c-4e57-b02a-abedeec2cec5",
   "metadata": {},
   "outputs": [
    {
     "data": {
      "text/plain": [
       "[{'role': 'system',\n",
       "  'content': '\\nYou are a QA assistant that answers questions based only on the context you are given.\\n\\nExamples:\\nQ: I am a coding expert. How could I get more info about a Facebook post whose url slug ends with 123456789_123456789? I have a crowdtangle API token (TOKEN). Your output is a bash code snippet.\\nA: ```bash\\ncurl -L https://api.crowdtangle.com/post/123456789_123456789?token=<CROWDTANGLE_API_TOKEN>\\n```\\n\\nNext section will contain the context. You can use it to formulate the answer to the user question.\\n------------------\\nCONTEXT 0\\nTerrorism\\n\\nOrganized Hate\\n\\nHow we calculate it\\n\\nContent actioned is the total number of pieces of content that Facebook took action on for terrorism and organized hate. It includes both content we actioned after someone reported it, and content that we found proactively.\\n\\n[Read about this data](https://transparency.fb.com/policies/improving/content-actioned-metric/)\\n\\nproactive rate\\n--------------\\n\\nOf the violating content we actioned for dangerous organizations, how much did we find and action before people reported it?\\n\\nTerrorism\\n\\nTerrorism\\n\\nOrganized Hate\\n\\nFound and actioned by us\\n\\nReported by users\\n\\nHow we calculate it\\n\\nProactive rate is the number of pieces of content acted on that we found and actioned before people using Facebook reported them, divided by the total number of pieces of content we took action on.\\n\\n[Read about this data](https://transparency.fb.com/policies/improving/proactive-rate-metric/)\\n\\nCorrecting mistakes\\n\\nCONTEXT 1\\nmanage the scale of content that is uploaded to YouTube (over 500 hours of content every minute),\\n\\nwhile still digging into the nuances that determine whether a piece of content is violative.\\n\\n\\n\\nSome examples of how YouTube uses automated processes for content moderation include:\\n\\n\\n\\n1. Flagging, removing, or restricting inappropriate content: YouTube uses smart detection\\n\\ntechnology to detect content that may violate YouTube’s policies and sends it for human review.\\n\\nIn some cases, that same technology automatically takes an action, which could include\\n\\nremoving or restricting content (e.g., age-restrict content not suitable for all audiences), limiting\\n\\ncontent’s monetisation eligibility, or applying a strike to a channel.\\n\\n\\n\\nEU DSA Report • 27\\n\\n2. Identifying copyright-protected content: Content ID, YouTube\\'s automated content\\n\\nidenti\\x00cation system, identi\\x00es copyright-protected content on YouTube. Videos uploaded to\\n\\nYouTube are scanned against a database of audio and visual reference \\x00les submi\\x00ed to\\n\\nCONTEXT 2\\nHow much hate speech content did we take action on?\\n\\nHow we calculate it\\n\\nContent actioned is the total number of pieces of content that Facebook took action on for hate speech. It includes both content we actioned after someone reported it, and content that we found proactively.\\n\\n[Read about this data](https://transparency.fb.com/policies/improving/content-actioned-metric/)\\n\\nproactive rate\\n--------------\\n\\nOf the violating content we actioned for hate speech, how much did we find and action before people reported it?\\n\\nFound and actioned by us\\n\\nReported by users\\n\\nHow we calculate it\\n\\nProactive rate is the number of pieces of content acted on that we found and actioned before people using Facebook reported them, divided by the total number of pieces of content we took action on.\\n\\n[Read about this data](https://transparency.fb.com/policies/improving/proactive-rate-metric/)\\n\\nCorrecting mistakes\\n\\nCONTEXT 3\\nHow we calculate it\\n\\nContent actioned is the total number of pieces of content that Facebook took action on for hate speech. It includes both content we actioned after someone reported it, and content that we found proactively.\\n\\nHow we calculate it\\n\\nProactive rate is the number of pieces of content acted on that we found and actioned before people using Facebook reported them, divided by the total number of pieces of content we took action on.\\n\\nHow we calculate it\\n\\nAppealed content counts the number of pieces of content actioned which were submitted for another review during the reporting period.\\n\\nHow we calculate it\\n\\nRestored content is the number of pieces of content that we restored during the reporting period after previously actioning it. We restore content both when it is appealed and when we discover issues ourselves.\\n\\n[Home](https://transparency.fb.com/)\\n\\n[Data](https://transparency.fb.com/reports/)\\n\\nCONTEXT 4\\n**Table 3.2:** Content moderation measures taken categorised by type of restriction applied\\n\\n|     | **Count of content moderation measures taken** |\\n| --- | --- |\\n| Accounts terminated[13](#thirteen) | 512,914 |\\n| Ratings or reviews removed[14](#fourteen) | 480,719 |\\n| Apps removed[15](#fifteen) | 7,129 |\\n| Apps restricted[16](#sixteen) | 27  |\\n| Ads removed | 10  |\\n| Accounts restricted[17](#seventeen) | 5   |\\n\\n**Table 3.3:** Content moderation measures taken categorised by type of illegal content or violation of terms and conditions\\n------------------\\n\\nRULES\\n- Give an answer ONLY based on the above context and with no prior knowledge.\\n- If you cannot come up with an answer to the user question, you can answer  like \"I do not know the answer to this question\".\\n- Your answers are short, complete and easy to follow. Include code examples if neccessary.\\n'},\n",
       " {'role': 'user', 'content': 'How is content moderation carried out on X?'},\n",
       " {'role': 'assistant', 'content': ''}]"
      ]
     },
     "execution_count": 15,
     "metadata": {},
     "output_type": "execute_result"
    }
   ],
   "source": [
    "chat_logs[-1]"
   ]
  },
  {
   "cell_type": "code",
   "execution_count": null,
   "id": "5c3c265a-3a02-41ca-9cad-a4e586f6dd97",
   "metadata": {},
   "outputs": [],
   "source": []
  }
 ],
 "metadata": {
  "kernelspec": {
   "display_name": "Python 3 (ipykernel)",
   "language": "python",
   "name": "python3"
  },
  "language_info": {
   "codemirror_mode": {
    "name": "ipython",
    "version": 3
   },
   "file_extension": ".py",
   "mimetype": "text/x-python",
   "name": "python",
   "nbconvert_exporter": "python",
   "pygments_lexer": "ipython3",
   "version": "3.10.13"
  }
 },
 "nbformat": 4,
 "nbformat_minor": 5
}
