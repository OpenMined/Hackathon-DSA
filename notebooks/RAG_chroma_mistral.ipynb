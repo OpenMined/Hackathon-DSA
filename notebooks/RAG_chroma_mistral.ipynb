{
 "cells": [
  {
   "cell_type": "code",
   "execution_count": 1,
   "id": "c5d3155f-1e4b-4f01-9056-05e2be6aaa65",
   "metadata": {},
   "outputs": [],
   "source": [
    "from pathlib import Path\n",
    "from pprint import pprint\n",
    "\n",
    "DATA_DIR = Path(\"../data\")\n",
    "SNAPSHOTS_DIR = DATA_DIR / \"platform-docs-snapshots\"\n",
    "VERSIONS_DIR = DATA_DIR / \"platform-docs-versions\"\n",
    "\n",
    "# hparams\n",
    "chunk_size = 1024\n",
    "chunk_overlap = chunk_size // 10\n",
    "embedder_name = \"BAAI/bge-small-en-v1.5\" # https://huggingface.co/spaces/mteb/leaderboard"
   ]
  },
  {
   "cell_type": "markdown",
   "id": "3ece42cd-9d32-4eda-99a6-984393c105aa",
   "metadata": {},
   "source": [
    "# Pre-processing"
   ]
  },
  {
   "cell_type": "code",
   "execution_count": 2,
   "id": "febb8e8b-c1aa-4bb1-9230-2a5ddf97dc99",
   "metadata": {},
   "outputs": [],
   "source": [
    "from langchain_community.document_loaders import UnstructuredMarkdownLoader, DirectoryLoader, TextLoader\n",
    "from langchain.text_splitter import RecursiveCharacterTextSplitter\n",
    "\n",
    "docs = DirectoryLoader(VERSIONS_DIR, glob=\"[!.]*/[!.]*.md\", loader_cls=TextLoader).load()\n",
    "docs = [d for d in docs if Path(d.metadata['source']) != VERSIONS_DIR / \"README.md\"]"
   ]
  },
  {
   "cell_type": "code",
   "execution_count": 3,
   "id": "3f657de3-657f-47e0-988f-e4b81b6ad532",
   "metadata": {
    "scrolled": true
   },
   "outputs": [],
   "source": [
    "text_splitter = RecursiveCharacterTextSplitter(chunk_size=chunk_size, chunk_overlap=chunk_overlap)\n",
    "docs_split = text_splitter.split_documents(docs)"
   ]
  },
  {
   "cell_type": "markdown",
   "id": "ef9f7f3b-0bc4-41f2-bf24-e316d73e2a44",
   "metadata": {},
   "source": [
    "# Build index"
   ]
  },
  {
   "cell_type": "code",
   "execution_count": 5,
   "id": "f19c65cf-530a-4dc3-aa80-2842fa0aebfc",
   "metadata": {},
   "outputs": [],
   "source": [
    "import uuid\n",
    "from tqdm.notebook import tqdm\n",
    "import chromadb\n",
    "from chromadb.utils import embedding_functions\n",
    "import re\n",
    "\n",
    "# Chroma uses all-MiniLM-L6-v2 by default\n",
    "chroma_client = chromadb.PersistentClient()\n",
    " \n",
    "def format_model_name(name):\n",
    "    # chromaDB only allows these characters\n",
    "    return re.sub(r'[^a-zA-Z0-9_-]', '_', name)\n",
    "\n",
    "collection_name = f\"DSA_{format_model_name(embedder_name)}\"\n",
    "\n",
    "try:\n",
    "    collection = chroma_client.get_collection(collection_name)\n",
    "except ValueError:\n",
    "    print(\"Building collection...\")\n",
    "    embedding_fn = embedding_functions.SentenceTransformerEmbeddingFunction(embedder_name=embedder_name)\n",
    "\n",
    "    collection = chroma_client.create_collection(name=collection_name, embedding_function=embedding_fn)\n",
    "    \n",
    "    text = [d.page_content for d in docs_split]\n",
    "    metadatas = [d.metadata for d in docs_split]\n",
    "    ids = [uuid.uuid4().hex for _ in range(len(docs_split))]\n",
    "    \n",
    "    collection.add(\n",
    "        documents=text,\n",
    "        metadatas=metadatas,\n",
    "        ids=ids,\n",
    "    )"
   ]
  },
  {
   "cell_type": "code",
   "execution_count": 6,
   "id": "815650d9-38b6-4792-9c77-4f0230755f5d",
   "metadata": {},
   "outputs": [],
   "source": [
    "results = collection.query(\n",
    "    query_texts=[\"How do I get activity logs from the Twitter API?\"],\n",
    "    n_results=5,\n",
    ")"
   ]
  },
  {
   "cell_type": "code",
   "execution_count": 7,
   "id": "3e873b9d-5843-4a94-a6fa-ef436eee2aef",
   "metadata": {},
   "outputs": [
    {
     "name": "stdout",
     "output_type": "stream",
     "text": [
      "[[{'source': '../data/platform-docs-versions/X_Twitter-API-Enterprise/Account '\n",
      "             'Activity API.md'},\n",
      "  {'source': '../data/platform-docs-versions/X_Twitter-API-Enterprise/Account '\n",
      "             'Activity API.md'},\n",
      "  {'source': '../data/platform-docs-versions/X_Twitter-API-Enterprise/Account '\n",
      "             'Activity API.md'},\n",
      "  {'source': '../data/platform-docs-versions/X_Twitter-API-Enterprise/Account '\n",
      "             'Activity API.md'},\n",
      "  {'source': '../data/platform-docs-versions/X_Twitter-API-Enterprise/Account '\n",
      "             'Activity API.md'}]]\n"
     ]
    },
    {
     "data": {
      "text/plain": [
       "'####\\n\\nAuthenticating with the Account Activity API\\n\\n**Please note**:\\xa0\\n\\nTwitter needs to enable access to the Account Activity API for your developer App before you can start using the API. To this end, make sure to share the App ID that you intend to use for authentication purposes with your account manager or technical support team.\\n\\nThe [Account Activity API](https://developer.twitter.com/en/docs/twitter-api/enterprise/account-activity-api/overview) consists of a set of endpoints that allow you to create and manage user subscriptions to receive real-time account activities for all of your subscribed accounts through a single connection.'"
      ]
     },
     "execution_count": 7,
     "metadata": {},
     "output_type": "execute_result"
    }
   ],
   "source": [
    "pprint(results[\"metadatas\"])\n",
    "results[\"documents\"][0][0]"
   ]
  },
  {
   "cell_type": "markdown",
   "id": "19dfa1f7-f746-475c-9a88-6d86a6c31b35",
   "metadata": {},
   "source": [
    "# Load Generator\n",
    "\n",
    "### Quantized Mistral 7B, finetuned on code instructions\n",
    "- https://huggingface.co/TheBloke/OpenHermes-2.5-Mistral-7B-16k-GGUF#provided-files"
   ]
  },
  {
   "cell_type": "code",
   "execution_count": 8,
   "id": "822ad186-df9b-499c-bd46-8575020afa0b",
   "metadata": {},
   "outputs": [
    {
     "name": "stderr",
     "output_type": "stream",
     "text": [
      "huggingface/tokenizers: The current process just got forked, after parallelism has already been used. Disabling parallelism to avoid deadlocks...\n",
      "To disable this warning, you can either:\n",
      "\t- Avoid using `tokenizers` before the fork if possible\n",
      "\t- Explicitly set the environment variable TOKENIZERS_PARALLELISM=(true | false)\n"
     ]
    },
    {
     "data": {
      "application/vnd.jupyter.widget-view+json": {
       "model_id": "0dd31b391aa24f4eb3e4aa2bd7947346",
       "version_major": 2,
       "version_minor": 0
      },
      "text/plain": [
       "Fetching 1 files:   0%|          | 0/1 [00:00<?, ?it/s]"
      ]
     },
     "metadata": {},
     "output_type": "display_data"
    },
    {
     "data": {
      "application/vnd.jupyter.widget-view+json": {
       "model_id": "9b693430d5fe44659c916728747795ee",
       "version_major": 2,
       "version_minor": 0
      },
      "text/plain": [
       "Fetching 1 files:   0%|          | 0/1 [00:00<?, ?it/s]"
      ]
     },
     "metadata": {},
     "output_type": "display_data"
    },
    {
     "name": "stderr",
     "output_type": "stream",
     "text": [
      "Special tokens have been added in the vocabulary, make sure the associated word embeddings are fine-tuned or trained.\n"
     ]
    }
   ],
   "source": [
    "from ctransformers import AutoModelForCausalLM, AutoConfig\n",
    "from transformers import AutoTokenizer\n",
    "from typing import List, Dict\n",
    "\n",
    "gpu_layers = 0\n",
    "\n",
    "model_file = \"openhermes-2.5-mistral-7b-16k.Q4_K_M.gguf\"\n",
    "\n",
    "llm = AutoModelForCausalLM.from_pretrained(\n",
    "    \"TheBloke/OpenHermes-2.5-Mistral-7B-16k-GGUF\",\n",
    "    model_file=\"openhermes-2.5-mistral-7b-16k.Q4_K_M.gguf\",\n",
    "    model_type=\"mistral\", \n",
    "    gpu_layers=gpu_layers,\n",
    "    max_new_tokens=4000,\n",
    "    context_length=16_000,\n",
    ")\n",
    "\n",
    "tokenizer = AutoTokenizer.from_pretrained(\"NurtureAI/OpenHermes-2.5-Mistral-7B-16k\")\n",
    "\n",
    "def format_prompt(messages: List[Dict[str, str]]) -> str:\n",
    "    return tokenizer.apply_chat_template(messages, tokenize=False, add_generation_prompt=True)"
   ]
  },
  {
   "cell_type": "markdown",
   "id": "d88ca8a3-a715-48e9-a0ca-5f6603e27b0c",
   "metadata": {},
   "source": [
    "# RAG Query"
   ]
  },
  {
   "cell_type": "code",
   "execution_count": 9,
   "id": "cc171db2-6060-4bbf-81f8-49a3e4d36184",
   "metadata": {},
   "outputs": [],
   "source": [
    "system_message = \"\"\"\n",
    "You are a friendly QA bot that answers questions based only on the context you are given.\n",
    "- Give an  answer only based on the context and with no prior knowledge.\n",
    "- If you cannot come up with an answer to the user question, answer that you do not know the answer.\n",
    "- You can be very strict with what you do and don't answer. if the query is completely unrelated to the context you are given,\n",
    "reply that you do not know the answer.\n",
    "- include API code with the python requests library if required\n",
    "\n",
    "------------------\n",
    "CONTEXT\n",
    "{context}\n",
    "\"\"\""
   ]
  },
  {
   "cell_type": "code",
   "execution_count": 10,
   "id": "9beb64f0-baab-4759-b1f1-19205dbbad34",
   "metadata": {},
   "outputs": [],
   "source": [
    "def init_chat_log(context: str):\n",
    "    return [\n",
    "        {\"role\": \"system\", \"content\": system_message.format(context=context)},\n",
    "    ]\n",
    "\n",
    "def generate_answer(chat_log: List[Dict[str, str]], query: str):\n",
    "    if query:\n",
    "        chat_log.append({\"role\": \"user\", \"content\": query})\n",
    "    if chat_log[-1][\"role\"] != \"user\":\n",
    "        raise ValueError(\"query required\")\n",
    "            \n",
    "    prompt = format_prompt(chat)\n",
    "    output = llm(prompt, stop=[\"<|im_end|>\"])\n",
    "    chat_log.append({\"role\": \"assistant\", \"content\": output})\n",
    "    return chat_log\n",
    "\n",
    "from IPython.display import display, Markdown\n",
    "\n",
    "def print_chat(chat_log):\n",
    "    for entry in chat_log:\n",
    "        if entry['role'] != 'system':\n",
    "            display(Markdown(f\"**{entry['role'].capitalize()}:** \\n{entry['content']}\\n\"))"
   ]
  },
  {
   "cell_type": "code",
   "execution_count": 13,
   "id": "ecbe88ef-626c-46f0-bf45-609ab577c1c1",
   "metadata": {},
   "outputs": [
    {
     "data": {
      "text/plain": [
       "'../data/platform-docs-versions/Facebook_Graph-API/User Endpoint.md'"
      ]
     },
     "execution_count": 13,
     "metadata": {},
     "output_type": "execute_result"
    }
   ],
   "source": [
    "results[\"metadatas\"][0][1][\"source\"]"
   ]
  },
  {
   "cell_type": "code",
   "execution_count": 24,
   "id": "e3398395-f6c3-4c86-8d3d-1d63f011ea14",
   "metadata": {},
   "outputs": [
    {
     "name": "stdout",
     "output_type": "stream",
     "text": [
      "CONTEXT 0\n",
      "FILENAME: ../data/platform-docs-versions/Facebook_Graph-API/Graph API Overview.md\n",
      "#### X-Ad-Account-Usage Header Contents\n",
      "\n",
      "| Key | Value Description |\n",
      "| --- | --- |\n",
      "| `acc_id_util_pct` | The percentage of calls made for this ad account before the rate limit is reached. |\n",
      "| `reset_time_duration` | Time duration (in seconds) it takes to reset the current rate limit to 0. |\n",
      "| `ads_api_access_tier` | Tiers allows your app to access the Marketing API. By default, apps are in the `development_access` tier. `Standard_access` enables lower rate limiting. To get a higher rate limit and get to the standard tier, you can apply for the \"Advanced Access\" to the [Ads Management Standard Access](https://developers.facebook.com/docs/marketing-api/overview/authorization#layer-2--access-levels--permissions--and-features) feature. |\n",
      "\n",
      "#### Total CPU Time\n",
      "\n",
      "The amount of CPU time the request takes to process. When `total_cputime` reaches 100, calls may be throttled.\n",
      "\n",
      "#### Total Time\n",
      "\n",
      "The length of time the request takes to process. When `total_time` reaches 100, calls may be throttled.\n",
      "\n",
      "CONTEXT 1\n",
      "FILENAME: ../data/platform-docs-versions/Facebook_Graph-API/Graph API Overview.md\n",
      "#### Total CPU Time\n",
      "\n",
      "The amount of CPU time the request takes to process. When total\\_cputime reaches 100, calls may be throttled.\n",
      "\n",
      "#### Total Time\n",
      "\n",
      "The length of time the request takes to process. When total\\_time reaches 100, calls may be throttled.\n",
      "\n",
      "#### Ads API Access Tier\n",
      "\n",
      "For `ads_insights` and `ads_management` types only. Tiers allows your app to access the Marketing API. By default, apps are in the `development_access` tier. `Standard_access` enables lower rate limiting. To get a higher rate limit and get to the standard tier, you can apply for the \"Advanced Access\" to the [Ads Management Standard Access](https://developers.facebook.com/docs/marketing-api/overview/authorization#layer-2--access-levels--permissions--and-features) feature.\n",
      "\n",
      "#### Sample X-Business-Use-Case-Usage Header Value\n",
      "\n",
      "CONTEXT 2\n",
      "FILENAME: ../data/platform-docs-versions/Facebook_Graph-API/Graph API Reference.md\n",
      "| [`Whats App Business Account`](https://developers.facebook.com/docs/graph-api/reference/whats-app-business-account) | Returns the account information of a WhatsApp Business Account |\n",
      "| [`Whats App Business HSM`](https://developers.facebook.com/docs/graph-api/reference/whats-app-business-hsm) | Retrieves information about the message template |\n",
      "\n",
      "CONTEXT 3\n",
      "FILENAME: ../data/platform-docs-versions/Facebook_Graph-API/Graph API Overview.md\n",
      "For Marketing API, the rate limit is applied to the ad account across the same Business Use Case. For example, all endpoints with the Ads Management business use case will share the total quota within the same ad account. If a certain endpoint makes a lot of API requests and causes throttling, other endpoints configured with the same business use case will also receive rate limiting errors. The quota depends on the app's Marketing API Access Tier. The standard access Marketing API tier will have more quotas than the development access Marketing API tier. By default, an new app should be on the development tier. If you need to upgrade to get more rate limiting quota, upgrade to Advanced Access of [Ads Management Standard Access](https://developers.facebook.com/docs/features-reference/ads-management-standard-access/) in App Review.\n",
      "\n",
      "CONTEXT 4\n",
      "FILENAME: ../data/platform-docs-versions/Facebook_Graph-API/Whats app business account Endpoint.md\n",
      "[](#)\n",
      "\n",
      "Reading\n",
      "-------\n",
      "\n",
      "Returns the account information of a WhatsApp Business Account\n",
      "\n",
      "### Example\n",
      "\n",
      "Requirements\n",
      "\n",
      "* whatsapp\\_business\\_management permission\n",
      "    \n",
      "* whatsapp\\_business\\_messaging permission\n",
      "    \n",
      "* public\\_profile permission\n",
      "    \n",
      "* WhatsApp Business Account (WABA) ID\n",
      "    \n",
      "* USER ACCESS TOKEN\n",
      "    \n",
      "\n",
      "Request\n",
      "\n",
      "cURLAndroid SDKObjective-C\n",
      "\n",
      "    curl -i -X GET \\\n",
      "     \"https://graph.facebook.com/LATEST-VERSION/WHATSAPP-BUSINESS-ACCOUNT-ID?access_token=USER-ACCESS-TOKEN\"\n",
      "\n",
      "    GraphRequest request = GraphRequest.newGraphPathRequest(\n",
      "      accessToken,\n",
      "      \"/WHATSAPP-BUSINESS-ACCOUNT-ID\",\n",
      "      new GraphRequest.Callback() {\n",
      "        @Override\n",
      "        public void onCompleted(GraphResponse response) {\n",
      "          // Insert your code here\n",
      "        }\n",
      "    });\n",
      "    \n",
      "    request.executeAsync();\n"
     ]
    }
   ],
   "source": [
    "k = 5\n",
    "\n",
    "query = \"Tell me how to work with WhatsApp business accounts using the Facebook Graph API\"\n",
    "results = collection.query(\n",
    "    query_texts=[query],\n",
    "    n_results=k,\n",
    ")\n",
    "\n",
    "contexts = []\n",
    "for i in range(k):\n",
    "    source_i = results[\"metadatas\"][0][i][\"source\"]\n",
    "    doc_i = results[\"documents\"][0][i]\n",
    "    contexts.append(f\"CONTEXT {i}\\nFILENAME: {source_i}\\n{doc_i}\")\n",
    "\n",
    "context = \"\\n\\n\".join(contexts)\n",
    "print(context)"
   ]
  },
  {
   "cell_type": "code",
   "execution_count": 25,
   "id": "6a82a9d9-7fec-46f6-8f3f-c9f1fa182841",
   "metadata": {},
   "outputs": [
    {
     "data": {
      "text/markdown": [
       "**User:** \n",
       "Tell me how to work with WhatsApp business accounts using the Facebook Graph API\n"
      ],
      "text/plain": [
       "<IPython.core.display.Markdown object>"
      ]
     },
     "metadata": {},
     "output_type": "display_data"
    },
    {
     "data": {
      "text/markdown": [
       "**Assistant:** \n",
       "To work with WhatsApp Business Accounts using the Facebook Graph API, you need to follow these requirements:\n",
       "- have `whatsapp_business_management`, `whatsapp_messaging`, and `public_profile` permissions\n",
       "- provide a valid WhatsApp Business Account (WABA) ID\n",
       "- use a USER ACCESS TOKEN\n",
       "\n",
       "To access the account information of a WhatsApp Business Account, you can make a GET request to the Graph API endpoint for that specific WABA. The request can be made using cURL or in SDKs such as Android and Objective-C. Here's an example:\n",
       "\n",
       "cURL:\n",
       "```\n",
       "curl -i -X GET \\\n",
       " \"https://graph.facebook.com/LATEST-VERSION/WHATSAPP-BUSINESS-ACCOUNT-ID?access_token=USER-ACCESS-TOKEN\"\n",
       "```\n",
       "\n",
       "Objective-C SDK:\n",
       "```java\n",
       "GraphRequest request = GraphRequest.newGraphPathRequest(accessToken,\n",
       "        \"/WHATSAPP-BUSINESS-ACCOUNT-ID\",\n",
       "        new GraphRequest.Callback() {\n",
       "            @Override\n",
       "            public void onCompleted(GraphResponse response) {\n",
       "                // Insert your code here\n",
       "            }\n",
       "        });\n",
       "request.executeAsync();\n",
       "```\n",
       "Please make sure to replace `LATEST-VERSION`, `WHATSAPP-BUSINESS-ACCOUNT-ID`, and `USER-ACCESS-TOKEN` with the actual version, account ID, and access token, respectively. For more details and code samples in other languages, refer to the official [WhatsApp Business API documentation](https://developers.facebook.com/docs/graph-api/reference/whats-app-business-account).\n",
       "\n"
      ],
      "text/plain": [
       "<IPython.core.display.Markdown object>"
      ]
     },
     "metadata": {},
     "output_type": "display_data"
    }
   ],
   "source": [
    "chat = init_chat_log(context)\n",
    "chat = generate_answer(chat, query)\n",
    "print_chat(chat)"
   ]
  },
  {
   "cell_type": "code",
   "execution_count": 26,
   "id": "ca109411-4c73-41f1-b9ed-d4359546e756",
   "metadata": {},
   "outputs": [
    {
     "data": {
      "text/markdown": [
       "**User:** \n",
       "Tell me how to work with WhatsApp business accounts using the Facebook Graph API\n"
      ],
      "text/plain": [
       "<IPython.core.display.Markdown object>"
      ]
     },
     "metadata": {},
     "output_type": "display_data"
    },
    {
     "data": {
      "text/markdown": [
       "**Assistant:** \n",
       "To work with WhatsApp Business Accounts using the Facebook Graph API, you need to follow these requirements:\n",
       "- have `whatsapp_business_management`, `whatsapp_messaging`, and `public_profile` permissions\n",
       "- provide a valid WhatsApp Business Account (WABA) ID\n",
       "- use a USER ACCESS TOKEN\n",
       "\n",
       "To access the account information of a WhatsApp Business Account, you can make a GET request to the Graph API endpoint for that specific WABA. The request can be made using cURL or in SDKs such as Android and Objective-C. Here's an example:\n",
       "\n",
       "cURL:\n",
       "```\n",
       "curl -i -X GET \\\n",
       " \"https://graph.facebook.com/LATEST-VERSION/WHATSAPP-BUSINESS-ACCOUNT-ID?access_token=USER-ACCESS-TOKEN\"\n",
       "```\n",
       "\n",
       "Objective-C SDK:\n",
       "```java\n",
       "GraphRequest request = GraphRequest.newGraphPathRequest(accessToken,\n",
       "        \"/WHATSAPP-BUSINESS-ACCOUNT-ID\",\n",
       "        new GraphRequest.Callback() {\n",
       "            @Override\n",
       "            public void onCompleted(GraphResponse response) {\n",
       "                // Insert your code here\n",
       "            }\n",
       "        });\n",
       "request.executeAsync();\n",
       "```\n",
       "Please make sure to replace `LATEST-VERSION`, `WHATSAPP-BUSINESS-ACCOUNT-ID`, and `USER-ACCESS-TOKEN` with the actual version, account ID, and access token, respectively. For more details and code samples in other languages, refer to the official [WhatsApp Business API documentation](https://developers.facebook.com/docs/graph-api/reference/whats-app-business-account).\n",
       "\n"
      ],
      "text/plain": [
       "<IPython.core.display.Markdown object>"
      ]
     },
     "metadata": {},
     "output_type": "display_data"
    },
    {
     "data": {
      "text/markdown": [
       "**User:** \n",
       "and how do I cook pancakes?\n"
      ],
      "text/plain": [
       "<IPython.core.display.Markdown object>"
      ]
     },
     "metadata": {},
     "output_type": "display_data"
    },
    {
     "data": {
      "text/markdown": [
       "**Assistant:** \n",
       "I don't have any knowledge about cooking recipes. My context is limited to the Facebook Graph API documentation. If you need assistance with cooking, it would be best to consult a culinary resource or search for recipes online.\n"
      ],
      "text/plain": [
       "<IPython.core.display.Markdown object>"
      ]
     },
     "metadata": {},
     "output_type": "display_data"
    }
   ],
   "source": [
    "chat = generate_answer(chat, query=\"and how do I cook pancakes?\")\n",
    "print_chat(chat)"
   ]
  }
 ],
 "metadata": {
  "kernelspec": {
   "display_name": "Python 3 (ipykernel)",
   "language": "python",
   "name": "python3"
  },
  "language_info": {
   "codemirror_mode": {
    "name": "ipython",
    "version": 3
   },
   "file_extension": ".py",
   "mimetype": "text/x-python",
   "name": "python",
   "nbconvert_exporter": "python",
   "pygments_lexer": "ipython3",
   "version": "3.10.13"
  }
 },
 "nbformat": 4,
 "nbformat_minor": 5
}
