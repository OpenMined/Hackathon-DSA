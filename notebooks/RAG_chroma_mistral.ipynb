{
 "cells": [
  {
   "cell_type": "code",
   "execution_count": 1,
   "id": "a56c60e9-fe84-4d03-bf05-0bd36c08e5a2",
   "metadata": {},
   "outputs": [],
   "source": [
    "# !pip install langchain chromadb ctransformers transformers sentence_transformers\n",
    "# Apple silicon:\n",
    "# !pip uninstall ctransformers\n",
    "# !CT_METAL=1 pip install ctransformers --no-binary ctransformers"
   ]
  },
  {
   "cell_type": "code",
   "execution_count": 2,
   "id": "c5d3155f-1e4b-4f01-9056-05e2be6aaa65",
   "metadata": {},
   "outputs": [],
   "source": [
    "from pathlib import Path\n",
    "from pprint import pprint\n",
    "\n",
    "DATA_DIR = Path(\"../data\")\n",
    "SNAPSHOTS_DIR = DATA_DIR / \"platform-docs-snapshots\"\n",
    "VERSIONS_DIR = DATA_DIR / \"platform-docs-versions\"\n",
    "\n",
    "# hparams\n",
    "chunk_size = 1024\n",
    "chunk_overlap = chunk_size // 10\n",
    "embedder_name = \"BAAI/bge-small-en-v1.5\" # https://huggingface.co/spaces/mteb/leaderboard"
   ]
  },
  {
   "cell_type": "markdown",
   "id": "3ece42cd-9d32-4eda-99a6-984393c105aa",
   "metadata": {},
   "source": [
    "# Pre-processing"
   ]
  },
  {
   "cell_type": "code",
   "execution_count": 3,
   "id": "febb8e8b-c1aa-4bb1-9230-2a5ddf97dc99",
   "metadata": {},
   "outputs": [],
   "source": [
    "from langchain_community.document_loaders import UnstructuredMarkdownLoader, DirectoryLoader, TextLoader\n",
    "from langchain.text_splitter import RecursiveCharacterTextSplitter\n",
    "\n",
    "docs = DirectoryLoader(VERSIONS_DIR, glob=\"[!.]*/[!.]*.md\", loader_cls=TextLoader).load()\n",
    "docs = [d for d in docs if Path(d.metadata['source']) != VERSIONS_DIR / \"README.md\"]"
   ]
  },
  {
   "cell_type": "code",
   "execution_count": 5,
   "id": "3f657de3-657f-47e0-988f-e4b81b6ad532",
   "metadata": {
    "scrolled": true
   },
   "outputs": [
    {
     "name": "stdout",
     "output_type": "stream",
     "text": [
      "139\n",
      "11598\n"
     ]
    }
   ],
   "source": [
    "text_splitter = RecursiveCharacterTextSplitter(chunk_size=chunk_size, chunk_overlap=chunk_overlap)\n",
    "docs_split = text_splitter.split_documents(docs)\n",
    "\n",
    "print(len(docs))\n",
    "print(len(docs_split))"
   ]
  },
  {
   "cell_type": "markdown",
   "id": "ef9f7f3b-0bc4-41f2-bf24-e316d73e2a44",
   "metadata": {},
   "source": [
    "# Build index"
   ]
  },
  {
   "cell_type": "code",
   "execution_count": 6,
   "id": "f19c65cf-530a-4dc3-aa80-2842fa0aebfc",
   "metadata": {},
   "outputs": [],
   "source": [
    "import uuid\n",
    "from tqdm.notebook import tqdm\n",
    "import chromadb\n",
    "from chromadb.utils import embedding_functions\n",
    "import re\n",
    "\n",
    "# Chroma uses all-MiniLM-L6-v2 by default\n",
    "chroma_client = chromadb.PersistentClient()\n",
    " \n",
    "def format_model_name(name):\n",
    "    # chromaDB only allows these characters\n",
    "    return re.sub(r'[^a-zA-Z0-9_-]', '_', name)\n",
    "\n",
    "collection_name = f\"DSA_{format_model_name(embedder_name)}\"\n",
    "\n",
    "try:\n",
    "    collection = chroma_client.get_collection(collection_name)\n",
    "except ValueError:\n",
    "    print(\"Building collection...\")\n",
    "    embedding_fn = embedding_functions.SentenceTransformerEmbeddingFunction(embedder_name=embedder_name)\n",
    "\n",
    "    collection = chroma_client.create_collection(name=collection_name, embedding_function=embedding_fn)\n",
    "    \n",
    "    text = [d.page_content for d in docs_split]\n",
    "    metadatas = [d.metadata for d in docs_split]\n",
    "    ids = [uuid.uuid4().hex for _ in range(len(docs_split))]\n",
    "    \n",
    "    collection.add(\n",
    "        documents=text,\n",
    "        metadatas=metadatas,\n",
    "        ids=ids,\n",
    "    )"
   ]
  },
  {
   "cell_type": "code",
   "execution_count": 7,
   "id": "815650d9-38b6-4792-9c77-4f0230755f5d",
   "metadata": {},
   "outputs": [],
   "source": [
    "results = collection.query(\n",
    "    query_texts=[\"How do I get activity logs from the Twitter API?\"],\n",
    "    n_results=5,\n",
    ")"
   ]
  },
  {
   "cell_type": "code",
   "execution_count": 8,
   "id": "3e873b9d-5843-4a94-a6fa-ef436eee2aef",
   "metadata": {},
   "outputs": [
    {
     "name": "stdout",
     "output_type": "stream",
     "text": [
      "[[{'source': '../data/platform-docs-versions/X_Twitter-API-V1/Tweets.md'},\n",
      "  {'source': '../data/platform-docs-versions/X_Twitter-API-V2/Tweets.md'},\n",
      "  {'source': '../data/platform-docs-versions/X_Twitter-API-V1/Tweets.md'},\n",
      "  {'source': '../data/platform-docs-versions/X_Twitter-API-V2/Users.md'},\n",
      "  {'source': '../data/platform-docs-versions/X_Twitter-API-V2/Tweets.md'}]]\n"
     ]
    },
    {
     "data": {
      "text/plain": [
       "'Working with timelines  \\n\\n-------------------------\\n\\nThe Twitter API has several methods, such as\\xa0[GET statuses / user\\\\_timeline](https://developer.twitter.com/en/docs/tweets/timelines/api-reference/get-statuses-user_timeline.html)\\xa0and\\xa0[GET statuses / home\\\\_timeline](https://developer.twitter.com/en/docs/tweets/timelines/api-reference/get-statuses-home_timeline.html), which return a timeline of Tweet data. Such timelines can grow very large, so there are limits to how much of a timeline a client application may fetch in a single request. Applications must therefore iterate through timeline results in order to build a more complete list.\\n\\nBecause of Twitter’s realtime nature and the volume of data which is constantly being added to timelines, standard paging approaches are not always effective. The goal of this page is to demonstrate the issues Twitter developers may face when paging through result sets and to give best practices for processing a timeline.\\n\\n### The problem with “pages”'"
      ]
     },
     "execution_count": 8,
     "metadata": {},
     "output_type": "execute_result"
    }
   ],
   "source": [
    "pprint(results[\"metadatas\"])\n",
    "results[\"documents\"][0][0]"
   ]
  },
  {
   "cell_type": "markdown",
   "id": "19dfa1f7-f746-475c-9a88-6d86a6c31b35",
   "metadata": {},
   "source": [
    "# Load Generator\n",
    "\n",
    "### Quantized Mistral 7B, finetuned on code instructions\n",
    "- https://huggingface.co/TheBloke/OpenHermes-2.5-Mistral-7B-16k-GGUF#provided-files"
   ]
  },
  {
   "cell_type": "code",
   "execution_count": 9,
   "id": "822ad186-df9b-499c-bd46-8575020afa0b",
   "metadata": {},
   "outputs": [
    {
     "name": "stderr",
     "output_type": "stream",
     "text": [
      "huggingface/tokenizers: The current process just got forked, after parallelism has already been used. Disabling parallelism to avoid deadlocks...\n",
      "To disable this warning, you can either:\n",
      "\t- Avoid using `tokenizers` before the fork if possible\n",
      "\t- Explicitly set the environment variable TOKENIZERS_PARALLELISM=(true | false)\n"
     ]
    },
    {
     "data": {
      "application/vnd.jupyter.widget-view+json": {
       "model_id": "f8542b99d2c649e4a32863aa8fe23b0c",
       "version_major": 2,
       "version_minor": 0
      },
      "text/plain": [
       "Fetching 1 files:   0%|          | 0/1 [00:00<?, ?it/s]"
      ]
     },
     "metadata": {},
     "output_type": "display_data"
    },
    {
     "data": {
      "application/vnd.jupyter.widget-view+json": {
       "model_id": "20ba92c7ce804f11a400b6412735038c",
       "version_major": 2,
       "version_minor": 0
      },
      "text/plain": [
       "Fetching 1 files:   0%|          | 0/1 [00:00<?, ?it/s]"
      ]
     },
     "metadata": {},
     "output_type": "display_data"
    },
    {
     "name": "stderr",
     "output_type": "stream",
     "text": [
      "Special tokens have been added in the vocabulary, make sure the associated word embeddings are fine-tuned or trained.\n"
     ]
    }
   ],
   "source": [
    "from ctransformers import AutoModelForCausalLM, AutoConfig\n",
    "from transformers import AutoTokenizer\n",
    "from typing import List, Dict\n",
    "\n",
    "gpu_layers = 0\n",
    "\n",
    "model_file = \"openhermes-2.5-mistral-7b-16k.Q4_K_M.gguf\"\n",
    "\n",
    "llm = AutoModelForCausalLM.from_pretrained(\n",
    "    \"TheBloke/OpenHermes-2.5-Mistral-7B-16k-GGUF\",\n",
    "    model_file=\"openhermes-2.5-mistral-7b-16k.Q4_K_M.gguf\",\n",
    "    model_type=\"mistral\", \n",
    "    gpu_layers=gpu_layers,\n",
    "    max_new_tokens=4000,\n",
    "    context_length=16_000,\n",
    ")\n",
    "\n",
    "tokenizer = AutoTokenizer.from_pretrained(\"NurtureAI/OpenHermes-2.5-Mistral-7B-16k\")\n",
    "\n",
    "def format_prompt(messages: List[Dict[str, str]]) -> str:\n",
    "    return tokenizer.apply_chat_template(messages, tokenize=False, add_generation_prompt=True)"
   ]
  },
  {
   "cell_type": "markdown",
   "id": "d88ca8a3-a715-48e9-a0ca-5f6603e27b0c",
   "metadata": {},
   "source": [
    "# RAG Query"
   ]
  },
  {
   "cell_type": "code",
   "execution_count": 18,
   "id": "cc171db2-6060-4bbf-81f8-49a3e4d36184",
   "metadata": {},
   "outputs": [],
   "source": [
    "system_message = '''\n",
    "You are a QA assistant that answers questions based only on the context you are given.\n",
    "- Give an  answer only based on the context and with no prior knowledge.\n",
    "- You can only give answers to subjects that are provided in the CONTEXT section.\n",
    "- If you cannot come up with an answer to the user question, answer that you do not know the answer.\n",
    "- Your answers are short, complete and easy to follow. Include code examples if neccessary.\n",
    "\n",
    "Example Questions:\n",
    "Q: I have access to a set of tweets URLs that I consider to be hateful. How can I use Twitter's API to monitor the average duration between the tweet's creation and its moderation?\n",
    "A: \"\"\"In order to monitor the average duration between a tweet's publication and its moderation using Twitter's API, you could do the following:\n",
    "- Gather the unsafe tweet's IDs;\n",
    "- Post them on Twitter's batch compliance API;\n",
    "- Once the result is ready, you can see whether the tweets have been deleted.\n",
    "In order to monitor the delay of moderation, you could repeat the previous steps several times, and check when the prohibited tweets have been acted upon.\"\"\"\n",
    "\n",
    "Q: I am a coding expert. How could I get more info about a Facebook post whose url slug ends with 123456789_123456789? I have a crowdtangle API token (TOKEN). Your output is a bash code snippet.\n",
    "A: ```bash\n",
    "curl -L https://api.crowdtangle.com/post/123456789_123456789?token=<CROWDTANGLE_API_TOKEN>\n",
    "```\n",
    "\n",
    "------------------\n",
    "CONTEXT\n",
    "{context}\n",
    "'''"
   ]
  },
  {
   "cell_type": "code",
   "execution_count": 19,
   "id": "9beb64f0-baab-4759-b1f1-19205dbbad34",
   "metadata": {},
   "outputs": [],
   "source": [
    "def init_chat_log(context: str):\n",
    "    return [\n",
    "        {\"role\": \"system\", \"content\": system_message.format(context=context)},\n",
    "    ]\n",
    "\n",
    "def generate_answer(chat_log: List[Dict[str, str]], query: str):\n",
    "    if query:\n",
    "        chat_log.append({\"role\": \"user\", \"content\": query})\n",
    "    if chat_log[-1][\"role\"] != \"user\":\n",
    "        raise ValueError(\"query required\")\n",
    "            \n",
    "    prompt = format_prompt(chat)\n",
    "    output = llm(prompt, stop=[\"<|im_end|>\"])\n",
    "    chat_log.append({\"role\": \"assistant\", \"content\": output})\n",
    "    return chat_log\n",
    "\n",
    "from IPython.display import display, Markdown\n",
    "\n",
    "def print_chat(chat_log):\n",
    "    for entry in chat_log:\n",
    "        if entry['role'] != 'system':\n",
    "            display(Markdown(f\"**{entry['role'].capitalize()}:** \\n{entry['content']}\\n\"))"
   ]
  },
  {
   "cell_type": "code",
   "execution_count": 20,
   "id": "e3398395-f6c3-4c86-8d3d-1d63f011ea14",
   "metadata": {},
   "outputs": [
    {
     "name": "stdout",
     "output_type": "stream",
     "text": [
      "CONTEXT 0\n",
      "FILENAME: ../data/platform-docs-versions/Facebook_Graph-API/Graph API Overview.md\n",
      "#### X-Ad-Account-Usage Header Contents\n",
      "\n",
      "| Key | Value Description |\n",
      "| --- | --- |\n",
      "| `acc_id_util_pct` | The percentage of calls made for this ad account before the rate limit is reached. |\n",
      "| `reset_time_duration` | Time duration (in seconds) it takes to reset the current rate limit to 0. |\n",
      "| `ads_api_access_tier` | Tiers allows your app to access the Marketing API. By default, apps are in the `development_access` tier. `Standard_access` enables lower rate limiting. To get a higher rate limit and get to the standard tier, you can apply for the \"Advanced Access\" to the [Ads Management Standard Access](https://developers.facebook.com/docs/marketing-api/overview/authorization#layer-2--access-levels--permissions--and-features) feature. |\n",
      "\n",
      "#### Total CPU Time\n",
      "\n",
      "The amount of CPU time the request takes to process. When `total_cputime` reaches 100, calls may be throttled.\n",
      "\n",
      "#### Total Time\n",
      "\n",
      "The length of time the request takes to process. When `total_time` reaches 100, calls may be throttled.\n",
      "\n",
      "CONTEXT 1\n",
      "FILENAME: ../data/platform-docs-versions/Facebook_Graph-API/Graph API Overview.md\n",
      "#### Total CPU Time\n",
      "\n",
      "The amount of CPU time the request takes to process. When total\\_cputime reaches 100, calls may be throttled.\n",
      "\n",
      "#### Total Time\n",
      "\n",
      "The length of time the request takes to process. When total\\_time reaches 100, calls may be throttled.\n",
      "\n",
      "#### Ads API Access Tier\n",
      "\n",
      "For `ads_insights` and `ads_management` types only. Tiers allows your app to access the Marketing API. By default, apps are in the `development_access` tier. `Standard_access` enables lower rate limiting. To get a higher rate limit and get to the standard tier, you can apply for the \"Advanced Access\" to the [Ads Management Standard Access](https://developers.facebook.com/docs/marketing-api/overview/authorization#layer-2--access-levels--permissions--and-features) feature.\n",
      "\n",
      "#### Sample X-Business-Use-Case-Usage Header Value\n",
      "\n",
      "CONTEXT 2\n",
      "FILENAME: ../data/platform-docs-versions/Facebook_Graph-API/Graph API Reference.md\n",
      "| [`Whats App Business Account`](https://developers.facebook.com/docs/graph-api/reference/whats-app-business-account) | Returns the account information of a WhatsApp Business Account |\n",
      "| [`Whats App Business HSM`](https://developers.facebook.com/docs/graph-api/reference/whats-app-business-hsm) | Retrieves information about the message template |\n",
      "\n",
      "CONTEXT 3\n",
      "FILENAME: ../data/platform-docs-versions/Facebook_Graph-API/Graph API Overview.md\n",
      "For Marketing API, the rate limit is applied to the ad account across the same Business Use Case. For example, all endpoints with the Ads Management business use case will share the total quota within the same ad account. If a certain endpoint makes a lot of API requests and causes throttling, other endpoints configured with the same business use case will also receive rate limiting errors. The quota depends on the app's Marketing API Access Tier. The standard access Marketing API tier will have more quotas than the development access Marketing API tier. By default, an new app should be on the development tier. If you need to upgrade to get more rate limiting quota, upgrade to Advanced Access of [Ads Management Standard Access](https://developers.facebook.com/docs/features-reference/ads-management-standard-access/) in App Review.\n",
      "\n",
      "CONTEXT 4\n",
      "FILENAME: ../data/platform-docs-versions/Facebook_Graph-API/Whats app business account Endpoint.md\n",
      "[](#)\n",
      "\n",
      "Reading\n",
      "-------\n",
      "\n",
      "Returns the account information of a WhatsApp Business Account\n",
      "\n",
      "### Example\n",
      "\n",
      "Requirements\n",
      "\n",
      "* whatsapp\\_business\\_management permission\n",
      "    \n",
      "* whatsapp\\_business\\_messaging permission\n",
      "    \n",
      "* public\\_profile permission\n",
      "    \n",
      "* WhatsApp Business Account (WABA) ID\n",
      "    \n",
      "* USER ACCESS TOKEN\n",
      "    \n",
      "\n",
      "Request\n",
      "\n",
      "cURLAndroid SDKObjective-C\n",
      "\n",
      "    curl -i -X GET \\\n",
      "     \"https://graph.facebook.com/LATEST-VERSION/WHATSAPP-BUSINESS-ACCOUNT-ID?access_token=USER-ACCESS-TOKEN\"\n",
      "\n",
      "    GraphRequest request = GraphRequest.newGraphPathRequest(\n",
      "      accessToken,\n",
      "      \"/WHATSAPP-BUSINESS-ACCOUNT-ID\",\n",
      "      new GraphRequest.Callback() {\n",
      "        @Override\n",
      "        public void onCompleted(GraphResponse response) {\n",
      "          // Insert your code here\n",
      "        }\n",
      "    });\n",
      "    \n",
      "    request.executeAsync();\n"
     ]
    }
   ],
   "source": [
    "k = 5\n",
    "\n",
    "query = \"Tell me how to work with WhatsApp business accounts using the Facebook Graph API\"\n",
    "results = collection.query(\n",
    "    query_texts=[query],\n",
    "    n_results=k,\n",
    ")\n",
    "\n",
    "contexts = []\n",
    "for i in range(k):\n",
    "    source_i = results[\"metadatas\"][0][i][\"source\"]\n",
    "    doc_i = results[\"documents\"][0][i]\n",
    "    contexts.append(f\"CONTEXT {i}\\nFILENAME: {source_i}\\n{doc_i}\")\n",
    "\n",
    "context = \"\\n\\n\".join(contexts)\n",
    "print(context)"
   ]
  },
  {
   "cell_type": "code",
   "execution_count": 21,
   "id": "6a82a9d9-7fec-46f6-8f3f-c9f1fa182841",
   "metadata": {},
   "outputs": [
    {
     "data": {
      "text/markdown": [
       "**User:** \n",
       "Tell me how to work with WhatsApp business accounts using the Facebook Graph API\n"
      ],
      "text/plain": [
       "<IPython.core.display.Markdown object>"
      ]
     },
     "metadata": {},
     "output_type": "display_data"
    },
    {
     "data": {
      "text/markdown": [
       "**Assistant:** \n",
       "To work with WhatsApp Business Accounts using the Facebook Graph API, you need to have the following permissions: `whatsapp_business_management`, `whatsapp_messaging`, and `public_profile`. You also need a WhatsApp Business Account (WABA) ID and a user access token.\n",
       "\n",
       "To retrieve information about a WhatsApp Business Account, you can use the following cURL command:\n",
       "```bash\n",
       "curl -i -X GET \"https://graph.facebook.com/LATEST-VERSION/WHATSAPP-BUSINESS-ACCOUNT-ID?access_token=USER-ACCESS-TOKEN\"\n",
       "```\n",
       "or in SDK Objective-C:\n",
       "```objective-c\n",
       "GraphRequest request = GraphRequest.newGraphPathRequest(\n",
       "  accessToken,\n",
       "  \"/WHATSAPP-BUSINESS-ACCOUNT-ID\",\n",
       "  new GraphRequest.Callback() {\n",
       "    @Override\n",
       "    public void onCompleted(GraphResponse response) {\n",
       "      // Insert your code here\n",
       "    }\n",
       "});\n",
       "request.executeAsync();\n",
       "```\n"
      ],
      "text/plain": [
       "<IPython.core.display.Markdown object>"
      ]
     },
     "metadata": {},
     "output_type": "display_data"
    }
   ],
   "source": [
    "chat = init_chat_log(context)\n",
    "chat = generate_answer(chat, query)\n",
    "print_chat(chat)"
   ]
  },
  {
   "cell_type": "code",
   "execution_count": 22,
   "id": "ca109411-4c73-41f1-b9ed-d4359546e756",
   "metadata": {},
   "outputs": [
    {
     "data": {
      "text/markdown": [
       "**User:** \n",
       "Tell me how to work with WhatsApp business accounts using the Facebook Graph API\n"
      ],
      "text/plain": [
       "<IPython.core.display.Markdown object>"
      ]
     },
     "metadata": {},
     "output_type": "display_data"
    },
    {
     "data": {
      "text/markdown": [
       "**Assistant:** \n",
       "To work with WhatsApp Business Accounts using the Facebook Graph API, you need to have the following permissions: `whatsapp_business_management`, `whatsapp_messaging`, and `public_profile`. You also need a WhatsApp Business Account (WABA) ID and a user access token.\n",
       "\n",
       "To retrieve information about a WhatsApp Business Account, you can use the following cURL command:\n",
       "```bash\n",
       "curl -i -X GET \"https://graph.facebook.com/LATEST-VERSION/WHATSAPP-BUSINESS-ACCOUNT-ID?access_token=USER-ACCESS-TOKEN\"\n",
       "```\n",
       "or in SDK Objective-C:\n",
       "```objective-c\n",
       "GraphRequest request = GraphRequest.newGraphPathRequest(\n",
       "  accessToken,\n",
       "  \"/WHATSAPP-BUSINESS-ACCOUNT-ID\",\n",
       "  new GraphRequest.Callback() {\n",
       "    @Override\n",
       "    public void onCompleted(GraphResponse response) {\n",
       "      // Insert your code here\n",
       "    }\n",
       "});\n",
       "request.executeAsync();\n",
       "```\n"
      ],
      "text/plain": [
       "<IPython.core.display.Markdown object>"
      ]
     },
     "metadata": {},
     "output_type": "display_data"
    },
    {
     "data": {
      "text/markdown": [
       "**User:** \n",
       "and how do I cook pancakes?\n"
      ],
      "text/plain": [
       "<IPython.core.display.Markdown object>"
      ]
     },
     "metadata": {},
     "output_type": "display_data"
    },
    {
     "data": {
      "text/markdown": [
       "**Assistant:** \n",
       "I'm not a cooking assistant, but here's a basic recipe to get you started with pancake cooking. Note that I might make the batter too runny or too thick. Please adjust accordingly:\n",
       "\n",
       "Ingredients\n",
       "----------\n",
       "\n",
       "* 240 grams plain flour (can also be AP Flour)\n",
       "* 375 ml milk\n",
       "* 2 eggs\n",
       "* 1 tablespoon sugar\n",
       "* 2 tablespoons melted butter\n",
       "* 1/2 teaspoon baking powder\n",
       "* Pinch of salt\n",
       "* Optional: 1/2 teaspoon vanilla extract or 1 mashed ripe banana (for a bit of flavour and sweetness)\n",
       "\n",
       "Instructions\n",
       "------------\n",
       "\n",
       "1. Mix all the ingredients together in a bowl. The batter should be the consistency of heavy cream, i.e., thick enough to coat the back of a spoon but pourable. Adjust with more flour or milk as needed.\n",
       "2. Heat a non-stick pan over medium heat and add some butter.\n",
       "3. Pour 1/4 cup of batter per pancake into the pan. Wait for bubbles to appear on the surface, then flip and cook until both sides are golden brown.\n",
       "\n",
       "This is a basic recipe and can be adjusted according to your taste. You may add chocolate chips or blueberries or cinnamon sugar or whatever you like. Enjoy!\n"
      ],
      "text/plain": [
       "<IPython.core.display.Markdown object>"
      ]
     },
     "metadata": {},
     "output_type": "display_data"
    }
   ],
   "source": [
    "chat = generate_answer(chat, query=\"and how do I cook pancakes?\")\n",
    "print_chat(chat)"
   ]
  },
  {
   "cell_type": "code",
   "execution_count": null,
   "id": "2ecc1de3-5fbe-4b3f-8d60-1953b9ee4cb2",
   "metadata": {},
   "outputs": [],
   "source": []
  }
 ],
 "metadata": {
  "kernelspec": {
   "display_name": "Python 3 (ipykernel)",
   "language": "python",
   "name": "python3"
  },
  "language_info": {
   "codemirror_mode": {
    "name": "ipython",
    "version": 3
   },
   "file_extension": ".py",
   "mimetype": "text/x-python",
   "name": "python",
   "nbconvert_exporter": "python",
   "pygments_lexer": "ipython3",
   "version": "3.10.13"
  }
 },
 "nbformat": 4,
 "nbformat_minor": 5
}
