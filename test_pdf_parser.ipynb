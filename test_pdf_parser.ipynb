{
 "cells": [
  {
   "cell_type": "markdown",
   "metadata": {},
   "source": [
    "# PDF to markdown problem"
   ]
  },
  {
   "cell_type": "code",
   "execution_count": 12,
   "metadata": {},
   "outputs": [
    {
     "name": "stdout",
     "output_type": "stream",
     "text": [
      "Requirement already satisfied: nougat-ocr in /opt/homebrew/lib/python3.11/site-packages (0.1.17)\n",
      "Requirement already satisfied: transformers>=4.25.1 in /opt/homebrew/lib/python3.11/site-packages (from nougat-ocr) (4.30.2)\n",
      "Requirement already satisfied: timm==0.5.4 in /opt/homebrew/lib/python3.11/site-packages (from nougat-ocr) (0.5.4)\n",
      "Requirement already satisfied: orjson in /opt/homebrew/lib/python3.11/site-packages (from nougat-ocr) (3.9.12)\n",
      "Requirement already satisfied: opencv-python-headless in /opt/homebrew/lib/python3.11/site-packages (from nougat-ocr) (4.9.0.80)\n",
      "Requirement already satisfied: datasets[vision] in /opt/homebrew/lib/python3.11/site-packages (from nougat-ocr) (2.16.1)\n",
      "Requirement already satisfied: lightning<2022,>=2.0.0 in /opt/homebrew/lib/python3.11/site-packages (from nougat-ocr) (2.1.3)\n",
      "Requirement already satisfied: nltk in /opt/homebrew/lib/python3.11/site-packages (from nougat-ocr) (3.8.1)\n",
      "Requirement already satisfied: python-Levenshtein in /opt/homebrew/lib/python3.11/site-packages (from nougat-ocr) (0.24.0)\n",
      "Requirement already satisfied: sentencepiece in /opt/homebrew/lib/python3.11/site-packages (from nougat-ocr) (0.1.99)\n",
      "Requirement already satisfied: sconf>=0.2.3 in /opt/homebrew/lib/python3.11/site-packages (from nougat-ocr) (0.2.5)\n",
      "Requirement already satisfied: albumentations>=1.0.0 in /opt/homebrew/lib/python3.11/site-packages (from nougat-ocr) (1.3.1)\n",
      "Requirement already satisfied: pypdf>=3.1.0 in /opt/homebrew/lib/python3.11/site-packages (from nougat-ocr) (4.0.1)\n",
      "Requirement already satisfied: pypdfium2 in /opt/homebrew/lib/python3.11/site-packages (from nougat-ocr) (4.26.0)\n",
      "Requirement already satisfied: torch>=1.4 in /opt/homebrew/lib/python3.11/site-packages (from timm==0.5.4->nougat-ocr) (2.2.0)\n",
      "Requirement already satisfied: torchvision in /opt/homebrew/lib/python3.11/site-packages (from timm==0.5.4->nougat-ocr) (0.17.0)\n",
      "Requirement already satisfied: numpy>=1.11.1 in /opt/homebrew/lib/python3.11/site-packages (from albumentations>=1.0.0->nougat-ocr) (1.24.3)\n",
      "Requirement already satisfied: scipy>=1.1.0 in /opt/homebrew/lib/python3.11/site-packages (from albumentations>=1.0.0->nougat-ocr) (1.11.4)\n",
      "Requirement already satisfied: scikit-image>=0.16.1 in /opt/homebrew/lib/python3.11/site-packages (from albumentations>=1.0.0->nougat-ocr) (0.22.0)\n",
      "Requirement already satisfied: PyYAML in /opt/homebrew/lib/python3.11/site-packages (from albumentations>=1.0.0->nougat-ocr) (6.0.1)\n",
      "Requirement already satisfied: qudida>=0.0.4 in /opt/homebrew/lib/python3.11/site-packages (from albumentations>=1.0.0->nougat-ocr) (0.0.4)\n",
      "Requirement already satisfied: fsspec<2025.0,>=2022.5.0 in /opt/homebrew/lib/python3.11/site-packages (from fsspec[http]<2025.0,>=2022.5.0->lightning<2022,>=2.0.0->nougat-ocr) (2023.10.0)\n",
      "Requirement already satisfied: lightning-utilities<2.0,>=0.8.0 in /opt/homebrew/lib/python3.11/site-packages (from lightning<2022,>=2.0.0->nougat-ocr) (0.10.1)\n",
      "Requirement already satisfied: packaging<25.0,>=20.0 in /opt/homebrew/lib/python3.11/site-packages (from lightning<2022,>=2.0.0->nougat-ocr) (23.2)\n",
      "Requirement already satisfied: torchmetrics<3.0,>=0.7.0 in /opt/homebrew/lib/python3.11/site-packages (from lightning<2022,>=2.0.0->nougat-ocr) (1.3.0.post0)\n",
      "Requirement already satisfied: tqdm<6.0,>=4.57.0 in /opt/homebrew/lib/python3.11/site-packages (from lightning<2022,>=2.0.0->nougat-ocr) (4.66.1)\n",
      "Requirement already satisfied: typing-extensions<6.0,>=4.0.0 in /opt/homebrew/lib/python3.11/site-packages (from lightning<2022,>=2.0.0->nougat-ocr) (4.8.0)\n",
      "Requirement already satisfied: pytorch-lightning in /opt/homebrew/lib/python3.11/site-packages (from lightning<2022,>=2.0.0->nougat-ocr) (2.1.3)\n",
      "Requirement already satisfied: ruamel.yaml in /opt/homebrew/lib/python3.11/site-packages (from sconf>=0.2.3->nougat-ocr) (0.18.5)\n",
      "Requirement already satisfied: munch in /opt/homebrew/lib/python3.11/site-packages (from sconf>=0.2.3->nougat-ocr) (4.0.0)\n",
      "Requirement already satisfied: filelock in /opt/homebrew/lib/python3.11/site-packages (from transformers>=4.25.1->nougat-ocr) (3.13.1)\n",
      "Requirement already satisfied: huggingface-hub<1.0,>=0.14.1 in /opt/homebrew/lib/python3.11/site-packages (from transformers>=4.25.1->nougat-ocr) (0.20.1)\n",
      "Requirement already satisfied: regex!=2019.12.17 in /opt/homebrew/lib/python3.11/site-packages (from transformers>=4.25.1->nougat-ocr) (2023.12.25)\n",
      "Requirement already satisfied: requests in /opt/homebrew/lib/python3.11/site-packages (from transformers>=4.25.1->nougat-ocr) (2.31.0)\n",
      "Requirement already satisfied: tokenizers!=0.11.3,<0.14,>=0.11.1 in /opt/homebrew/lib/python3.11/site-packages (from transformers>=4.25.1->nougat-ocr) (0.13.3)\n",
      "Requirement already satisfied: safetensors>=0.3.1 in /opt/homebrew/lib/python3.11/site-packages (from transformers>=4.25.1->nougat-ocr) (0.4.1)\n",
      "Requirement already satisfied: pyarrow>=8.0.0 in /opt/homebrew/lib/python3.11/site-packages (from datasets[vision]->nougat-ocr) (14.0.1)\n",
      "Requirement already satisfied: pyarrow-hotfix in /opt/homebrew/lib/python3.11/site-packages (from datasets[vision]->nougat-ocr) (0.6)\n",
      "Requirement already satisfied: dill<0.3.8,>=0.3.0 in /opt/homebrew/lib/python3.11/site-packages (from datasets[vision]->nougat-ocr) (0.3.7)\n",
      "Requirement already satisfied: pandas in /opt/homebrew/lib/python3.11/site-packages (from datasets[vision]->nougat-ocr) (1.5.3)\n",
      "Requirement already satisfied: xxhash in /opt/homebrew/lib/python3.11/site-packages (from datasets[vision]->nougat-ocr) (3.4.1)\n",
      "Requirement already satisfied: multiprocess in /opt/homebrew/lib/python3.11/site-packages (from datasets[vision]->nougat-ocr) (0.70.15)\n",
      "Requirement already satisfied: aiohttp in /opt/homebrew/lib/python3.11/site-packages (from datasets[vision]->nougat-ocr) (3.9.1)\n",
      "Requirement already satisfied: Pillow>=6.2.1 in /opt/homebrew/lib/python3.11/site-packages (from datasets[vision]->nougat-ocr) (10.1.0)\n",
      "Requirement already satisfied: click in /opt/homebrew/lib/python3.11/site-packages (from nltk->nougat-ocr) (8.1.7)\n",
      "Requirement already satisfied: joblib in /opt/homebrew/lib/python3.11/site-packages (from nltk->nougat-ocr) (1.3.2)\n",
      "Requirement already satisfied: Levenshtein==0.24.0 in /opt/homebrew/lib/python3.11/site-packages (from python-Levenshtein->nougat-ocr) (0.24.0)\n",
      "Requirement already satisfied: rapidfuzz<4.0.0,>=3.1.0 in /opt/homebrew/lib/python3.11/site-packages (from Levenshtein==0.24.0->python-Levenshtein->nougat-ocr) (3.6.1)\n",
      "Requirement already satisfied: attrs>=17.3.0 in /opt/homebrew/lib/python3.11/site-packages (from aiohttp->datasets[vision]->nougat-ocr) (23.1.0)\n",
      "Requirement already satisfied: multidict<7.0,>=4.5 in /opt/homebrew/lib/python3.11/site-packages (from aiohttp->datasets[vision]->nougat-ocr) (6.0.4)\n",
      "Requirement already satisfied: yarl<2.0,>=1.0 in /opt/homebrew/lib/python3.11/site-packages (from aiohttp->datasets[vision]->nougat-ocr) (1.9.4)\n",
      "Requirement already satisfied: frozenlist>=1.1.1 in /opt/homebrew/lib/python3.11/site-packages (from aiohttp->datasets[vision]->nougat-ocr) (1.4.1)\n",
      "Requirement already satisfied: aiosignal>=1.1.2 in /opt/homebrew/lib/python3.11/site-packages (from aiohttp->datasets[vision]->nougat-ocr) (1.3.1)\n",
      "Requirement already satisfied: setuptools in /opt/homebrew/lib/python3.11/site-packages (from lightning-utilities<2.0,>=0.8.0->lightning<2022,>=2.0.0->nougat-ocr) (68.2.2)\n",
      "Requirement already satisfied: scikit-learn>=0.19.1 in /opt/homebrew/lib/python3.11/site-packages (from qudida>=0.0.4->albumentations>=1.0.0->nougat-ocr) (1.3.2)\n",
      "Requirement already satisfied: charset-normalizer<4,>=2 in /opt/homebrew/lib/python3.11/site-packages (from requests->transformers>=4.25.1->nougat-ocr) (3.3.2)\n",
      "Requirement already satisfied: idna<4,>=2.5 in /opt/homebrew/lib/python3.11/site-packages (from requests->transformers>=4.25.1->nougat-ocr) (3.6)\n",
      "Requirement already satisfied: urllib3<3,>=1.21.1 in /opt/homebrew/lib/python3.11/site-packages (from requests->transformers>=4.25.1->nougat-ocr) (2.0.7)\n",
      "Requirement already satisfied: certifi>=2017.4.17 in /opt/homebrew/lib/python3.11/site-packages (from requests->transformers>=4.25.1->nougat-ocr) (2023.11.17)\n",
      "Requirement already satisfied: networkx>=2.8 in /opt/homebrew/lib/python3.11/site-packages (from scikit-image>=0.16.1->albumentations>=1.0.0->nougat-ocr) (2.8)\n",
      "Requirement already satisfied: imageio>=2.27 in /opt/homebrew/lib/python3.11/site-packages (from scikit-image>=0.16.1->albumentations>=1.0.0->nougat-ocr) (2.33.1)\n",
      "Requirement already satisfied: tifffile>=2022.8.12 in /opt/homebrew/lib/python3.11/site-packages (from scikit-image>=0.16.1->albumentations>=1.0.0->nougat-ocr) (2024.1.30)\n",
      "Requirement already satisfied: lazy_loader>=0.3 in /opt/homebrew/lib/python3.11/site-packages (from scikit-image>=0.16.1->albumentations>=1.0.0->nougat-ocr) (0.3)\n",
      "Requirement already satisfied: sympy in /opt/homebrew/lib/python3.11/site-packages (from torch>=1.4->timm==0.5.4->nougat-ocr) (1.12)\n",
      "Requirement already satisfied: jinja2 in /opt/homebrew/lib/python3.11/site-packages (from torch>=1.4->timm==0.5.4->nougat-ocr) (3.1.2)\n",
      "Requirement already satisfied: python-dateutil>=2.8.1 in /opt/homebrew/lib/python3.11/site-packages (from pandas->datasets[vision]->nougat-ocr) (2.8.2)\n",
      "Requirement already satisfied: pytz>=2020.1 in /opt/homebrew/lib/python3.11/site-packages (from pandas->datasets[vision]->nougat-ocr) (2023.3.post1)\n",
      "Requirement already satisfied: ruamel.yaml.clib>=0.2.7 in /opt/homebrew/lib/python3.11/site-packages (from ruamel.yaml->sconf>=0.2.3->nougat-ocr) (0.2.8)\n",
      "Requirement already satisfied: six>=1.5 in /opt/homebrew/lib/python3.11/site-packages (from python-dateutil>=2.8.1->pandas->datasets[vision]->nougat-ocr) (1.16.0)\n",
      "Requirement already satisfied: threadpoolctl>=2.0.0 in /opt/homebrew/lib/python3.11/site-packages (from scikit-learn>=0.19.1->qudida>=0.0.4->albumentations>=1.0.0->nougat-ocr) (3.2.0)\n",
      "Requirement already satisfied: MarkupSafe>=2.0 in /opt/homebrew/lib/python3.11/site-packages (from jinja2->torch>=1.4->timm==0.5.4->nougat-ocr) (2.1.3)\n",
      "Requirement already satisfied: mpmath>=0.19 in /opt/homebrew/lib/python3.11/site-packages (from sympy->torch>=1.4->timm==0.5.4->nougat-ocr) (1.3.0)\n"
     ]
    }
   ],
   "source": [
    "!pip install nougat-ocr"
   ]
  },
  {
   "cell_type": "code",
   "execution_count": 151,
   "metadata": {},
   "outputs": [
    {
     "name": "stdout",
     "output_type": "stream",
     "text": [
      "/opt/homebrew/lib/python3.11/site-packages/torch/functional.py:507: UserWarning: torch.meshgrid: in an upcoming release, it will be required to pass the indexing argument. (Triggered internally at /Users/runner/work/pytorch/pytorch/pytorch/aten/src/ATen/native/TensorShape.cpp:3550.)\n",
      "  return _VF.meshgrid(tensors, **kwargs)  # type: ignore[attr-defined]\n",
      "  0%|                                                     | 0/7 [00:00<?, ?it/s]/opt/homebrew/lib/python3.11/site-packages/nougat/model.py:437: UserWarning: var(): degrees of freedom is <= 0. Correction should be strictly less than the reduction factor (input numel divided by output numel). (Triggered internally at /Users/runner/work/pytorch/pytorch/pytorch/aten/src/ATen/native/ReduceOps.cpp:1760.)\n",
      "  return torch.var(self.values, 1) / self.values.shape[1]\n",
      "INFO:root:Processing file Ad Repository API.pdf with 25 pages\n",
      " 29%|████████████▌                               | 2/7 [03:49<09:53, 118.73s/it]WARNING:root:Found repetitions in sample 3\n",
      " 43%|██████████████████▊                         | 3/7 [09:09<14:03, 210.90s/it]"
     ]
    }
   ],
   "source": [
    "!nougat 'Ad Repository API.pdf' -o ."
   ]
  },
  {
   "cell_type": "code",
   "execution_count": 11,
   "metadata": {},
   "outputs": [
    {
     "name": "stdout",
     "output_type": "stream",
     "text": [
      "downloading nougat checkpoint version 0.1.0-small to path /Users/flowstatic/.cache/torch/hub/nougat-0.1.0-small\n",
      "config.json: 100%|██████████████████████████████| 557/557 [00:00<00:00, 303kb/s]\n",
      "pytorch_model.bin: 100%|█████████████████████| 956M/956M [00:29<00:00, 33.4Mb/s]\n",
      "special_tokens_map.json: 100%|████████████████| 96.0/96.0 [00:00<00:00, 320kb/s]\n",
      "tokenizer.json: 100%|██████████████████████| 2.04M/2.04M [00:00<00:00, 13.9Mb/s]\n",
      "tokenizer_config.json: 100%|████████████████████| 106/106 [00:00<00:00, 226kb/s]\n",
      "/opt/homebrew/lib/python3.11/site-packages/torch/functional.py:507: UserWarning: torch.meshgrid: in an upcoming release, it will be required to pass the indexing argument. (Triggered internally at /Users/runner/work/pytorch/pytorch/pytorch/aten/src/ATen/native/TensorShape.cpp:3550.)\n",
      "  return _VF.meshgrid(tensors, **kwargs)  # type: ignore[attr-defined]\n",
      "  0%|                                                     | 0/7 [00:00<?, ?it/s]/opt/homebrew/lib/python3.11/site-packages/nougat/model.py:437: UserWarning: var(): degrees of freedom is <= 0. Correction should be strictly less than the reduction factor (input numel divided by output numel). (Triggered internally at /Users/runner/work/pytorch/pytorch/pytorch/aten/src/ATen/native/ReduceOps.cpp:1760.)\n",
      "  return torch.var(self.values, 1) / self.values.shape[1]\n",
      "WARNING:root:Found repetitions in sample 0\n",
      "[nltk_data] Downloading package words to\n",
      "[nltk_data]     /Users/flowstatic/nltk_data...\n",
      "[nltk_data]   Unzipping corpora/words.zip.\n",
      "INFO: likely hallucinated title at the end of the page: #### 1.1.7 Conclusion\n",
      "INFO:root:Processing file EU Store Transparency Report.pdf with 26 pages\n",
      " 14%|██████▎                                     | 1/7 [02:37<15:47, 157.96s/it]WARNING:root:Found repetitions in sample 0\n",
      "WARNING:root:Found repetitions in sample 1\n",
      " 43%|██████████████████▊                         | 3/7 [06:34<07:59, 119.93s/it]INFO: likely hallucinated title at the end of the page: ## Appendix B\n",
      " 57%|█████████████████████████▏                  | 4/7 [08:42<06:09, 123.16s/it]WARNING:root:Found repetitions in sample 0\n",
      "WARNING:root:Found repetitions in sample 1\n",
      "WARNING:root:Found repetitions in sample 2\n",
      "INFO: likely hallucinated title at the end of the page: ### Regulatory contacts received by EU Member State\n",
      "WARNING:root:Skipping page 17 due to repetitions.\n",
      " 86%|█████████████████████████████████████▋      | 6/7 [12:44<02:00, 120.09s/it]WARNING:root:Found repetitions in sample 1\n",
      "100%|████████████████████████████████████████████| 7/7 [19:06<00:00, 163.85s/it]\n",
      "-> Cannot close object, library is destroyed. This may cause a memory leak!\n"
     ]
    }
   ],
   "source": [
    "!nougat 'EU Store Transparency Report.pdf' -o ."
   ]
  }
 ],
 "metadata": {
  "kernelspec": {
   "display_name": "Python 3",
   "language": "python",
   "name": "python3"
  },
  "language_info": {
   "codemirror_mode": {
    "name": "ipython",
    "version": 3
   },
   "file_extension": ".py",
   "mimetype": "text/x-python",
   "name": "python",
   "nbconvert_exporter": "python",
   "pygments_lexer": "ipython3",
   "version": "3.11.6"
  }
 },
 "nbformat": 4,
 "nbformat_minor": 2
}
