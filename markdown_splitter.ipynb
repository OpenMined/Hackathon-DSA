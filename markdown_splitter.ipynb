{
 "cells": [
  {
   "cell_type": "code",
   "execution_count": 1,
   "metadata": {},
   "outputs": [],
   "source": [
    "from pathlib import Path\n",
    "\n",
    "SNAPSHOTS_DIR = Path(\"data/platform-docs-snapshots/\")\n",
    "VERSIONS_DIR = Path(\"data/platform-docs-versions-english/\")\n",
    "\n",
    "from langchain_community.document_loaders import UnstructuredMarkdownLoader, DirectoryLoader, TextLoader\n",
    "from langchain.text_splitter import RecursiveCharacterTextSplitter\n",
    "\n",
    "docs = DirectoryLoader(VERSIONS_DIR, glob=\"[!.]*/[!.]*.md\", loader_cls=TextLoader).load()\n",
    "docs = [d for d in docs if Path(d.metadata['source']) != VERSIONS_DIR / \"README.md\"]"
   ]
  },
  {
   "cell_type": "code",
   "execution_count": 5,
   "metadata": {},
   "outputs": [],
   "source": [
    "doc = docs[0]"
   ]
  },
  {
   "cell_type": "code",
   "execution_count": 7,
   "metadata": {},
   "outputs": [
    {
     "data": {
      "text/plain": [
       "'{\"page_content\": \"Pinterest has a longstanding commitment to creating a safe and positive place online. \\\\u00a0We continually invest in our policies, products and partnerships to support the safety and wellbeing of our community because it\\\\u2019s the right thing for the people on our platform, and we view the Digital Services Act (DSA) as a continuation of our commitment to making Pinterest an inspiring and welcoming place for everyone.\\\\n\\\\nThe DSA is a uniform legal framework for providers of digital services in the European Union (EU). \\\\u00a0In order to create a safe, predictable, and trustworthy online environment, the DSA aims to create a single set of rules across the EU\\\\u2019s Member States governing the transparency and accountability obligations of online platforms.\\\\n\\\\nIf there is content on Pinterest you think may be illegal under EU law, you can report it by using our in-product reporting features or by using the following form: https://pinterest.com/about/dsa/.\\\\n\\\\nInformation on Users in the EU\\\\n\\\\nUnder Article 24(2) of the DSA, online platforms are required to publish information on the average monthly active recipients of their service in the EU every six months. This requirement is for the purpose of determining whether an online platform is a \\\\u201cVery Large Online Platform\\\\u201d (VLOP), which the DSA defines as having at least 45 million monthly active users in the EU. We have calculated that in the period of January through June 2023, Pinterest was over the 45 million monthly active user threshold for being considered a VLOP. We define a monthly active user as an authenticated Pinterest user who visits our website, opens our mobile application or interacts with Pinterest through one of our browser or site extensions, such as the Save button, at least once during this period.\\\\n\\\\nConsistent with Article 24(2), we will publish updated information in February 2024.\\\\n\\\\nSingle Point of Contact\\\\n\\\\nArticles 11 and 12 of the DSA require online platforms to designate a single point of contact to enable direct communication with users in the EU, the European Commission, EU Member States\\\\u2019 authorities, and the European Board for Digital Services regarding the application of the DSA.\\\\n\\\\nThese parties may contact Pinterest regarding the DSA at dsa-poc \\\\\\\\[at\\\\\\\\] pinterest.com (dsa-poc\\\\\\\\[at\\\\\\\\]pinterest\\\\\\\\[dot\\\\\\\\]com).\\\\u00a0 Communications with this email address can be in the English language, but if necessary, we will work with you to accommodate communication in another language.\\\\n\\\\nIf you believe that content on Pinterest is illegal in the European Union or in violation of Pinterest\\'s Community Guidelines, reporting directly through the Pinterest platform is the most efficient way for Pinterest to quickly review the material. And if you have an inquiry that is not related to the DSA, please look for the right point of contact in our Help Center.\\\\n\\\\nDisputes About User Content and Accounts\\\\n\\\\nThe DSA provides opportunities to dispute the decisions that online platforms make about content and user accounts. If you believe we\\'ve mistakenly taken action on your account or reported content, you can appeal our decision within six months by visiting our Reports and Violations Center.\\\\u00a0\\\\n\\\\nIn addition, you can contact a certified out-of-court dispute settlement body to help resolve any dispute with us relating to our actions on your account or reported content, including if you disagree with the outcome of an appeal. The European Commission will maintain a website listing the available settlement bodies as they become certified. Decisions by out-of-court dispute settlement bodies are not binding on you or on Pinterest.\\\\n\\\\nTransparency report\\\\n\\\\nOur DSA transparency report can be found on our Policy site. This report includes data for content, users, and reporters from across the EU member states. Within and beyond the framework of the DSA, Pinterest will continue to work on ways to provide a positive experience, give people more control, and build on our transparency measures to further our goal of creating a safe and positive space online.\", \"metadata\": {\"source\": \"data/platform-docs-versions-english/Pinterest_DSA-Home-Page/DSA-Home-Page.md\"}, \"type\": \"Document\"}'"
      ]
     },
     "execution_count": 7,
     "metadata": {},
     "output_type": "execute_result"
    }
   ],
   "source": [
    "doc.json()"
   ]
  },
  {
   "cell_type": "code",
   "execution_count": 11,
   "metadata": {},
   "outputs": [
    {
     "name": "stdout",
     "output_type": "stream",
     "text": [
      "\n",
      "This is a document\n",
      "\n",
      "# Heading 1\n",
      "\n",
      "Some text under heading 1.\n",
      "\n",
      "## Heading 2\n",
      "\n",
      "Some text under heading 2.\n",
      "\n",
      "## Another Heading | With Pipe\n",
      "\n",
      "# heading\n",
      "\n",
      "## heading\n",
      "\n",
      "### heading\n",
      "\n",
      "| Table |\n",
      "|-------|\n",
      "| Value |\n",
      "\n"
     ]
    }
   ],
   "source": [
    "import re\n",
    "\n",
    "def replace_alternate_headings(text):\n",
    "    lines = text.split('\\n')\n",
    "    new_lines = []\n",
    "    i = 0\n",
    "    while i < len(lines):\n",
    "        if i + 1 < len(lines) and lines[i].strip():\n",
    "            # '=' underline headings\n",
    "            if re.match(r'^=+$', lines[i + 1]):\n",
    "                new_lines.append(f'# {lines[i]}')\n",
    "                i += 2\n",
    "                continue\n",
    "            # '-' underline headings\n",
    "            elif re.match(r'^-+$', lines[i + 1]):\n",
    "                new_lines.append(f'## {lines[i]}')\n",
    "                i += 2\n",
    "                continue\n",
    "        new_lines.append(lines[i])\n",
    "        i += 1\n",
    "    return '\\n'.join(new_lines)\n",
    "\n",
    "markdown_text = \"\"\"\n",
    "This is a document\n",
    "\n",
    "Heading 1\n",
    "=========\n",
    "\n",
    "Some text under heading 1.\n",
    "\n",
    "Heading 2\n",
    "---------\n",
    "\n",
    "Some text under heading 2.\n",
    "\n",
    "Another Heading | With Pipe\n",
    "----------------------------\n",
    "\n",
    "# heading\n",
    "\n",
    "## heading\n",
    "\n",
    "### heading\n",
    "\n",
    "| Table |\n",
    "|-------|\n",
    "| Value |\n",
    "\"\"\"\n",
    "\n",
    "new_markdown = replace_alternate_headings(markdown_text)\n",
    "print(new_markdown)"
   ]
  },
  {
   "cell_type": "code",
   "execution_count": 22,
   "metadata": {},
   "outputs": [
    {
     "name": "stdout",
     "output_type": "stream",
     "text": [
      "Source location: \n",
      "Content: \n",
      "This is a document\n",
      "\n",
      "Source location: H1: Heading 1; \n",
      "Content: \n",
      "# Heading 1  \n",
      "Some text under heading 1.\n",
      "\n",
      "Source location: H1: Heading 1; H2: Heading 2; \n",
      "Content: \n",
      "## Heading 2  \n",
      "Some text under heading 2.\n",
      "\n",
      "Source location: H1: Heading 1; H2: Another Heading | With Pipe; \n",
      "Content: \n",
      "## Another Heading | With Pipe\n",
      "\n",
      "Source location: H1: heading; H2: heading; H3: heading; \n",
      "Content: \n",
      "# heading  \n",
      "## heading  \n",
      "### heading  \n",
      "| Table |\n",
      "|-------|\n",
      "| Value |\n",
      "\n"
     ]
    },
    {
     "data": {
      "text/plain": [
       "5"
      ]
     },
     "execution_count": 22,
     "metadata": {},
     "output_type": "execute_result"
    }
   ],
   "source": [
    "from langchain.text_splitter import MarkdownHeaderTextSplitter\n",
    "\n",
    "headers_to_split = [(\"#\", \"H1\"),(\"##\", \"H2\"), ('###', \"H3\")]\n",
    "#replace_alternate_headings(docs[100].page_content)\n",
    "\n",
    "markdown_splitter = MarkdownHeaderTextSplitter(\n",
    "    headers_to_split_on=headers_to_split, strip_headers=False\n",
    ")\n",
    "md_header_splits = markdown_splitter.split_text(new_markdown)\n",
    "filtered_header_splits = []\n",
    "for d in md_header_splits:\n",
    "    if len(d.page_content) == 0:\n",
    "        continue\n",
    "\n",
    "    # source = \"Source document\" + d.source.split('/')[-1] + '\\n'\n",
    "    hierarchy = \"Source location: \" \n",
    "    for k, v in d.metadata.items():\n",
    "        if k.startswith('H'):\n",
    "            hierarchy = hierarchy + f\"{k}: {v}; \"\n",
    "\n",
    "    content = \"Content: \\n\" + d.page_content  + '\\n'\n",
    "     \n",
    "    all = hierarchy + \"\\n\" + content\n",
    "\n",
    "    print(all)\n",
    "\n",
    "len(md_header_splits)"
   ]
  }
 ],
 "metadata": {
  "kernelspec": {
   "display_name": "Python 3",
   "language": "python",
   "name": "python3"
  },
  "language_info": {
   "codemirror_mode": {
    "name": "ipython",
    "version": 3
   },
   "file_extension": ".py",
   "mimetype": "text/x-python",
   "name": "python",
   "nbconvert_exporter": "python",
   "pygments_lexer": "ipython3",
   "version": "3.11.6"
  }
 },
 "nbformat": 4,
 "nbformat_minor": 2
}
